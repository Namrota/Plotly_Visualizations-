{
 "cells": [
  {
   "cell_type": "code",
   "execution_count": 208,
   "id": "982686ee",
   "metadata": {},
   "outputs": [],
   "source": [
    "# importing libraries:\n",
    "\n",
    "import numpy as np\n",
    "import plotly.graph_objects as go # graph objects\n",
    "import plotly.offline as pyo  # to save the visualization in HTML format\n",
    "\n",
    "# Alternative of plotly.offline\n",
    "import plotly.io as pio"
   ]
  },
  {
   "cell_type": "markdown",
   "id": "a3f0ec4a",
   "metadata": {},
   "source": [
    "## Loading the datasets"
   ]
  },
  {
   "cell_type": "code",
   "execution_count": 209,
   "id": "91e12bb5",
   "metadata": {},
   "outputs": [],
   "source": [
    "import pandas as pd\n",
    "\n",
    "url = \"https://raw.githubusercontent.com/dspiegel29/ArtofStatistics/master/00-1-age-and-year-of-deathofharold-shipmans-victims/00-1-shipman-confirmed-victims-x.csv\"\n",
    "\n",
    "shipman_victims = pd.read_csv(url) #dataset that has the records of all the victims\n",
    "\n",
    "# dataset with records of the hours of shipman's patients and other local family doctor\n",
    "shipman_times = pd.read_csv('https://raw.githubusercontent.com/dspiegel29/ArtofStatistics/master/00-2-shipman-times/00-2-shipman-times-x.csv')\n"
   ]
  },
  {
   "cell_type": "markdown",
   "id": "fac8937a",
   "metadata": {},
   "source": [
    "## Exploring the datasets"
   ]
  },
  {
   "cell_type": "code",
   "execution_count": 210,
   "id": "3bfe1b88",
   "metadata": {},
   "outputs": [
    {
     "data": {
      "text/html": [
       "<div>\n",
       "<style scoped>\n",
       "    .dataframe tbody tr th:only-of-type {\n",
       "        vertical-align: middle;\n",
       "    }\n",
       "\n",
       "    .dataframe tbody tr th {\n",
       "        vertical-align: top;\n",
       "    }\n",
       "\n",
       "    .dataframe thead th {\n",
       "        text-align: right;\n",
       "    }\n",
       "</style>\n",
       "<table border=\"1\" class=\"dataframe\">\n",
       "  <thead>\n",
       "    <tr style=\"text-align: right;\">\n",
       "      <th></th>\n",
       "      <th>DateofDeath</th>\n",
       "      <th>Name</th>\n",
       "      <th>Age</th>\n",
       "      <th>PlaceofDeath</th>\n",
       "      <th>Decision</th>\n",
       "      <th>yearOfDeath</th>\n",
       "      <th>gender</th>\n",
       "      <th>fractionalDeathYear</th>\n",
       "      <th>ageBracket</th>\n",
       "      <th>gender2</th>\n",
       "    </tr>\n",
       "  </thead>\n",
       "  <tbody>\n",
       "    <tr>\n",
       "      <th>0</th>\n",
       "      <td>17-Mar-75</td>\n",
       "      <td>Eva Lyons</td>\n",
       "      <td>70</td>\n",
       "      <td>Own home</td>\n",
       "      <td>Unlawful killing</td>\n",
       "      <td>1975</td>\n",
       "      <td>0</td>\n",
       "      <td>1974.71</td>\n",
       "      <td>70-74</td>\n",
       "      <td>Women</td>\n",
       "    </tr>\n",
       "    <tr>\n",
       "      <th>1</th>\n",
       "      <td>07-Aug-78</td>\n",
       "      <td>Sarah Hannah Marsland</td>\n",
       "      <td>86</td>\n",
       "      <td>Own home</td>\n",
       "      <td>Unlawful killing</td>\n",
       "      <td>1978</td>\n",
       "      <td>0</td>\n",
       "      <td>1978.10</td>\n",
       "      <td>85-89</td>\n",
       "      <td>Women</td>\n",
       "    </tr>\n",
       "    <tr>\n",
       "      <th>2</th>\n",
       "      <td>30-Aug-78</td>\n",
       "      <td>Mary Ellen Jordan</td>\n",
       "      <td>73</td>\n",
       "      <td>Own home</td>\n",
       "      <td>Unlawful killing</td>\n",
       "      <td>1978</td>\n",
       "      <td>0</td>\n",
       "      <td>1978.16</td>\n",
       "      <td>70-74</td>\n",
       "      <td>Women</td>\n",
       "    </tr>\n",
       "    <tr>\n",
       "      <th>3</th>\n",
       "      <td>07-Dec-78</td>\n",
       "      <td>Harold Bramwell</td>\n",
       "      <td>73</td>\n",
       "      <td>Own home</td>\n",
       "      <td>Unlawful killing</td>\n",
       "      <td>1978</td>\n",
       "      <td>1</td>\n",
       "      <td>1978.44</td>\n",
       "      <td>70-74</td>\n",
       "      <td>Men</td>\n",
       "    </tr>\n",
       "    <tr>\n",
       "      <th>4</th>\n",
       "      <td>20-Dec-78</td>\n",
       "      <td>Annie Campbell</td>\n",
       "      <td>88</td>\n",
       "      <td>Own home</td>\n",
       "      <td>Unlawful killing</td>\n",
       "      <td>1978</td>\n",
       "      <td>0</td>\n",
       "      <td>1978.47</td>\n",
       "      <td>85-89</td>\n",
       "      <td>Women</td>\n",
       "    </tr>\n",
       "  </tbody>\n",
       "</table>\n",
       "</div>"
      ],
      "text/plain": [
       "  DateofDeath                   Name  Age PlaceofDeath          Decision  \\\n",
       "0   17-Mar-75              Eva Lyons   70     Own home  Unlawful killing   \n",
       "1   07-Aug-78  Sarah Hannah Marsland   86     Own home  Unlawful killing   \n",
       "2   30-Aug-78      Mary Ellen Jordan   73     Own home  Unlawful killing   \n",
       "3   07-Dec-78        Harold Bramwell   73     Own home  Unlawful killing   \n",
       "4   20-Dec-78         Annie Campbell   88     Own home  Unlawful killing   \n",
       "\n",
       "   yearOfDeath  gender  fractionalDeathYear ageBracket gender2  \n",
       "0         1975       0              1974.71      70-74   Women  \n",
       "1         1978       0              1978.10      85-89   Women  \n",
       "2         1978       0              1978.16      70-74   Women  \n",
       "3         1978       1              1978.44      70-74     Men  \n",
       "4         1978       0              1978.47      85-89   Women  "
      ]
     },
     "execution_count": 210,
     "metadata": {},
     "output_type": "execute_result"
    }
   ],
   "source": [
    "# Shipman Victim's Record:\n",
    "\n",
    "shipman_victims.head()"
   ]
  },
  {
   "cell_type": "code",
   "execution_count": 211,
   "id": "fb294513",
   "metadata": {},
   "outputs": [
    {
     "data": {
      "text/plain": [
       "(215, 10)"
      ]
     },
     "execution_count": 211,
     "metadata": {},
     "output_type": "execute_result"
    }
   ],
   "source": [
    "shipman_victims.shape"
   ]
  },
  {
   "cell_type": "code",
   "execution_count": 212,
   "id": "c0a7e3f8",
   "metadata": {},
   "outputs": [
    {
     "data": {
      "text/html": [
       "<div>\n",
       "<style scoped>\n",
       "    .dataframe tbody tr th:only-of-type {\n",
       "        vertical-align: middle;\n",
       "    }\n",
       "\n",
       "    .dataframe tbody tr th {\n",
       "        vertical-align: top;\n",
       "    }\n",
       "\n",
       "    .dataframe thead th {\n",
       "        text-align: right;\n",
       "    }\n",
       "</style>\n",
       "<table border=\"1\" class=\"dataframe\">\n",
       "  <thead>\n",
       "    <tr style=\"text-align: right;\">\n",
       "      <th></th>\n",
       "      <th>Hour</th>\n",
       "      <th>Shipman</th>\n",
       "      <th>Comparison</th>\n",
       "    </tr>\n",
       "  </thead>\n",
       "  <tbody>\n",
       "    <tr>\n",
       "      <th>0</th>\n",
       "      <td>0</td>\n",
       "      <td>2.6</td>\n",
       "      <td>1.1</td>\n",
       "    </tr>\n",
       "    <tr>\n",
       "      <th>1</th>\n",
       "      <td>1</td>\n",
       "      <td>1.0</td>\n",
       "      <td>3.0</td>\n",
       "    </tr>\n",
       "    <tr>\n",
       "      <th>2</th>\n",
       "      <td>2</td>\n",
       "      <td>2.6</td>\n",
       "      <td>3.1</td>\n",
       "    </tr>\n",
       "    <tr>\n",
       "      <th>3</th>\n",
       "      <td>3</td>\n",
       "      <td>3.0</td>\n",
       "      <td>3.8</td>\n",
       "    </tr>\n",
       "    <tr>\n",
       "      <th>4</th>\n",
       "      <td>4</td>\n",
       "      <td>0.3</td>\n",
       "      <td>4.0</td>\n",
       "    </tr>\n",
       "  </tbody>\n",
       "</table>\n",
       "</div>"
      ],
      "text/plain": [
       "   Hour  Shipman  Comparison\n",
       "0     0      2.6         1.1\n",
       "1     1      1.0         3.0\n",
       "2     2      2.6         3.1\n",
       "3     3      3.0         3.8\n",
       "4     4      0.3         4.0"
      ]
     },
     "execution_count": 212,
     "metadata": {},
     "output_type": "execute_result"
    }
   ],
   "source": [
    "shipman_times.head()"
   ]
  },
  {
   "cell_type": "code",
   "execution_count": 213,
   "id": "c03acdfa",
   "metadata": {},
   "outputs": [
    {
     "data": {
      "text/plain": [
       "(24, 3)"
      ]
     },
     "execution_count": 213,
     "metadata": {},
     "output_type": "execute_result"
    }
   ],
   "source": [
    "# Record of the hours of death:\n",
    "\n",
    "shipman_times.shape"
   ]
  },
  {
   "cell_type": "code",
   "execution_count": 214,
   "id": "d6dae100",
   "metadata": {},
   "outputs": [
    {
     "data": {
      "text/plain": [
       "Index(['DateofDeath', 'Name', 'Age', 'PlaceofDeath', 'Decision', 'yearOfDeath',\n",
       "       'gender', 'fractionalDeathYear', 'ageBracket', 'gender2'],\n",
       "      dtype='object')"
      ]
     },
     "execution_count": 214,
     "metadata": {},
     "output_type": "execute_result"
    }
   ],
   "source": [
    "shipman_victims.columns\n"
   ]
  },
  {
   "cell_type": "code",
   "execution_count": 215,
   "id": "d1fef18c",
   "metadata": {},
   "outputs": [
    {
     "data": {
      "text/plain": [
       "Index(['Hour', 'Shipman', 'Comparison'], dtype='object')"
      ]
     },
     "execution_count": 215,
     "metadata": {},
     "output_type": "execute_result"
    }
   ],
   "source": [
    "shipman_times.columns"
   ]
  },
  {
   "cell_type": "code",
   "execution_count": 216,
   "id": "3874b4f4",
   "metadata": {},
   "outputs": [
    {
     "name": "stdout",
     "output_type": "stream",
     "text": [
      "<class 'pandas.core.frame.DataFrame'>\n",
      "RangeIndex: 215 entries, 0 to 214\n",
      "Data columns (total 10 columns):\n",
      "DateofDeath            215 non-null object\n",
      "Name                   215 non-null object\n",
      "Age                    215 non-null int64\n",
      "PlaceofDeath           215 non-null object\n",
      "Decision               215 non-null object\n",
      "yearOfDeath            215 non-null int64\n",
      "gender                 215 non-null int64\n",
      "fractionalDeathYear    215 non-null float64\n",
      "ageBracket             215 non-null object\n",
      "gender2                215 non-null object\n",
      "dtypes: float64(1), int64(3), object(6)\n",
      "memory usage: 16.9+ KB\n"
     ]
    }
   ],
   "source": [
    "shipman_victims.info()"
   ]
  },
  {
   "cell_type": "code",
   "execution_count": 217,
   "id": "360c5102",
   "metadata": {},
   "outputs": [
    {
     "data": {
      "text/plain": [
       "DateofDeath            0\n",
       "Name                   0\n",
       "Age                    0\n",
       "PlaceofDeath           0\n",
       "Decision               0\n",
       "yearOfDeath            0\n",
       "gender                 0\n",
       "fractionalDeathYear    0\n",
       "ageBracket             0\n",
       "gender2                0\n",
       "dtype: int64"
      ]
     },
     "execution_count": 217,
     "metadata": {},
     "output_type": "execute_result"
    }
   ],
   "source": [
    "shipman_victims.isnull().sum()"
   ]
  },
  {
   "cell_type": "code",
   "execution_count": 218,
   "id": "2db0a28b",
   "metadata": {},
   "outputs": [
    {
     "name": "stdout",
     "output_type": "stream",
     "text": [
      "<class 'pandas.core.frame.DataFrame'>\n",
      "RangeIndex: 24 entries, 0 to 23\n",
      "Data columns (total 3 columns):\n",
      "Hour          24 non-null int64\n",
      "Shipman       24 non-null float64\n",
      "Comparison    24 non-null float64\n",
      "dtypes: float64(2), int64(1)\n",
      "memory usage: 656.0 bytes\n"
     ]
    }
   ],
   "source": [
    "shipman_times.info()"
   ]
  },
  {
   "cell_type": "code",
   "execution_count": 219,
   "id": "db86983a",
   "metadata": {},
   "outputs": [
    {
     "data": {
      "text/plain": [
       "Hour          0\n",
       "Shipman       0\n",
       "Comparison    0\n",
       "dtype: int64"
      ]
     },
     "execution_count": 219,
     "metadata": {},
     "output_type": "execute_result"
    }
   ],
   "source": [
    "shipman_times.isnull().sum()"
   ]
  },
  {
   "cell_type": "code",
   "execution_count": 220,
   "id": "528464bd",
   "metadata": {},
   "outputs": [],
   "source": [
    "# assuming your dataframe is called 'df'\n",
    "# 'DateOfDeath' is object datatype but we will change it to datetime\n",
    "\n",
    "shipman_victims['DateofDeath'] = pd.to_datetime(shipman_victims['DateofDeath'])\n"
   ]
  },
  {
   "cell_type": "code",
   "execution_count": 221,
   "id": "9e7d300b",
   "metadata": {},
   "outputs": [
    {
     "name": "stdout",
     "output_type": "stream",
     "text": [
      "<class 'pandas.core.frame.DataFrame'>\n",
      "RangeIndex: 215 entries, 0 to 214\n",
      "Data columns (total 10 columns):\n",
      "DateofDeath            215 non-null datetime64[ns]\n",
      "Name                   215 non-null object\n",
      "Age                    215 non-null int64\n",
      "PlaceofDeath           215 non-null object\n",
      "Decision               215 non-null object\n",
      "yearOfDeath            215 non-null int64\n",
      "gender                 215 non-null int64\n",
      "fractionalDeathYear    215 non-null float64\n",
      "ageBracket             215 non-null object\n",
      "gender2                215 non-null object\n",
      "dtypes: datetime64[ns](1), float64(1), int64(3), object(5)\n",
      "memory usage: 16.9+ KB\n"
     ]
    }
   ],
   "source": [
    "shipman_victims.info()"
   ]
  },
  {
   "cell_type": "code",
   "execution_count": 222,
   "id": "0dfc0af2",
   "metadata": {},
   "outputs": [
    {
     "name": "stdout",
     "output_type": "stream",
     "text": [
      "<class 'pandas.core.frame.DataFrame'>\n",
      "RangeIndex: 24 entries, 0 to 23\n",
      "Data columns (total 3 columns):\n",
      "Hour          24 non-null int64\n",
      "Shipman       24 non-null float64\n",
      "Comparison    24 non-null float64\n",
      "dtypes: float64(2), int64(1)\n",
      "memory usage: 656.0 bytes\n"
     ]
    }
   ],
   "source": [
    "shipman_times.info()"
   ]
  },
  {
   "cell_type": "code",
   "execution_count": 9,
   "id": "28f8e495",
   "metadata": {},
   "outputs": [
    {
     "data": {
      "text/plain": [
       "array(['Own home', 'Hospital', 'Residential Home', \"Shipman's surgery\",\n",
       "       'Nursing home', 'Residential home'], dtype=object)"
      ]
     },
     "execution_count": 9,
     "metadata": {},
     "output_type": "execute_result"
    }
   ],
   "source": [
    "# Unique values for Place of death:\n",
    "shipman_victims['PlaceofDeath'].unique()"
   ]
  },
  {
   "cell_type": "code",
   "execution_count": 10,
   "id": "2bc8d389",
   "metadata": {},
   "outputs": [
    {
     "data": {
      "text/plain": [
       "array(['Unlawful killing', 'Conviction'], dtype=object)"
      ]
     },
     "execution_count": 10,
     "metadata": {},
     "output_type": "execute_result"
    }
   ],
   "source": [
    "# Unique values for the Decision column:\n",
    "shipman_victims['Decision'].unique()"
   ]
  },
  {
   "cell_type": "markdown",
   "id": "81987c1f",
   "metadata": {},
   "source": [
    "## Data Visualization"
   ]
  },
  {
   "cell_type": "markdown",
   "id": "65d651e7",
   "metadata": {},
   "source": [
    "#### Scatter Plot:"
   ]
  },
  {
   "cell_type": "code",
   "execution_count": 160,
   "id": "813138e0",
   "metadata": {},
   "outputs": [
    {
     "data": {
      "application/vnd.plotly.v1+json": {
       "config": {
        "plotlyServerURL": "https://plot.ly"
       },
       "data": [
        {
         "marker": {
          "color": "rgb(51,51,153)",
          "line": {
           "width": 0.2
          },
          "size": 12
         },
         "mode": "markers",
         "type": "scatter",
         "x": [
          "1975-03-17T00:00:00",
          "1978-08-07T00:00:00",
          "1978-08-30T00:00:00",
          "1978-12-07T00:00:00",
          "1978-12-20T00:00:00",
          "1979-08-10T00:00:00",
          "1979-11-28T00:00:00",
          "1981-04-18T00:00:00",
          "1981-08-26T00:00:00",
          "1983-01-04T00:00:00",
          "1983-06-28T00:00:00",
          "1984-01-07T00:00:00",
          "1984-02-08T00:00:00",
          "1984-04-15T00:00:00",
          "1984-04-24T00:00:00",
          "1984-09-21T00:00:00",
          "1984-11-27T00:00:00",
          "1984-12-17T00:00:00",
          "1984-12-18T00:00:00",
          "1984-12-24T00:00:00",
          "1985-01-02T00:00:00",
          "1985-02-01T00:00:00",
          "1985-02-04T00:00:00",
          "1985-02-15T00:00:00",
          "1985-02-22T00:00:00",
          "1985-06-26T00:00:00",
          "1985-06-26T00:00:00",
          "1985-08-23T00:00:00",
          "1985-12-17T00:00:00",
          "1985-12-20T00:00:00",
          "1985-12-31T00:00:00",
          "1986-01-07T00:00:00",
          "1986-04-23T00:00:00",
          "1986-06-06T00:00:00",
          "1986-09-15T00:00:00",
          "1986-10-07T00:00:00",
          "1986-11-17T00:00:00",
          "1986-12-16T00:00:00",
          "1986-12-23T00:00:00",
          "1987-03-30T00:00:00",
          "1987-04-01T00:00:00",
          "1987-04-16T00:00:00",
          "1987-05-08T00:00:00",
          "1987-09-14T00:00:00",
          "1987-12-11T00:00:00",
          "1987-12-29T00:00:00",
          "1987-12-30T00:00:00",
          "1988-01-05T00:00:00",
          "1988-01-15T00:00:00",
          "1988-02-09T00:00:00",
          "1988-02-15T00:00:00",
          "1988-02-15T00:00:00",
          "1988-02-16T00:00:00",
          "1988-09-18T00:00:00",
          "1988-10-20T00:00:00",
          "1988-11-06T00:00:00",
          "1988-12-17T00:00:00",
          "1988-12-19T00:00:00",
          "1989-01-31T00:00:00",
          "1989-03-08T00:00:00",
          "1989-05-12T00:00:00",
          "1989-06-05T00:00:00",
          "1989-07-06T00:00:00",
          "1989-08-14T00:00:00",
          "1989-09-22T00:00:00",
          "1989-09-26T00:00:00",
          "1989-10-15T00:00:00",
          "1989-10-16T00:00:00",
          "1989-10-18T00:00:00",
          "1989-11-06T00:00:00",
          "1990-09-18T00:00:00",
          "1990-12-30T00:00:00",
          "1992-10-07T00:00:00",
          "1993-02-24T00:00:00",
          "1993-02-24T00:00:00",
          "1993-03-22T00:00:00",
          "1993-04-08T00:00:00",
          "1993-04-17T00:00:00",
          "1993-04-26T00:00:00",
          "1993-04-27T00:00:00",
          "1993-05-02T00:00:00",
          "1993-05-04T00:00:00",
          "1993-05-12T00:00:00",
          "1993-05-13T00:00:00",
          "1993-07-22T00:00:00",
          "1993-08-16T00:00:00",
          "1993-12-16T00:00:00",
          "1993-12-22T00:00:00",
          "1993-12-31T00:00:00",
          "1994-01-04T00:00:00",
          "1994-01-13T00:00:00",
          "1994-02-09T00:00:00",
          "1994-05-17T00:00:00",
          "1994-05-25T00:00:00",
          "1994-06-15T00:00:00",
          "1994-06-17T00:00:00",
          "1994-07-27T00:00:00",
          "1994-11-25T00:00:00",
          "1994-11-30T00:00:00",
          "1994-12-29T00:00:00",
          "1995-01-09T00:00:00",
          "1995-03-01T00:00:00",
          "1995-03-03T00:00:00",
          "1995-03-06T00:00:00",
          "1995-03-07T00:00:00",
          "1995-03-07T00:00:00",
          "1995-03-13T00:00:00",
          "1995-03-21T00:00:00",
          "1995-03-26T00:00:00",
          "1995-03-31T00:00:00",
          "1995-04-10T00:00:00",
          "1995-04-13T00:00:00",
          "1995-04-14T00:00:00",
          "1995-04-21T00:00:00",
          "1995-05-04T00:00:00",
          "1995-06-02T00:00:00",
          "1995-06-13T00:00:00",
          "1995-06-17T00:00:00",
          "1995-06-29T00:00:00",
          "1995-07-12T00:00:00",
          "1995-07-31T00:00:00",
          "1995-08-29T00:00:00",
          "1995-09-14T00:00:00",
          "1995-09-26T00:00:00",
          "1995-10-24T00:00:00",
          "1995-11-08T00:00:00",
          "1995-11-22T00:00:00",
          "1995-11-25T00:00:00",
          "1995-12-14T00:00:00",
          "1995-12-14T00:00:00",
          "1996-01-02T00:00:00",
          "1996-01-11T00:00:00",
          "1996-02-21T00:00:00",
          "1996-02-27T00:00:00",
          "1996-03-12T00:00:00",
          "1996-04-18T00:00:00",
          "1996-04-24T00:00:00",
          "1996-05-07T00:00:00",
          "1996-05-13T00:00:00",
          "1996-05-29T00:00:00",
          "1996-05-30T00:00:00",
          "1996-06-06T00:00:00",
          "1996-06-10T00:00:00",
          "1996-06-17T00:00:00",
          "1996-06-25T00:00:00",
          "1996-06-25T00:00:00",
          "1996-07-02T00:00:00",
          "1996-07-11T00:00:00",
          "1996-07-16T00:00:00",
          "1996-07-19T00:00:00",
          "1996-07-24T00:00:00",
          "1996-07-29T00:00:00",
          "1996-08-30T00:00:00",
          "1996-09-12T00:00:00",
          "1996-09-20T00:00:00",
          "1996-10-23T00:00:00",
          "1996-11-20T00:00:00",
          "1996-11-23T00:00:00",
          "1996-12-04T00:00:00",
          "1996-12-17T00:00:00",
          "1997-01-02T00:00:00",
          "1997-01-03T00:00:00",
          "1997-01-08T00:00:00",
          "1997-01-20T00:00:00",
          "1997-01-27T00:00:00",
          "1997-02-03T00:00:00",
          "1997-02-04T00:00:00",
          "1997-02-23T00:00:00",
          "1997-02-28T00:00:00",
          "1997-03-22T00:00:00",
          "1997-03-27T00:00:00",
          "1997-04-21T00:00:00",
          "1997-04-25T00:00:00",
          "1997-04-25T00:00:00",
          "1997-05-02T00:00:00",
          "1997-05-12T00:00:00",
          "1997-05-21T00:00:00",
          "1997-05-29T00:00:00",
          "1997-06-24T00:00:00",
          "1997-07-07T00:00:00",
          "1997-07-14T00:00:00",
          "1997-07-25T00:00:00",
          "1997-07-28T00:00:00",
          "1997-08-10T00:00:00",
          "1997-09-01T00:00:00",
          "1997-09-22T00:00:00",
          "1997-09-26T00:00:00",
          "1997-09-29T00:00:00",
          "1997-11-10T00:00:00",
          "1997-11-14T00:00:00",
          "1997-11-21T00:00:00",
          "1997-11-24T00:00:00",
          "1997-12-08T00:00:00",
          "1997-12-09T00:00:00",
          "1997-12-10T00:00:00",
          "1997-12-18T00:00:00",
          "1997-12-24T00:00:00",
          "1998-01-22T00:00:00",
          "1998-01-26T00:00:00",
          "1998-02-02T00:00:00",
          "1998-02-09T00:00:00",
          "1998-02-13T00:00:00",
          "1998-02-15T00:00:00",
          "1998-02-18T00:00:00",
          "1998-02-27T00:00:00",
          "1998-03-04T00:00:00",
          "1998-03-06T00:00:00",
          "1998-03-07T00:00:00",
          "1998-03-13T00:00:00",
          "1998-03-17T00:00:00",
          "1998-03-20T00:00:00",
          "1998-03-24T00:00:00",
          "1998-05-11T00:00:00",
          "1998-06-12T00:00:00",
          "1998-06-24T00:00:00"
         ],
         "y": [
          70,
          86,
          73,
          73,
          88,
          76,
          77,
          84,
          81,
          90,
          77,
          51,
          78,
          83,
          70,
          76,
          87,
          80,
          76,
          72,
          41,
          74,
          84,
          69,
          73,
          70,
          84,
          85,
          77,
          79,
          79,
          81,
          74,
          81,
          63,
          73,
          59,
          75,
          82,
          76,
          85,
          83,
          78,
          71,
          80,
          69,
          74,
          90,
          83,
          90,
          93,
          83,
          84,
          80,
          69,
          85,
          87,
          80,
          80,
          81,
          78,
          69,
          75,
          80,
          82,
          82,
          82,
          81,
          67,
          85,
          56,
          69,
          72,
          86,
          92,
          82,
          86,
          74,
          84,
          74,
          77,
          68,
          84,
          60,
          74,
          77,
          78,
          54,
          90,
          82,
          53,
          73,
          84,
          57,
          87,
          70,
          78,
          87,
          75,
          81,
          88,
          70,
          88,
          81,
          71,
          88,
          53,
          82,
          86,
          70,
          71,
          85,
          84,
          47,
          75,
          85,
          68,
          63,
          82,
          88,
          65,
          82,
          72,
          87,
          87,
          74,
          88,
          43,
          67,
          75,
          81,
          79,
          80,
          88,
          71,
          79,
          77,
          85,
          72,
          54,
          77,
          63,
          82,
          82,
          86,
          81,
          77,
          67,
          81,
          84,
          85,
          84,
          76,
          85,
          75,
          76,
          76,
          89,
          78,
          73,
          75,
          47,
          69,
          76,
          89,
          90,
          70,
          74,
          77,
          76,
          84,
          80,
          76,
          58,
          68,
          74,
          79,
          63,
          69,
          51,
          76,
          69,
          86,
          72,
          81,
          79,
          79,
          77,
          79,
          78,
          83,
          67,
          70,
          81,
          49,
          73,
          83,
          79,
          64,
          73,
          68,
          83,
          74,
          57,
          75,
          77,
          65,
          74,
          84,
          83,
          77,
          88,
          73,
          73,
          81
         ]
        }
       ],
       "layout": {
        "hovermode": "closest",
        "template": {
         "data": {
          "bar": [
           {
            "error_x": {
             "color": "#2a3f5f"
            },
            "error_y": {
             "color": "#2a3f5f"
            },
            "marker": {
             "line": {
              "color": "#E5ECF6",
              "width": 0.5
             },
             "pattern": {
              "fillmode": "overlay",
              "size": 10,
              "solidity": 0.2
             }
            },
            "type": "bar"
           }
          ],
          "barpolar": [
           {
            "marker": {
             "line": {
              "color": "#E5ECF6",
              "width": 0.5
             },
             "pattern": {
              "fillmode": "overlay",
              "size": 10,
              "solidity": 0.2
             }
            },
            "type": "barpolar"
           }
          ],
          "carpet": [
           {
            "aaxis": {
             "endlinecolor": "#2a3f5f",
             "gridcolor": "white",
             "linecolor": "white",
             "minorgridcolor": "white",
             "startlinecolor": "#2a3f5f"
            },
            "baxis": {
             "endlinecolor": "#2a3f5f",
             "gridcolor": "white",
             "linecolor": "white",
             "minorgridcolor": "white",
             "startlinecolor": "#2a3f5f"
            },
            "type": "carpet"
           }
          ],
          "choropleth": [
           {
            "colorbar": {
             "outlinewidth": 0,
             "ticks": ""
            },
            "type": "choropleth"
           }
          ],
          "contour": [
           {
            "colorbar": {
             "outlinewidth": 0,
             "ticks": ""
            },
            "colorscale": [
             [
              0,
              "#0d0887"
             ],
             [
              0.1111111111111111,
              "#46039f"
             ],
             [
              0.2222222222222222,
              "#7201a8"
             ],
             [
              0.3333333333333333,
              "#9c179e"
             ],
             [
              0.4444444444444444,
              "#bd3786"
             ],
             [
              0.5555555555555556,
              "#d8576b"
             ],
             [
              0.6666666666666666,
              "#ed7953"
             ],
             [
              0.7777777777777778,
              "#fb9f3a"
             ],
             [
              0.8888888888888888,
              "#fdca26"
             ],
             [
              1,
              "#f0f921"
             ]
            ],
            "type": "contour"
           }
          ],
          "contourcarpet": [
           {
            "colorbar": {
             "outlinewidth": 0,
             "ticks": ""
            },
            "type": "contourcarpet"
           }
          ],
          "heatmap": [
           {
            "colorbar": {
             "outlinewidth": 0,
             "ticks": ""
            },
            "colorscale": [
             [
              0,
              "#0d0887"
             ],
             [
              0.1111111111111111,
              "#46039f"
             ],
             [
              0.2222222222222222,
              "#7201a8"
             ],
             [
              0.3333333333333333,
              "#9c179e"
             ],
             [
              0.4444444444444444,
              "#bd3786"
             ],
             [
              0.5555555555555556,
              "#d8576b"
             ],
             [
              0.6666666666666666,
              "#ed7953"
             ],
             [
              0.7777777777777778,
              "#fb9f3a"
             ],
             [
              0.8888888888888888,
              "#fdca26"
             ],
             [
              1,
              "#f0f921"
             ]
            ],
            "type": "heatmap"
           }
          ],
          "heatmapgl": [
           {
            "colorbar": {
             "outlinewidth": 0,
             "ticks": ""
            },
            "colorscale": [
             [
              0,
              "#0d0887"
             ],
             [
              0.1111111111111111,
              "#46039f"
             ],
             [
              0.2222222222222222,
              "#7201a8"
             ],
             [
              0.3333333333333333,
              "#9c179e"
             ],
             [
              0.4444444444444444,
              "#bd3786"
             ],
             [
              0.5555555555555556,
              "#d8576b"
             ],
             [
              0.6666666666666666,
              "#ed7953"
             ],
             [
              0.7777777777777778,
              "#fb9f3a"
             ],
             [
              0.8888888888888888,
              "#fdca26"
             ],
             [
              1,
              "#f0f921"
             ]
            ],
            "type": "heatmapgl"
           }
          ],
          "histogram": [
           {
            "marker": {
             "pattern": {
              "fillmode": "overlay",
              "size": 10,
              "solidity": 0.2
             }
            },
            "type": "histogram"
           }
          ],
          "histogram2d": [
           {
            "colorbar": {
             "outlinewidth": 0,
             "ticks": ""
            },
            "colorscale": [
             [
              0,
              "#0d0887"
             ],
             [
              0.1111111111111111,
              "#46039f"
             ],
             [
              0.2222222222222222,
              "#7201a8"
             ],
             [
              0.3333333333333333,
              "#9c179e"
             ],
             [
              0.4444444444444444,
              "#bd3786"
             ],
             [
              0.5555555555555556,
              "#d8576b"
             ],
             [
              0.6666666666666666,
              "#ed7953"
             ],
             [
              0.7777777777777778,
              "#fb9f3a"
             ],
             [
              0.8888888888888888,
              "#fdca26"
             ],
             [
              1,
              "#f0f921"
             ]
            ],
            "type": "histogram2d"
           }
          ],
          "histogram2dcontour": [
           {
            "colorbar": {
             "outlinewidth": 0,
             "ticks": ""
            },
            "colorscale": [
             [
              0,
              "#0d0887"
             ],
             [
              0.1111111111111111,
              "#46039f"
             ],
             [
              0.2222222222222222,
              "#7201a8"
             ],
             [
              0.3333333333333333,
              "#9c179e"
             ],
             [
              0.4444444444444444,
              "#bd3786"
             ],
             [
              0.5555555555555556,
              "#d8576b"
             ],
             [
              0.6666666666666666,
              "#ed7953"
             ],
             [
              0.7777777777777778,
              "#fb9f3a"
             ],
             [
              0.8888888888888888,
              "#fdca26"
             ],
             [
              1,
              "#f0f921"
             ]
            ],
            "type": "histogram2dcontour"
           }
          ],
          "mesh3d": [
           {
            "colorbar": {
             "outlinewidth": 0,
             "ticks": ""
            },
            "type": "mesh3d"
           }
          ],
          "parcoords": [
           {
            "line": {
             "colorbar": {
              "outlinewidth": 0,
              "ticks": ""
             }
            },
            "type": "parcoords"
           }
          ],
          "pie": [
           {
            "automargin": true,
            "type": "pie"
           }
          ],
          "scatter": [
           {
            "fillpattern": {
             "fillmode": "overlay",
             "size": 10,
             "solidity": 0.2
            },
            "type": "scatter"
           }
          ],
          "scatter3d": [
           {
            "line": {
             "colorbar": {
              "outlinewidth": 0,
              "ticks": ""
             }
            },
            "marker": {
             "colorbar": {
              "outlinewidth": 0,
              "ticks": ""
             }
            },
            "type": "scatter3d"
           }
          ],
          "scattercarpet": [
           {
            "marker": {
             "colorbar": {
              "outlinewidth": 0,
              "ticks": ""
             }
            },
            "type": "scattercarpet"
           }
          ],
          "scattergeo": [
           {
            "marker": {
             "colorbar": {
              "outlinewidth": 0,
              "ticks": ""
             }
            },
            "type": "scattergeo"
           }
          ],
          "scattergl": [
           {
            "marker": {
             "colorbar": {
              "outlinewidth": 0,
              "ticks": ""
             }
            },
            "type": "scattergl"
           }
          ],
          "scattermapbox": [
           {
            "marker": {
             "colorbar": {
              "outlinewidth": 0,
              "ticks": ""
             }
            },
            "type": "scattermapbox"
           }
          ],
          "scatterpolar": [
           {
            "marker": {
             "colorbar": {
              "outlinewidth": 0,
              "ticks": ""
             }
            },
            "type": "scatterpolar"
           }
          ],
          "scatterpolargl": [
           {
            "marker": {
             "colorbar": {
              "outlinewidth": 0,
              "ticks": ""
             }
            },
            "type": "scatterpolargl"
           }
          ],
          "scatterternary": [
           {
            "marker": {
             "colorbar": {
              "outlinewidth": 0,
              "ticks": ""
             }
            },
            "type": "scatterternary"
           }
          ],
          "surface": [
           {
            "colorbar": {
             "outlinewidth": 0,
             "ticks": ""
            },
            "colorscale": [
             [
              0,
              "#0d0887"
             ],
             [
              0.1111111111111111,
              "#46039f"
             ],
             [
              0.2222222222222222,
              "#7201a8"
             ],
             [
              0.3333333333333333,
              "#9c179e"
             ],
             [
              0.4444444444444444,
              "#bd3786"
             ],
             [
              0.5555555555555556,
              "#d8576b"
             ],
             [
              0.6666666666666666,
              "#ed7953"
             ],
             [
              0.7777777777777778,
              "#fb9f3a"
             ],
             [
              0.8888888888888888,
              "#fdca26"
             ],
             [
              1,
              "#f0f921"
             ]
            ],
            "type": "surface"
           }
          ],
          "table": [
           {
            "cells": {
             "fill": {
              "color": "#EBF0F8"
             },
             "line": {
              "color": "white"
             }
            },
            "header": {
             "fill": {
              "color": "#C8D4E3"
             },
             "line": {
              "color": "white"
             }
            },
            "type": "table"
           }
          ]
         },
         "layout": {
          "annotationdefaults": {
           "arrowcolor": "#2a3f5f",
           "arrowhead": 0,
           "arrowwidth": 1
          },
          "autotypenumbers": "strict",
          "coloraxis": {
           "colorbar": {
            "outlinewidth": 0,
            "ticks": ""
           }
          },
          "colorscale": {
           "diverging": [
            [
             0,
             "#8e0152"
            ],
            [
             0.1,
             "#c51b7d"
            ],
            [
             0.2,
             "#de77ae"
            ],
            [
             0.3,
             "#f1b6da"
            ],
            [
             0.4,
             "#fde0ef"
            ],
            [
             0.5,
             "#f7f7f7"
            ],
            [
             0.6,
             "#e6f5d0"
            ],
            [
             0.7,
             "#b8e186"
            ],
            [
             0.8,
             "#7fbc41"
            ],
            [
             0.9,
             "#4d9221"
            ],
            [
             1,
             "#276419"
            ]
           ],
           "sequential": [
            [
             0,
             "#0d0887"
            ],
            [
             0.1111111111111111,
             "#46039f"
            ],
            [
             0.2222222222222222,
             "#7201a8"
            ],
            [
             0.3333333333333333,
             "#9c179e"
            ],
            [
             0.4444444444444444,
             "#bd3786"
            ],
            [
             0.5555555555555556,
             "#d8576b"
            ],
            [
             0.6666666666666666,
             "#ed7953"
            ],
            [
             0.7777777777777778,
             "#fb9f3a"
            ],
            [
             0.8888888888888888,
             "#fdca26"
            ],
            [
             1,
             "#f0f921"
            ]
           ],
           "sequentialminus": [
            [
             0,
             "#0d0887"
            ],
            [
             0.1111111111111111,
             "#46039f"
            ],
            [
             0.2222222222222222,
             "#7201a8"
            ],
            [
             0.3333333333333333,
             "#9c179e"
            ],
            [
             0.4444444444444444,
             "#bd3786"
            ],
            [
             0.5555555555555556,
             "#d8576b"
            ],
            [
             0.6666666666666666,
             "#ed7953"
            ],
            [
             0.7777777777777778,
             "#fb9f3a"
            ],
            [
             0.8888888888888888,
             "#fdca26"
            ],
            [
             1,
             "#f0f921"
            ]
           ]
          },
          "colorway": [
           "#636efa",
           "#EF553B",
           "#00cc96",
           "#ab63fa",
           "#FFA15A",
           "#19d3f3",
           "#FF6692",
           "#B6E880",
           "#FF97FF",
           "#FECB52"
          ],
          "font": {
           "color": "#2a3f5f"
          },
          "geo": {
           "bgcolor": "white",
           "lakecolor": "white",
           "landcolor": "#E5ECF6",
           "showlakes": true,
           "showland": true,
           "subunitcolor": "white"
          },
          "hoverlabel": {
           "align": "left"
          },
          "hovermode": "closest",
          "mapbox": {
           "style": "light"
          },
          "paper_bgcolor": "white",
          "plot_bgcolor": "#E5ECF6",
          "polar": {
           "angularaxis": {
            "gridcolor": "white",
            "linecolor": "white",
            "ticks": ""
           },
           "bgcolor": "#E5ECF6",
           "radialaxis": {
            "gridcolor": "white",
            "linecolor": "white",
            "ticks": ""
           }
          },
          "scene": {
           "xaxis": {
            "backgroundcolor": "#E5ECF6",
            "gridcolor": "white",
            "gridwidth": 2,
            "linecolor": "white",
            "showbackground": true,
            "ticks": "",
            "zerolinecolor": "white"
           },
           "yaxis": {
            "backgroundcolor": "#E5ECF6",
            "gridcolor": "white",
            "gridwidth": 2,
            "linecolor": "white",
            "showbackground": true,
            "ticks": "",
            "zerolinecolor": "white"
           },
           "zaxis": {
            "backgroundcolor": "#E5ECF6",
            "gridcolor": "white",
            "gridwidth": 2,
            "linecolor": "white",
            "showbackground": true,
            "ticks": "",
            "zerolinecolor": "white"
           }
          },
          "shapedefaults": {
           "line": {
            "color": "#2a3f5f"
           }
          },
          "ternary": {
           "aaxis": {
            "gridcolor": "white",
            "linecolor": "white",
            "ticks": ""
           },
           "baxis": {
            "gridcolor": "white",
            "linecolor": "white",
            "ticks": ""
           },
           "bgcolor": "#E5ECF6",
           "caxis": {
            "gridcolor": "white",
            "linecolor": "white",
            "ticks": ""
           }
          },
          "title": {
           "x": 0.05
          },
          "xaxis": {
           "automargin": true,
           "gridcolor": "white",
           "linecolor": "white",
           "ticks": "",
           "title": {
            "standoff": 15
           },
           "zerolinecolor": "white",
           "zerolinewidth": 2
          },
          "yaxis": {
           "automargin": true,
           "gridcolor": "white",
           "linecolor": "white",
           "ticks": "",
           "title": {
            "standoff": 15
           },
           "zerolinecolor": "white",
           "zerolinewidth": 2
          }
         }
        },
        "title": {
         "text": "Age vs. Date of Death"
        },
        "xaxis": {
         "title": {
          "text": "Date Of Death"
         }
        },
        "yaxis": {
         "title": {
          "text": "Age"
         }
        }
       }
      },
      "text/html": [
       "<div>                            <div id=\"7c639e84-972d-404d-ad24-c1853f90ae17\" class=\"plotly-graph-div\" style=\"height:525px; width:100%;\"></div>            <script type=\"text/javascript\">                require([\"plotly\"], function(Plotly) {                    window.PLOTLYENV=window.PLOTLYENV || {};                                    if (document.getElementById(\"7c639e84-972d-404d-ad24-c1853f90ae17\")) {                    Plotly.newPlot(                        \"7c639e84-972d-404d-ad24-c1853f90ae17\",                        [{\"marker\":{\"color\":\"rgb(51,51,153)\",\"line\":{\"width\":0.2},\"size\":12},\"mode\":\"markers\",\"x\":[\"1975-03-17T00:00:00\",\"1978-08-07T00:00:00\",\"1978-08-30T00:00:00\",\"1978-12-07T00:00:00\",\"1978-12-20T00:00:00\",\"1979-08-10T00:00:00\",\"1979-11-28T00:00:00\",\"1981-04-18T00:00:00\",\"1981-08-26T00:00:00\",\"1983-01-04T00:00:00\",\"1983-06-28T00:00:00\",\"1984-01-07T00:00:00\",\"1984-02-08T00:00:00\",\"1984-04-15T00:00:00\",\"1984-04-24T00:00:00\",\"1984-09-21T00:00:00\",\"1984-11-27T00:00:00\",\"1984-12-17T00:00:00\",\"1984-12-18T00:00:00\",\"1984-12-24T00:00:00\",\"1985-01-02T00:00:00\",\"1985-02-01T00:00:00\",\"1985-02-04T00:00:00\",\"1985-02-15T00:00:00\",\"1985-02-22T00:00:00\",\"1985-06-26T00:00:00\",\"1985-06-26T00:00:00\",\"1985-08-23T00:00:00\",\"1985-12-17T00:00:00\",\"1985-12-20T00:00:00\",\"1985-12-31T00:00:00\",\"1986-01-07T00:00:00\",\"1986-04-23T00:00:00\",\"1986-06-06T00:00:00\",\"1986-09-15T00:00:00\",\"1986-10-07T00:00:00\",\"1986-11-17T00:00:00\",\"1986-12-16T00:00:00\",\"1986-12-23T00:00:00\",\"1987-03-30T00:00:00\",\"1987-04-01T00:00:00\",\"1987-04-16T00:00:00\",\"1987-05-08T00:00:00\",\"1987-09-14T00:00:00\",\"1987-12-11T00:00:00\",\"1987-12-29T00:00:00\",\"1987-12-30T00:00:00\",\"1988-01-05T00:00:00\",\"1988-01-15T00:00:00\",\"1988-02-09T00:00:00\",\"1988-02-15T00:00:00\",\"1988-02-15T00:00:00\",\"1988-02-16T00:00:00\",\"1988-09-18T00:00:00\",\"1988-10-20T00:00:00\",\"1988-11-06T00:00:00\",\"1988-12-17T00:00:00\",\"1988-12-19T00:00:00\",\"1989-01-31T00:00:00\",\"1989-03-08T00:00:00\",\"1989-05-12T00:00:00\",\"1989-06-05T00:00:00\",\"1989-07-06T00:00:00\",\"1989-08-14T00:00:00\",\"1989-09-22T00:00:00\",\"1989-09-26T00:00:00\",\"1989-10-15T00:00:00\",\"1989-10-16T00:00:00\",\"1989-10-18T00:00:00\",\"1989-11-06T00:00:00\",\"1990-09-18T00:00:00\",\"1990-12-30T00:00:00\",\"1992-10-07T00:00:00\",\"1993-02-24T00:00:00\",\"1993-02-24T00:00:00\",\"1993-03-22T00:00:00\",\"1993-04-08T00:00:00\",\"1993-04-17T00:00:00\",\"1993-04-26T00:00:00\",\"1993-04-27T00:00:00\",\"1993-05-02T00:00:00\",\"1993-05-04T00:00:00\",\"1993-05-12T00:00:00\",\"1993-05-13T00:00:00\",\"1993-07-22T00:00:00\",\"1993-08-16T00:00:00\",\"1993-12-16T00:00:00\",\"1993-12-22T00:00:00\",\"1993-12-31T00:00:00\",\"1994-01-04T00:00:00\",\"1994-01-13T00:00:00\",\"1994-02-09T00:00:00\",\"1994-05-17T00:00:00\",\"1994-05-25T00:00:00\",\"1994-06-15T00:00:00\",\"1994-06-17T00:00:00\",\"1994-07-27T00:00:00\",\"1994-11-25T00:00:00\",\"1994-11-30T00:00:00\",\"1994-12-29T00:00:00\",\"1995-01-09T00:00:00\",\"1995-03-01T00:00:00\",\"1995-03-03T00:00:00\",\"1995-03-06T00:00:00\",\"1995-03-07T00:00:00\",\"1995-03-07T00:00:00\",\"1995-03-13T00:00:00\",\"1995-03-21T00:00:00\",\"1995-03-26T00:00:00\",\"1995-03-31T00:00:00\",\"1995-04-10T00:00:00\",\"1995-04-13T00:00:00\",\"1995-04-14T00:00:00\",\"1995-04-21T00:00:00\",\"1995-05-04T00:00:00\",\"1995-06-02T00:00:00\",\"1995-06-13T00:00:00\",\"1995-06-17T00:00:00\",\"1995-06-29T00:00:00\",\"1995-07-12T00:00:00\",\"1995-07-31T00:00:00\",\"1995-08-29T00:00:00\",\"1995-09-14T00:00:00\",\"1995-09-26T00:00:00\",\"1995-10-24T00:00:00\",\"1995-11-08T00:00:00\",\"1995-11-22T00:00:00\",\"1995-11-25T00:00:00\",\"1995-12-14T00:00:00\",\"1995-12-14T00:00:00\",\"1996-01-02T00:00:00\",\"1996-01-11T00:00:00\",\"1996-02-21T00:00:00\",\"1996-02-27T00:00:00\",\"1996-03-12T00:00:00\",\"1996-04-18T00:00:00\",\"1996-04-24T00:00:00\",\"1996-05-07T00:00:00\",\"1996-05-13T00:00:00\",\"1996-05-29T00:00:00\",\"1996-05-30T00:00:00\",\"1996-06-06T00:00:00\",\"1996-06-10T00:00:00\",\"1996-06-17T00:00:00\",\"1996-06-25T00:00:00\",\"1996-06-25T00:00:00\",\"1996-07-02T00:00:00\",\"1996-07-11T00:00:00\",\"1996-07-16T00:00:00\",\"1996-07-19T00:00:00\",\"1996-07-24T00:00:00\",\"1996-07-29T00:00:00\",\"1996-08-30T00:00:00\",\"1996-09-12T00:00:00\",\"1996-09-20T00:00:00\",\"1996-10-23T00:00:00\",\"1996-11-20T00:00:00\",\"1996-11-23T00:00:00\",\"1996-12-04T00:00:00\",\"1996-12-17T00:00:00\",\"1997-01-02T00:00:00\",\"1997-01-03T00:00:00\",\"1997-01-08T00:00:00\",\"1997-01-20T00:00:00\",\"1997-01-27T00:00:00\",\"1997-02-03T00:00:00\",\"1997-02-04T00:00:00\",\"1997-02-23T00:00:00\",\"1997-02-28T00:00:00\",\"1997-03-22T00:00:00\",\"1997-03-27T00:00:00\",\"1997-04-21T00:00:00\",\"1997-04-25T00:00:00\",\"1997-04-25T00:00:00\",\"1997-05-02T00:00:00\",\"1997-05-12T00:00:00\",\"1997-05-21T00:00:00\",\"1997-05-29T00:00:00\",\"1997-06-24T00:00:00\",\"1997-07-07T00:00:00\",\"1997-07-14T00:00:00\",\"1997-07-25T00:00:00\",\"1997-07-28T00:00:00\",\"1997-08-10T00:00:00\",\"1997-09-01T00:00:00\",\"1997-09-22T00:00:00\",\"1997-09-26T00:00:00\",\"1997-09-29T00:00:00\",\"1997-11-10T00:00:00\",\"1997-11-14T00:00:00\",\"1997-11-21T00:00:00\",\"1997-11-24T00:00:00\",\"1997-12-08T00:00:00\",\"1997-12-09T00:00:00\",\"1997-12-10T00:00:00\",\"1997-12-18T00:00:00\",\"1997-12-24T00:00:00\",\"1998-01-22T00:00:00\",\"1998-01-26T00:00:00\",\"1998-02-02T00:00:00\",\"1998-02-09T00:00:00\",\"1998-02-13T00:00:00\",\"1998-02-15T00:00:00\",\"1998-02-18T00:00:00\",\"1998-02-27T00:00:00\",\"1998-03-04T00:00:00\",\"1998-03-06T00:00:00\",\"1998-03-07T00:00:00\",\"1998-03-13T00:00:00\",\"1998-03-17T00:00:00\",\"1998-03-20T00:00:00\",\"1998-03-24T00:00:00\",\"1998-05-11T00:00:00\",\"1998-06-12T00:00:00\",\"1998-06-24T00:00:00\"],\"y\":[70,86,73,73,88,76,77,84,81,90,77,51,78,83,70,76,87,80,76,72,41,74,84,69,73,70,84,85,77,79,79,81,74,81,63,73,59,75,82,76,85,83,78,71,80,69,74,90,83,90,93,83,84,80,69,85,87,80,80,81,78,69,75,80,82,82,82,81,67,85,56,69,72,86,92,82,86,74,84,74,77,68,84,60,74,77,78,54,90,82,53,73,84,57,87,70,78,87,75,81,88,70,88,81,71,88,53,82,86,70,71,85,84,47,75,85,68,63,82,88,65,82,72,87,87,74,88,43,67,75,81,79,80,88,71,79,77,85,72,54,77,63,82,82,86,81,77,67,81,84,85,84,76,85,75,76,76,89,78,73,75,47,69,76,89,90,70,74,77,76,84,80,76,58,68,74,79,63,69,51,76,69,86,72,81,79,79,77,79,78,83,67,70,81,49,73,83,79,64,73,68,83,74,57,75,77,65,74,84,83,77,88,73,73,81],\"type\":\"scatter\"}],                        {\"hovermode\":\"closest\",\"title\":{\"text\":\"Age vs. Date of Death\"},\"xaxis\":{\"title\":{\"text\":\"Date Of Death\"}},\"yaxis\":{\"title\":{\"text\":\"Age\"}},\"template\":{\"data\":{\"histogram2dcontour\":[{\"type\":\"histogram2dcontour\",\"colorbar\":{\"outlinewidth\":0,\"ticks\":\"\"},\"colorscale\":[[0.0,\"#0d0887\"],[0.1111111111111111,\"#46039f\"],[0.2222222222222222,\"#7201a8\"],[0.3333333333333333,\"#9c179e\"],[0.4444444444444444,\"#bd3786\"],[0.5555555555555556,\"#d8576b\"],[0.6666666666666666,\"#ed7953\"],[0.7777777777777778,\"#fb9f3a\"],[0.8888888888888888,\"#fdca26\"],[1.0,\"#f0f921\"]]}],\"choropleth\":[{\"type\":\"choropleth\",\"colorbar\":{\"outlinewidth\":0,\"ticks\":\"\"}}],\"histogram2d\":[{\"type\":\"histogram2d\",\"colorbar\":{\"outlinewidth\":0,\"ticks\":\"\"},\"colorscale\":[[0.0,\"#0d0887\"],[0.1111111111111111,\"#46039f\"],[0.2222222222222222,\"#7201a8\"],[0.3333333333333333,\"#9c179e\"],[0.4444444444444444,\"#bd3786\"],[0.5555555555555556,\"#d8576b\"],[0.6666666666666666,\"#ed7953\"],[0.7777777777777778,\"#fb9f3a\"],[0.8888888888888888,\"#fdca26\"],[1.0,\"#f0f921\"]]}],\"heatmap\":[{\"type\":\"heatmap\",\"colorbar\":{\"outlinewidth\":0,\"ticks\":\"\"},\"colorscale\":[[0.0,\"#0d0887\"],[0.1111111111111111,\"#46039f\"],[0.2222222222222222,\"#7201a8\"],[0.3333333333333333,\"#9c179e\"],[0.4444444444444444,\"#bd3786\"],[0.5555555555555556,\"#d8576b\"],[0.6666666666666666,\"#ed7953\"],[0.7777777777777778,\"#fb9f3a\"],[0.8888888888888888,\"#fdca26\"],[1.0,\"#f0f921\"]]}],\"heatmapgl\":[{\"type\":\"heatmapgl\",\"colorbar\":{\"outlinewidth\":0,\"ticks\":\"\"},\"colorscale\":[[0.0,\"#0d0887\"],[0.1111111111111111,\"#46039f\"],[0.2222222222222222,\"#7201a8\"],[0.3333333333333333,\"#9c179e\"],[0.4444444444444444,\"#bd3786\"],[0.5555555555555556,\"#d8576b\"],[0.6666666666666666,\"#ed7953\"],[0.7777777777777778,\"#fb9f3a\"],[0.8888888888888888,\"#fdca26\"],[1.0,\"#f0f921\"]]}],\"contourcarpet\":[{\"type\":\"contourcarpet\",\"colorbar\":{\"outlinewidth\":0,\"ticks\":\"\"}}],\"contour\":[{\"type\":\"contour\",\"colorbar\":{\"outlinewidth\":0,\"ticks\":\"\"},\"colorscale\":[[0.0,\"#0d0887\"],[0.1111111111111111,\"#46039f\"],[0.2222222222222222,\"#7201a8\"],[0.3333333333333333,\"#9c179e\"],[0.4444444444444444,\"#bd3786\"],[0.5555555555555556,\"#d8576b\"],[0.6666666666666666,\"#ed7953\"],[0.7777777777777778,\"#fb9f3a\"],[0.8888888888888888,\"#fdca26\"],[1.0,\"#f0f921\"]]}],\"surface\":[{\"type\":\"surface\",\"colorbar\":{\"outlinewidth\":0,\"ticks\":\"\"},\"colorscale\":[[0.0,\"#0d0887\"],[0.1111111111111111,\"#46039f\"],[0.2222222222222222,\"#7201a8\"],[0.3333333333333333,\"#9c179e\"],[0.4444444444444444,\"#bd3786\"],[0.5555555555555556,\"#d8576b\"],[0.6666666666666666,\"#ed7953\"],[0.7777777777777778,\"#fb9f3a\"],[0.8888888888888888,\"#fdca26\"],[1.0,\"#f0f921\"]]}],\"mesh3d\":[{\"type\":\"mesh3d\",\"colorbar\":{\"outlinewidth\":0,\"ticks\":\"\"}}],\"scatter\":[{\"fillpattern\":{\"fillmode\":\"overlay\",\"size\":10,\"solidity\":0.2},\"type\":\"scatter\"}],\"parcoords\":[{\"type\":\"parcoords\",\"line\":{\"colorbar\":{\"outlinewidth\":0,\"ticks\":\"\"}}}],\"scatterpolargl\":[{\"type\":\"scatterpolargl\",\"marker\":{\"colorbar\":{\"outlinewidth\":0,\"ticks\":\"\"}}}],\"bar\":[{\"error_x\":{\"color\":\"#2a3f5f\"},\"error_y\":{\"color\":\"#2a3f5f\"},\"marker\":{\"line\":{\"color\":\"#E5ECF6\",\"width\":0.5},\"pattern\":{\"fillmode\":\"overlay\",\"size\":10,\"solidity\":0.2}},\"type\":\"bar\"}],\"scattergeo\":[{\"type\":\"scattergeo\",\"marker\":{\"colorbar\":{\"outlinewidth\":0,\"ticks\":\"\"}}}],\"scatterpolar\":[{\"type\":\"scatterpolar\",\"marker\":{\"colorbar\":{\"outlinewidth\":0,\"ticks\":\"\"}}}],\"histogram\":[{\"marker\":{\"pattern\":{\"fillmode\":\"overlay\",\"size\":10,\"solidity\":0.2}},\"type\":\"histogram\"}],\"scattergl\":[{\"type\":\"scattergl\",\"marker\":{\"colorbar\":{\"outlinewidth\":0,\"ticks\":\"\"}}}],\"scatter3d\":[{\"type\":\"scatter3d\",\"line\":{\"colorbar\":{\"outlinewidth\":0,\"ticks\":\"\"}},\"marker\":{\"colorbar\":{\"outlinewidth\":0,\"ticks\":\"\"}}}],\"scattermapbox\":[{\"type\":\"scattermapbox\",\"marker\":{\"colorbar\":{\"outlinewidth\":0,\"ticks\":\"\"}}}],\"scatterternary\":[{\"type\":\"scatterternary\",\"marker\":{\"colorbar\":{\"outlinewidth\":0,\"ticks\":\"\"}}}],\"scattercarpet\":[{\"type\":\"scattercarpet\",\"marker\":{\"colorbar\":{\"outlinewidth\":0,\"ticks\":\"\"}}}],\"carpet\":[{\"aaxis\":{\"endlinecolor\":\"#2a3f5f\",\"gridcolor\":\"white\",\"linecolor\":\"white\",\"minorgridcolor\":\"white\",\"startlinecolor\":\"#2a3f5f\"},\"baxis\":{\"endlinecolor\":\"#2a3f5f\",\"gridcolor\":\"white\",\"linecolor\":\"white\",\"minorgridcolor\":\"white\",\"startlinecolor\":\"#2a3f5f\"},\"type\":\"carpet\"}],\"table\":[{\"cells\":{\"fill\":{\"color\":\"#EBF0F8\"},\"line\":{\"color\":\"white\"}},\"header\":{\"fill\":{\"color\":\"#C8D4E3\"},\"line\":{\"color\":\"white\"}},\"type\":\"table\"}],\"barpolar\":[{\"marker\":{\"line\":{\"color\":\"#E5ECF6\",\"width\":0.5},\"pattern\":{\"fillmode\":\"overlay\",\"size\":10,\"solidity\":0.2}},\"type\":\"barpolar\"}],\"pie\":[{\"automargin\":true,\"type\":\"pie\"}]},\"layout\":{\"autotypenumbers\":\"strict\",\"colorway\":[\"#636efa\",\"#EF553B\",\"#00cc96\",\"#ab63fa\",\"#FFA15A\",\"#19d3f3\",\"#FF6692\",\"#B6E880\",\"#FF97FF\",\"#FECB52\"],\"font\":{\"color\":\"#2a3f5f\"},\"hovermode\":\"closest\",\"hoverlabel\":{\"align\":\"left\"},\"paper_bgcolor\":\"white\",\"plot_bgcolor\":\"#E5ECF6\",\"polar\":{\"bgcolor\":\"#E5ECF6\",\"angularaxis\":{\"gridcolor\":\"white\",\"linecolor\":\"white\",\"ticks\":\"\"},\"radialaxis\":{\"gridcolor\":\"white\",\"linecolor\":\"white\",\"ticks\":\"\"}},\"ternary\":{\"bgcolor\":\"#E5ECF6\",\"aaxis\":{\"gridcolor\":\"white\",\"linecolor\":\"white\",\"ticks\":\"\"},\"baxis\":{\"gridcolor\":\"white\",\"linecolor\":\"white\",\"ticks\":\"\"},\"caxis\":{\"gridcolor\":\"white\",\"linecolor\":\"white\",\"ticks\":\"\"}},\"coloraxis\":{\"colorbar\":{\"outlinewidth\":0,\"ticks\":\"\"}},\"colorscale\":{\"sequential\":[[0.0,\"#0d0887\"],[0.1111111111111111,\"#46039f\"],[0.2222222222222222,\"#7201a8\"],[0.3333333333333333,\"#9c179e\"],[0.4444444444444444,\"#bd3786\"],[0.5555555555555556,\"#d8576b\"],[0.6666666666666666,\"#ed7953\"],[0.7777777777777778,\"#fb9f3a\"],[0.8888888888888888,\"#fdca26\"],[1.0,\"#f0f921\"]],\"sequentialminus\":[[0.0,\"#0d0887\"],[0.1111111111111111,\"#46039f\"],[0.2222222222222222,\"#7201a8\"],[0.3333333333333333,\"#9c179e\"],[0.4444444444444444,\"#bd3786\"],[0.5555555555555556,\"#d8576b\"],[0.6666666666666666,\"#ed7953\"],[0.7777777777777778,\"#fb9f3a\"],[0.8888888888888888,\"#fdca26\"],[1.0,\"#f0f921\"]],\"diverging\":[[0,\"#8e0152\"],[0.1,\"#c51b7d\"],[0.2,\"#de77ae\"],[0.3,\"#f1b6da\"],[0.4,\"#fde0ef\"],[0.5,\"#f7f7f7\"],[0.6,\"#e6f5d0\"],[0.7,\"#b8e186\"],[0.8,\"#7fbc41\"],[0.9,\"#4d9221\"],[1,\"#276419\"]]},\"xaxis\":{\"gridcolor\":\"white\",\"linecolor\":\"white\",\"ticks\":\"\",\"title\":{\"standoff\":15},\"zerolinecolor\":\"white\",\"automargin\":true,\"zerolinewidth\":2},\"yaxis\":{\"gridcolor\":\"white\",\"linecolor\":\"white\",\"ticks\":\"\",\"title\":{\"standoff\":15},\"zerolinecolor\":\"white\",\"automargin\":true,\"zerolinewidth\":2},\"scene\":{\"xaxis\":{\"backgroundcolor\":\"#E5ECF6\",\"gridcolor\":\"white\",\"linecolor\":\"white\",\"showbackground\":true,\"ticks\":\"\",\"zerolinecolor\":\"white\",\"gridwidth\":2},\"yaxis\":{\"backgroundcolor\":\"#E5ECF6\",\"gridcolor\":\"white\",\"linecolor\":\"white\",\"showbackground\":true,\"ticks\":\"\",\"zerolinecolor\":\"white\",\"gridwidth\":2},\"zaxis\":{\"backgroundcolor\":\"#E5ECF6\",\"gridcolor\":\"white\",\"linecolor\":\"white\",\"showbackground\":true,\"ticks\":\"\",\"zerolinecolor\":\"white\",\"gridwidth\":2}},\"shapedefaults\":{\"line\":{\"color\":\"#2a3f5f\"}},\"annotationdefaults\":{\"arrowcolor\":\"#2a3f5f\",\"arrowhead\":0,\"arrowwidth\":1},\"geo\":{\"bgcolor\":\"white\",\"landcolor\":\"#E5ECF6\",\"subunitcolor\":\"white\",\"showland\":true,\"showlakes\":true,\"lakecolor\":\"white\"},\"title\":{\"x\":0.05},\"mapbox\":{\"style\":\"light\"}}}},                        {\"responsive\": true}                    ).then(function(){\n",
       "                            \n",
       "var gd = document.getElementById('7c639e84-972d-404d-ad24-c1853f90ae17');\n",
       "var x = new MutationObserver(function (mutations, observer) {{\n",
       "        var display = window.getComputedStyle(gd).display;\n",
       "        if (!display || display === 'none') {{\n",
       "            console.log([gd, 'removed!']);\n",
       "            Plotly.purge(gd);\n",
       "            observer.disconnect();\n",
       "        }}\n",
       "}});\n",
       "\n",
       "// Listen for the removal of the full notebook cells\n",
       "var notebookContainer = gd.closest('#notebook-container');\n",
       "if (notebookContainer) {{\n",
       "    x.observe(notebookContainer, {childList: true});\n",
       "}}\n",
       "\n",
       "// Listen for the clearing of the current output cell\n",
       "var outputEl = gd.closest('.output');\n",
       "if (outputEl) {{\n",
       "    x.observe(outputEl, {childList: true});\n",
       "}}\n",
       "\n",
       "                        })                };                });            </script>        </div>"
      ]
     },
     "metadata": {},
     "output_type": "display_data"
    }
   ],
   "source": [
    "## Scatter Plot: Age vs. DateOfDeath\n",
    "\n",
    "##data:\n",
    "\n",
    "data= [go.Scatter(x= shipman_victims['DateofDeath'],\n",
    "                  y= shipman_victims['Age'], \n",
    "                  mode='markers', \n",
    "                  marker=dict(size=12,\n",
    "                              color='rgb(51,51,153)',\n",
    "                              line={'width':.2}\n",
    "                             )\n",
    "                 )\n",
    "      ]\n",
    "\n",
    "##layout:\n",
    "\n",
    "layout= go.Layout(title = 'Age vs. Date of Death', # Graph title\n",
    "                  xaxis = dict(title = 'Date Of Death'), # x-axis label\n",
    "                  yaxis = dict(title = 'Age'), # y-axis label\n",
    "                  hovermode ='closest' # handles multiple points landing on the same vertical\n",
    ")\n",
    "\n",
    "## figure:\n",
    "\n",
    "fig= go.Figure(data=data, layout=layout)\n",
    "fig.show()\n",
    "pyo.plot(fig, filename='ScatterPlot.html')\n",
    "\n"
   ]
  },
  {
   "cell_type": "markdown",
   "id": "08d48b31",
   "metadata": {},
   "source": [
    "Lot of occurances from Dec 1993 to Jun 1998. First victim of 70 years of age was recored on 1975. After 3 years there are records of few other victims of age all greater than 70. In 1984 a patient of age 51 was recorded to be his victim and the youngest recorded patient of age 41 was also a victim of Harold Shipman at year 1985. Break in 1991, 1980, 1983."
   ]
  },
  {
   "cell_type": "markdown",
   "id": "8c50b4f8",
   "metadata": {},
   "source": [
    "#### Nested Bar Plot:"
   ]
  },
  {
   "cell_type": "code",
   "execution_count": 224,
   "id": "6c374e3e",
   "metadata": {},
   "outputs": [
    {
     "data": {
      "application/vnd.plotly.v1+json": {
       "config": {
        "plotlyServerURL": "https://plot.ly"
       },
       "data": [
        {
         "name": "Age less than or equal to 49 years",
         "type": "bar",
         "x": [
          "Own home",
          "Own home",
          "Own home",
          "Own home",
          "Own home",
          "Own home",
          "Hospital",
          "Own home",
          "Own home",
          "Own home",
          "Own home",
          "Own home",
          "Own home",
          "Own home",
          "Own home",
          "Own home",
          "Own home",
          "Own home",
          "Own home",
          "Own home",
          "Own home",
          "Own home",
          "Own home",
          "Own home",
          "Own home",
          "Own home",
          "Own home",
          "Own home",
          "Own home",
          "Own home",
          "Own home",
          "Own home",
          "Residential Home",
          "Own home",
          "Own home",
          "Own home",
          "Own home",
          "Own home",
          "Own home",
          "Own home",
          "Own home",
          "Own home",
          "Own home",
          "Own home",
          "Own home",
          "Own home",
          "Own home",
          "Own home",
          "Own home",
          "Own home",
          "Own home",
          "Own home",
          "Own home",
          "Own home",
          "Own home",
          "Own home",
          "Own home",
          "Own home",
          "Own home",
          "Shipman's surgery",
          "Own home",
          "Own home",
          "Own home",
          "Own home",
          "Own home",
          "Own home",
          "Own home",
          "Own home",
          "Own home",
          "Own home",
          "Own home",
          "Own home",
          "Own home",
          "Own home",
          "Own home",
          "Own home",
          "Own home",
          "Own home",
          "Own home",
          "Own home",
          "Own home",
          "Own home",
          "Own home",
          "Own home",
          "Own home",
          "Own home",
          "Own home",
          "Own home",
          "Own home",
          "Shipman's surgery",
          "Own home",
          "Own home",
          "Own home",
          "Own home",
          "Own home",
          "Own home",
          "Own home",
          "Own home",
          "Own home",
          "Own home",
          "Own home",
          "Own home",
          "Own home",
          "Own home",
          "Own home",
          "Own home",
          "Own home",
          "Own home",
          "Own home",
          "Own home",
          "Own home",
          "Own home",
          "Own home",
          "Hospital",
          "Own home",
          "Nursing home",
          "Shipman's surgery",
          "Own home",
          "Own home",
          "Own home",
          "Own home",
          "Own home",
          "Own home",
          "Shipman's surgery",
          "Own home",
          "Own home",
          "Own home",
          "Own home",
          "Own home",
          "Own home",
          "Own home",
          "Own home",
          "Own home",
          "Own home",
          "Own home",
          "Own home",
          "Own home",
          "Own home",
          "Shipman's surgery",
          "Own home",
          "Own home",
          "Own home",
          "Own home",
          "Own home",
          "Own home",
          "Own home",
          "Own home",
          "Own home",
          "Own home",
          "Own home",
          "Own home",
          "Own home",
          "Own home",
          "Own home",
          "Own home",
          "Own home",
          "Own home",
          "Own home",
          "Own home",
          "Own home",
          "Residential home",
          "Own home",
          "Own home",
          "Own home",
          "Own home",
          "Own home",
          "Own home",
          "Own home",
          "Own home",
          "Own home",
          "Own home",
          "Own home",
          "Own home",
          "Own home",
          "Own home",
          "Own home",
          "Own home",
          "Shipman's surgery",
          "Own home",
          "Own home",
          "Own home",
          "Own home",
          "Own home",
          "Own home",
          "Own home",
          "Own home",
          "Own home",
          "Own home",
          "Own home",
          "Own home",
          "Own home",
          "Own home",
          "Own home",
          "Own home",
          "Own home",
          "Own home",
          "Own home",
          "Own home",
          "Own home",
          "Own home",
          "Own home",
          "Own home",
          "Own home",
          "Own home",
          "Own home",
          "Own home",
          "Own home",
          "Own home",
          "Own home",
          "Own home",
          "Own home",
          "Own home",
          "Own home",
          "Own home",
          "Own home"
         ],
         "y": [
          41,
          47,
          43,
          47,
          49
         ]
        },
        {
         "name": "Age in 50-59 bracket",
         "type": "bar",
         "x": [
          "Own home",
          "Own home",
          "Own home",
          "Own home",
          "Own home",
          "Own home",
          "Hospital",
          "Own home",
          "Own home",
          "Own home",
          "Own home",
          "Own home",
          "Own home",
          "Own home",
          "Own home",
          "Own home",
          "Own home",
          "Own home",
          "Own home",
          "Own home",
          "Own home",
          "Own home",
          "Own home",
          "Own home",
          "Own home",
          "Own home",
          "Own home",
          "Own home",
          "Own home",
          "Own home",
          "Own home",
          "Own home",
          "Residential Home",
          "Own home",
          "Own home",
          "Own home",
          "Own home",
          "Own home",
          "Own home",
          "Own home",
          "Own home",
          "Own home",
          "Own home",
          "Own home",
          "Own home",
          "Own home",
          "Own home",
          "Own home",
          "Own home",
          "Own home",
          "Own home",
          "Own home",
          "Own home",
          "Own home",
          "Own home",
          "Own home",
          "Own home",
          "Own home",
          "Own home",
          "Shipman's surgery",
          "Own home",
          "Own home",
          "Own home",
          "Own home",
          "Own home",
          "Own home",
          "Own home",
          "Own home",
          "Own home",
          "Own home",
          "Own home",
          "Own home",
          "Own home",
          "Own home",
          "Own home",
          "Own home",
          "Own home",
          "Own home",
          "Own home",
          "Own home",
          "Own home",
          "Own home",
          "Own home",
          "Own home",
          "Own home",
          "Own home",
          "Own home",
          "Own home",
          "Own home",
          "Shipman's surgery",
          "Own home",
          "Own home",
          "Own home",
          "Own home",
          "Own home",
          "Own home",
          "Own home",
          "Own home",
          "Own home",
          "Own home",
          "Own home",
          "Own home",
          "Own home",
          "Own home",
          "Own home",
          "Own home",
          "Own home",
          "Own home",
          "Own home",
          "Own home",
          "Own home",
          "Own home",
          "Own home",
          "Hospital",
          "Own home",
          "Nursing home",
          "Shipman's surgery",
          "Own home",
          "Own home",
          "Own home",
          "Own home",
          "Own home",
          "Own home",
          "Shipman's surgery",
          "Own home",
          "Own home",
          "Own home",
          "Own home",
          "Own home",
          "Own home",
          "Own home",
          "Own home",
          "Own home",
          "Own home",
          "Own home",
          "Own home",
          "Own home",
          "Own home",
          "Shipman's surgery",
          "Own home",
          "Own home",
          "Own home",
          "Own home",
          "Own home",
          "Own home",
          "Own home",
          "Own home",
          "Own home",
          "Own home",
          "Own home",
          "Own home",
          "Own home",
          "Own home",
          "Own home",
          "Own home",
          "Own home",
          "Own home",
          "Own home",
          "Own home",
          "Own home",
          "Residential home",
          "Own home",
          "Own home",
          "Own home",
          "Own home",
          "Own home",
          "Own home",
          "Own home",
          "Own home",
          "Own home",
          "Own home",
          "Own home",
          "Own home",
          "Own home",
          "Own home",
          "Own home",
          "Own home",
          "Shipman's surgery",
          "Own home",
          "Own home",
          "Own home",
          "Own home",
          "Own home",
          "Own home",
          "Own home",
          "Own home",
          "Own home",
          "Own home",
          "Own home",
          "Own home",
          "Own home",
          "Own home",
          "Own home",
          "Own home",
          "Own home",
          "Own home",
          "Own home",
          "Own home",
          "Own home",
          "Own home",
          "Own home",
          "Own home",
          "Own home",
          "Own home",
          "Own home",
          "Own home",
          "Own home",
          "Own home",
          "Own home",
          "Own home",
          "Own home",
          "Own home",
          "Own home",
          "Own home",
          "Own home"
         ],
         "y": [
          51,
          59,
          56,
          54,
          53,
          57,
          53,
          54,
          58,
          51,
          57
         ]
        },
        {
         "name": "Age in 60-69 bracket",
         "type": "bar",
         "x": [
          "Own home",
          "Own home",
          "Own home",
          "Own home",
          "Own home",
          "Own home",
          "Hospital",
          "Own home",
          "Own home",
          "Own home",
          "Own home",
          "Own home",
          "Own home",
          "Own home",
          "Own home",
          "Own home",
          "Own home",
          "Own home",
          "Own home",
          "Own home",
          "Own home",
          "Own home",
          "Own home",
          "Own home",
          "Own home",
          "Own home",
          "Own home",
          "Own home",
          "Own home",
          "Own home",
          "Own home",
          "Own home",
          "Residential Home",
          "Own home",
          "Own home",
          "Own home",
          "Own home",
          "Own home",
          "Own home",
          "Own home",
          "Own home",
          "Own home",
          "Own home",
          "Own home",
          "Own home",
          "Own home",
          "Own home",
          "Own home",
          "Own home",
          "Own home",
          "Own home",
          "Own home",
          "Own home",
          "Own home",
          "Own home",
          "Own home",
          "Own home",
          "Own home",
          "Own home",
          "Shipman's surgery",
          "Own home",
          "Own home",
          "Own home",
          "Own home",
          "Own home",
          "Own home",
          "Own home",
          "Own home",
          "Own home",
          "Own home",
          "Own home",
          "Own home",
          "Own home",
          "Own home",
          "Own home",
          "Own home",
          "Own home",
          "Own home",
          "Own home",
          "Own home",
          "Own home",
          "Own home",
          "Own home",
          "Own home",
          "Own home",
          "Own home",
          "Own home",
          "Own home",
          "Own home",
          "Shipman's surgery",
          "Own home",
          "Own home",
          "Own home",
          "Own home",
          "Own home",
          "Own home",
          "Own home",
          "Own home",
          "Own home",
          "Own home",
          "Own home",
          "Own home",
          "Own home",
          "Own home",
          "Own home",
          "Own home",
          "Own home",
          "Own home",
          "Own home",
          "Own home",
          "Own home",
          "Own home",
          "Own home",
          "Hospital",
          "Own home",
          "Nursing home",
          "Shipman's surgery",
          "Own home",
          "Own home",
          "Own home",
          "Own home",
          "Own home",
          "Own home",
          "Shipman's surgery",
          "Own home",
          "Own home",
          "Own home",
          "Own home",
          "Own home",
          "Own home",
          "Own home",
          "Own home",
          "Own home",
          "Own home",
          "Own home",
          "Own home",
          "Own home",
          "Own home",
          "Shipman's surgery",
          "Own home",
          "Own home",
          "Own home",
          "Own home",
          "Own home",
          "Own home",
          "Own home",
          "Own home",
          "Own home",
          "Own home",
          "Own home",
          "Own home",
          "Own home",
          "Own home",
          "Own home",
          "Own home",
          "Own home",
          "Own home",
          "Own home",
          "Own home",
          "Own home",
          "Residential home",
          "Own home",
          "Own home",
          "Own home",
          "Own home",
          "Own home",
          "Own home",
          "Own home",
          "Own home",
          "Own home",
          "Own home",
          "Own home",
          "Own home",
          "Own home",
          "Own home",
          "Own home",
          "Own home",
          "Shipman's surgery",
          "Own home",
          "Own home",
          "Own home",
          "Own home",
          "Own home",
          "Own home",
          "Own home",
          "Own home",
          "Own home",
          "Own home",
          "Own home",
          "Own home",
          "Own home",
          "Own home",
          "Own home",
          "Own home",
          "Own home",
          "Own home",
          "Own home",
          "Own home",
          "Own home",
          "Own home",
          "Own home",
          "Own home",
          "Own home",
          "Own home",
          "Own home",
          "Own home",
          "Own home",
          "Own home",
          "Own home",
          "Own home",
          "Own home",
          "Own home",
          "Own home",
          "Own home",
          "Own home"
         ],
         "y": [
          69,
          63,
          69,
          69,
          69,
          67,
          69,
          68,
          60,
          68,
          63,
          65,
          67,
          63,
          67,
          69,
          68,
          63,
          69,
          69,
          67,
          64,
          68,
          65
         ]
        },
        {
         "name": "Age in 70-79 bracket",
         "type": "bar",
         "x": [
          "Own home",
          "Own home",
          "Own home",
          "Own home",
          "Own home",
          "Own home",
          "Hospital",
          "Own home",
          "Own home",
          "Own home",
          "Own home",
          "Own home",
          "Own home",
          "Own home",
          "Own home",
          "Own home",
          "Own home",
          "Own home",
          "Own home",
          "Own home",
          "Own home",
          "Own home",
          "Own home",
          "Own home",
          "Own home",
          "Own home",
          "Own home",
          "Own home",
          "Own home",
          "Own home",
          "Own home",
          "Own home",
          "Residential Home",
          "Own home",
          "Own home",
          "Own home",
          "Own home",
          "Own home",
          "Own home",
          "Own home",
          "Own home",
          "Own home",
          "Own home",
          "Own home",
          "Own home",
          "Own home",
          "Own home",
          "Own home",
          "Own home",
          "Own home",
          "Own home",
          "Own home",
          "Own home",
          "Own home",
          "Own home",
          "Own home",
          "Own home",
          "Own home",
          "Own home",
          "Shipman's surgery",
          "Own home",
          "Own home",
          "Own home",
          "Own home",
          "Own home",
          "Own home",
          "Own home",
          "Own home",
          "Own home",
          "Own home",
          "Own home",
          "Own home",
          "Own home",
          "Own home",
          "Own home",
          "Own home",
          "Own home",
          "Own home",
          "Own home",
          "Own home",
          "Own home",
          "Own home",
          "Own home",
          "Own home",
          "Own home",
          "Own home",
          "Own home",
          "Own home",
          "Own home",
          "Shipman's surgery",
          "Own home",
          "Own home",
          "Own home",
          "Own home",
          "Own home",
          "Own home",
          "Own home",
          "Own home",
          "Own home",
          "Own home",
          "Own home",
          "Own home",
          "Own home",
          "Own home",
          "Own home",
          "Own home",
          "Own home",
          "Own home",
          "Own home",
          "Own home",
          "Own home",
          "Own home",
          "Own home",
          "Hospital",
          "Own home",
          "Nursing home",
          "Shipman's surgery",
          "Own home",
          "Own home",
          "Own home",
          "Own home",
          "Own home",
          "Own home",
          "Shipman's surgery",
          "Own home",
          "Own home",
          "Own home",
          "Own home",
          "Own home",
          "Own home",
          "Own home",
          "Own home",
          "Own home",
          "Own home",
          "Own home",
          "Own home",
          "Own home",
          "Own home",
          "Shipman's surgery",
          "Own home",
          "Own home",
          "Own home",
          "Own home",
          "Own home",
          "Own home",
          "Own home",
          "Own home",
          "Own home",
          "Own home",
          "Own home",
          "Own home",
          "Own home",
          "Own home",
          "Own home",
          "Own home",
          "Own home",
          "Own home",
          "Own home",
          "Own home",
          "Own home",
          "Residential home",
          "Own home",
          "Own home",
          "Own home",
          "Own home",
          "Own home",
          "Own home",
          "Own home",
          "Own home",
          "Own home",
          "Own home",
          "Own home",
          "Own home",
          "Own home",
          "Own home",
          "Own home",
          "Own home",
          "Shipman's surgery",
          "Own home",
          "Own home",
          "Own home",
          "Own home",
          "Own home",
          "Own home",
          "Own home",
          "Own home",
          "Own home",
          "Own home",
          "Own home",
          "Own home",
          "Own home",
          "Own home",
          "Own home",
          "Own home",
          "Own home",
          "Own home",
          "Own home",
          "Own home",
          "Own home",
          "Own home",
          "Own home",
          "Own home",
          "Own home",
          "Own home",
          "Own home",
          "Own home",
          "Own home",
          "Own home",
          "Own home",
          "Own home",
          "Own home",
          "Own home",
          "Own home",
          "Own home",
          "Own home"
         ],
         "y": [
          70,
          73,
          73,
          76,
          77,
          77,
          78,
          70,
          76,
          76,
          72,
          74,
          73,
          70,
          77,
          79,
          79,
          74,
          73,
          75,
          76,
          78,
          71,
          74,
          78,
          75,
          72,
          74,
          74,
          77,
          74,
          77,
          78,
          73,
          70,
          78,
          75,
          70,
          71,
          70,
          71,
          75,
          72,
          74,
          75,
          79,
          71,
          79,
          77,
          72,
          77,
          77,
          76,
          75,
          76,
          76,
          78,
          73,
          75,
          76,
          70,
          74,
          77,
          76,
          76,
          74,
          79,
          76,
          72,
          79,
          79,
          77,
          79,
          78,
          70,
          73,
          79,
          73,
          74,
          75,
          77,
          74,
          77,
          73,
          73
         ]
        },
        {
         "name": "Age in 80-89 bracket",
         "type": "bar",
         "x": [
          "Own home",
          "Own home",
          "Own home",
          "Own home",
          "Own home",
          "Own home",
          "Hospital",
          "Own home",
          "Own home",
          "Own home",
          "Own home",
          "Own home",
          "Own home",
          "Own home",
          "Own home",
          "Own home",
          "Own home",
          "Own home",
          "Own home",
          "Own home",
          "Own home",
          "Own home",
          "Own home",
          "Own home",
          "Own home",
          "Own home",
          "Own home",
          "Own home",
          "Own home",
          "Own home",
          "Own home",
          "Own home",
          "Residential Home",
          "Own home",
          "Own home",
          "Own home",
          "Own home",
          "Own home",
          "Own home",
          "Own home",
          "Own home",
          "Own home",
          "Own home",
          "Own home",
          "Own home",
          "Own home",
          "Own home",
          "Own home",
          "Own home",
          "Own home",
          "Own home",
          "Own home",
          "Own home",
          "Own home",
          "Own home",
          "Own home",
          "Own home",
          "Own home",
          "Own home",
          "Shipman's surgery",
          "Own home",
          "Own home",
          "Own home",
          "Own home",
          "Own home",
          "Own home",
          "Own home",
          "Own home",
          "Own home",
          "Own home",
          "Own home",
          "Own home",
          "Own home",
          "Own home",
          "Own home",
          "Own home",
          "Own home",
          "Own home",
          "Own home",
          "Own home",
          "Own home",
          "Own home",
          "Own home",
          "Own home",
          "Own home",
          "Own home",
          "Own home",
          "Own home",
          "Own home",
          "Shipman's surgery",
          "Own home",
          "Own home",
          "Own home",
          "Own home",
          "Own home",
          "Own home",
          "Own home",
          "Own home",
          "Own home",
          "Own home",
          "Own home",
          "Own home",
          "Own home",
          "Own home",
          "Own home",
          "Own home",
          "Own home",
          "Own home",
          "Own home",
          "Own home",
          "Own home",
          "Own home",
          "Own home",
          "Hospital",
          "Own home",
          "Nursing home",
          "Shipman's surgery",
          "Own home",
          "Own home",
          "Own home",
          "Own home",
          "Own home",
          "Own home",
          "Shipman's surgery",
          "Own home",
          "Own home",
          "Own home",
          "Own home",
          "Own home",
          "Own home",
          "Own home",
          "Own home",
          "Own home",
          "Own home",
          "Own home",
          "Own home",
          "Own home",
          "Own home",
          "Shipman's surgery",
          "Own home",
          "Own home",
          "Own home",
          "Own home",
          "Own home",
          "Own home",
          "Own home",
          "Own home",
          "Own home",
          "Own home",
          "Own home",
          "Own home",
          "Own home",
          "Own home",
          "Own home",
          "Own home",
          "Own home",
          "Own home",
          "Own home",
          "Own home",
          "Own home",
          "Residential home",
          "Own home",
          "Own home",
          "Own home",
          "Own home",
          "Own home",
          "Own home",
          "Own home",
          "Own home",
          "Own home",
          "Own home",
          "Own home",
          "Own home",
          "Own home",
          "Own home",
          "Own home",
          "Own home",
          "Shipman's surgery",
          "Own home",
          "Own home",
          "Own home",
          "Own home",
          "Own home",
          "Own home",
          "Own home",
          "Own home",
          "Own home",
          "Own home",
          "Own home",
          "Own home",
          "Own home",
          "Own home",
          "Own home",
          "Own home",
          "Own home",
          "Own home",
          "Own home",
          "Own home",
          "Own home",
          "Own home",
          "Own home",
          "Own home",
          "Own home",
          "Own home",
          "Own home",
          "Own home",
          "Own home",
          "Own home",
          "Own home",
          "Own home",
          "Own home",
          "Own home",
          "Own home",
          "Own home",
          "Own home"
         ],
         "y": [
          86,
          88,
          84,
          81,
          83,
          87,
          80,
          84,
          84,
          85,
          81,
          81,
          82,
          85,
          83,
          80,
          83,
          83,
          84,
          80,
          85,
          87,
          80,
          80,
          81,
          80,
          82,
          82,
          82,
          81,
          85,
          86,
          82,
          86,
          84,
          84,
          82,
          84,
          87,
          87,
          81,
          88,
          88,
          81,
          88,
          82,
          86,
          85,
          84,
          85,
          82,
          88,
          82,
          87,
          87,
          88,
          81,
          80,
          88,
          85,
          82,
          82,
          86,
          81,
          81,
          84,
          85,
          84,
          85,
          89,
          89,
          84,
          80,
          86,
          81,
          83,
          81,
          83,
          83,
          84,
          83,
          88,
          81
         ]
        },
        {
         "name": "Age in 90-99 bracket",
         "type": "bar",
         "x": [
          "Own home",
          "Own home",
          "Own home",
          "Own home",
          "Own home",
          "Own home",
          "Hospital",
          "Own home",
          "Own home",
          "Own home",
          "Own home",
          "Own home",
          "Own home",
          "Own home",
          "Own home",
          "Own home",
          "Own home",
          "Own home",
          "Own home",
          "Own home",
          "Own home",
          "Own home",
          "Own home",
          "Own home",
          "Own home",
          "Own home",
          "Own home",
          "Own home",
          "Own home",
          "Own home",
          "Own home",
          "Own home",
          "Residential Home",
          "Own home",
          "Own home",
          "Own home",
          "Own home",
          "Own home",
          "Own home",
          "Own home",
          "Own home",
          "Own home",
          "Own home",
          "Own home",
          "Own home",
          "Own home",
          "Own home",
          "Own home",
          "Own home",
          "Own home",
          "Own home",
          "Own home",
          "Own home",
          "Own home",
          "Own home",
          "Own home",
          "Own home",
          "Own home",
          "Own home",
          "Shipman's surgery",
          "Own home",
          "Own home",
          "Own home",
          "Own home",
          "Own home",
          "Own home",
          "Own home",
          "Own home",
          "Own home",
          "Own home",
          "Own home",
          "Own home",
          "Own home",
          "Own home",
          "Own home",
          "Own home",
          "Own home",
          "Own home",
          "Own home",
          "Own home",
          "Own home",
          "Own home",
          "Own home",
          "Own home",
          "Own home",
          "Own home",
          "Own home",
          "Own home",
          "Own home",
          "Shipman's surgery",
          "Own home",
          "Own home",
          "Own home",
          "Own home",
          "Own home",
          "Own home",
          "Own home",
          "Own home",
          "Own home",
          "Own home",
          "Own home",
          "Own home",
          "Own home",
          "Own home",
          "Own home",
          "Own home",
          "Own home",
          "Own home",
          "Own home",
          "Own home",
          "Own home",
          "Own home",
          "Own home",
          "Hospital",
          "Own home",
          "Nursing home",
          "Shipman's surgery",
          "Own home",
          "Own home",
          "Own home",
          "Own home",
          "Own home",
          "Own home",
          "Shipman's surgery",
          "Own home",
          "Own home",
          "Own home",
          "Own home",
          "Own home",
          "Own home",
          "Own home",
          "Own home",
          "Own home",
          "Own home",
          "Own home",
          "Own home",
          "Own home",
          "Own home",
          "Shipman's surgery",
          "Own home",
          "Own home",
          "Own home",
          "Own home",
          "Own home",
          "Own home",
          "Own home",
          "Own home",
          "Own home",
          "Own home",
          "Own home",
          "Own home",
          "Own home",
          "Own home",
          "Own home",
          "Own home",
          "Own home",
          "Own home",
          "Own home",
          "Own home",
          "Own home",
          "Residential home",
          "Own home",
          "Own home",
          "Own home",
          "Own home",
          "Own home",
          "Own home",
          "Own home",
          "Own home",
          "Own home",
          "Own home",
          "Own home",
          "Own home",
          "Own home",
          "Own home",
          "Own home",
          "Own home",
          "Shipman's surgery",
          "Own home",
          "Own home",
          "Own home",
          "Own home",
          "Own home",
          "Own home",
          "Own home",
          "Own home",
          "Own home",
          "Own home",
          "Own home",
          "Own home",
          "Own home",
          "Own home",
          "Own home",
          "Own home",
          "Own home",
          "Own home",
          "Own home",
          "Own home",
          "Own home",
          "Own home",
          "Own home",
          "Own home",
          "Own home",
          "Own home",
          "Own home",
          "Own home",
          "Own home",
          "Own home",
          "Own home",
          "Own home",
          "Own home",
          "Own home",
          "Own home",
          "Own home",
          "Own home"
         ],
         "y": [
          90,
          90,
          90,
          93,
          92,
          90,
          90
         ]
        }
       ],
       "layout": {
        "template": {
         "data": {
          "bar": [
           {
            "error_x": {
             "color": "#2a3f5f"
            },
            "error_y": {
             "color": "#2a3f5f"
            },
            "marker": {
             "line": {
              "color": "#E5ECF6",
              "width": 0.5
             },
             "pattern": {
              "fillmode": "overlay",
              "size": 10,
              "solidity": 0.2
             }
            },
            "type": "bar"
           }
          ],
          "barpolar": [
           {
            "marker": {
             "line": {
              "color": "#E5ECF6",
              "width": 0.5
             },
             "pattern": {
              "fillmode": "overlay",
              "size": 10,
              "solidity": 0.2
             }
            },
            "type": "barpolar"
           }
          ],
          "carpet": [
           {
            "aaxis": {
             "endlinecolor": "#2a3f5f",
             "gridcolor": "white",
             "linecolor": "white",
             "minorgridcolor": "white",
             "startlinecolor": "#2a3f5f"
            },
            "baxis": {
             "endlinecolor": "#2a3f5f",
             "gridcolor": "white",
             "linecolor": "white",
             "minorgridcolor": "white",
             "startlinecolor": "#2a3f5f"
            },
            "type": "carpet"
           }
          ],
          "choropleth": [
           {
            "colorbar": {
             "outlinewidth": 0,
             "ticks": ""
            },
            "type": "choropleth"
           }
          ],
          "contour": [
           {
            "colorbar": {
             "outlinewidth": 0,
             "ticks": ""
            },
            "colorscale": [
             [
              0,
              "#0d0887"
             ],
             [
              0.1111111111111111,
              "#46039f"
             ],
             [
              0.2222222222222222,
              "#7201a8"
             ],
             [
              0.3333333333333333,
              "#9c179e"
             ],
             [
              0.4444444444444444,
              "#bd3786"
             ],
             [
              0.5555555555555556,
              "#d8576b"
             ],
             [
              0.6666666666666666,
              "#ed7953"
             ],
             [
              0.7777777777777778,
              "#fb9f3a"
             ],
             [
              0.8888888888888888,
              "#fdca26"
             ],
             [
              1,
              "#f0f921"
             ]
            ],
            "type": "contour"
           }
          ],
          "contourcarpet": [
           {
            "colorbar": {
             "outlinewidth": 0,
             "ticks": ""
            },
            "type": "contourcarpet"
           }
          ],
          "heatmap": [
           {
            "colorbar": {
             "outlinewidth": 0,
             "ticks": ""
            },
            "colorscale": [
             [
              0,
              "#0d0887"
             ],
             [
              0.1111111111111111,
              "#46039f"
             ],
             [
              0.2222222222222222,
              "#7201a8"
             ],
             [
              0.3333333333333333,
              "#9c179e"
             ],
             [
              0.4444444444444444,
              "#bd3786"
             ],
             [
              0.5555555555555556,
              "#d8576b"
             ],
             [
              0.6666666666666666,
              "#ed7953"
             ],
             [
              0.7777777777777778,
              "#fb9f3a"
             ],
             [
              0.8888888888888888,
              "#fdca26"
             ],
             [
              1,
              "#f0f921"
             ]
            ],
            "type": "heatmap"
           }
          ],
          "heatmapgl": [
           {
            "colorbar": {
             "outlinewidth": 0,
             "ticks": ""
            },
            "colorscale": [
             [
              0,
              "#0d0887"
             ],
             [
              0.1111111111111111,
              "#46039f"
             ],
             [
              0.2222222222222222,
              "#7201a8"
             ],
             [
              0.3333333333333333,
              "#9c179e"
             ],
             [
              0.4444444444444444,
              "#bd3786"
             ],
             [
              0.5555555555555556,
              "#d8576b"
             ],
             [
              0.6666666666666666,
              "#ed7953"
             ],
             [
              0.7777777777777778,
              "#fb9f3a"
             ],
             [
              0.8888888888888888,
              "#fdca26"
             ],
             [
              1,
              "#f0f921"
             ]
            ],
            "type": "heatmapgl"
           }
          ],
          "histogram": [
           {
            "marker": {
             "pattern": {
              "fillmode": "overlay",
              "size": 10,
              "solidity": 0.2
             }
            },
            "type": "histogram"
           }
          ],
          "histogram2d": [
           {
            "colorbar": {
             "outlinewidth": 0,
             "ticks": ""
            },
            "colorscale": [
             [
              0,
              "#0d0887"
             ],
             [
              0.1111111111111111,
              "#46039f"
             ],
             [
              0.2222222222222222,
              "#7201a8"
             ],
             [
              0.3333333333333333,
              "#9c179e"
             ],
             [
              0.4444444444444444,
              "#bd3786"
             ],
             [
              0.5555555555555556,
              "#d8576b"
             ],
             [
              0.6666666666666666,
              "#ed7953"
             ],
             [
              0.7777777777777778,
              "#fb9f3a"
             ],
             [
              0.8888888888888888,
              "#fdca26"
             ],
             [
              1,
              "#f0f921"
             ]
            ],
            "type": "histogram2d"
           }
          ],
          "histogram2dcontour": [
           {
            "colorbar": {
             "outlinewidth": 0,
             "ticks": ""
            },
            "colorscale": [
             [
              0,
              "#0d0887"
             ],
             [
              0.1111111111111111,
              "#46039f"
             ],
             [
              0.2222222222222222,
              "#7201a8"
             ],
             [
              0.3333333333333333,
              "#9c179e"
             ],
             [
              0.4444444444444444,
              "#bd3786"
             ],
             [
              0.5555555555555556,
              "#d8576b"
             ],
             [
              0.6666666666666666,
              "#ed7953"
             ],
             [
              0.7777777777777778,
              "#fb9f3a"
             ],
             [
              0.8888888888888888,
              "#fdca26"
             ],
             [
              1,
              "#f0f921"
             ]
            ],
            "type": "histogram2dcontour"
           }
          ],
          "mesh3d": [
           {
            "colorbar": {
             "outlinewidth": 0,
             "ticks": ""
            },
            "type": "mesh3d"
           }
          ],
          "parcoords": [
           {
            "line": {
             "colorbar": {
              "outlinewidth": 0,
              "ticks": ""
             }
            },
            "type": "parcoords"
           }
          ],
          "pie": [
           {
            "automargin": true,
            "type": "pie"
           }
          ],
          "scatter": [
           {
            "fillpattern": {
             "fillmode": "overlay",
             "size": 10,
             "solidity": 0.2
            },
            "type": "scatter"
           }
          ],
          "scatter3d": [
           {
            "line": {
             "colorbar": {
              "outlinewidth": 0,
              "ticks": ""
             }
            },
            "marker": {
             "colorbar": {
              "outlinewidth": 0,
              "ticks": ""
             }
            },
            "type": "scatter3d"
           }
          ],
          "scattercarpet": [
           {
            "marker": {
             "colorbar": {
              "outlinewidth": 0,
              "ticks": ""
             }
            },
            "type": "scattercarpet"
           }
          ],
          "scattergeo": [
           {
            "marker": {
             "colorbar": {
              "outlinewidth": 0,
              "ticks": ""
             }
            },
            "type": "scattergeo"
           }
          ],
          "scattergl": [
           {
            "marker": {
             "colorbar": {
              "outlinewidth": 0,
              "ticks": ""
             }
            },
            "type": "scattergl"
           }
          ],
          "scattermapbox": [
           {
            "marker": {
             "colorbar": {
              "outlinewidth": 0,
              "ticks": ""
             }
            },
            "type": "scattermapbox"
           }
          ],
          "scatterpolar": [
           {
            "marker": {
             "colorbar": {
              "outlinewidth": 0,
              "ticks": ""
             }
            },
            "type": "scatterpolar"
           }
          ],
          "scatterpolargl": [
           {
            "marker": {
             "colorbar": {
              "outlinewidth": 0,
              "ticks": ""
             }
            },
            "type": "scatterpolargl"
           }
          ],
          "scatterternary": [
           {
            "marker": {
             "colorbar": {
              "outlinewidth": 0,
              "ticks": ""
             }
            },
            "type": "scatterternary"
           }
          ],
          "surface": [
           {
            "colorbar": {
             "outlinewidth": 0,
             "ticks": ""
            },
            "colorscale": [
             [
              0,
              "#0d0887"
             ],
             [
              0.1111111111111111,
              "#46039f"
             ],
             [
              0.2222222222222222,
              "#7201a8"
             ],
             [
              0.3333333333333333,
              "#9c179e"
             ],
             [
              0.4444444444444444,
              "#bd3786"
             ],
             [
              0.5555555555555556,
              "#d8576b"
             ],
             [
              0.6666666666666666,
              "#ed7953"
             ],
             [
              0.7777777777777778,
              "#fb9f3a"
             ],
             [
              0.8888888888888888,
              "#fdca26"
             ],
             [
              1,
              "#f0f921"
             ]
            ],
            "type": "surface"
           }
          ],
          "table": [
           {
            "cells": {
             "fill": {
              "color": "#EBF0F8"
             },
             "line": {
              "color": "white"
             }
            },
            "header": {
             "fill": {
              "color": "#C8D4E3"
             },
             "line": {
              "color": "white"
             }
            },
            "type": "table"
           }
          ]
         },
         "layout": {
          "annotationdefaults": {
           "arrowcolor": "#2a3f5f",
           "arrowhead": 0,
           "arrowwidth": 1
          },
          "autotypenumbers": "strict",
          "coloraxis": {
           "colorbar": {
            "outlinewidth": 0,
            "ticks": ""
           }
          },
          "colorscale": {
           "diverging": [
            [
             0,
             "#8e0152"
            ],
            [
             0.1,
             "#c51b7d"
            ],
            [
             0.2,
             "#de77ae"
            ],
            [
             0.3,
             "#f1b6da"
            ],
            [
             0.4,
             "#fde0ef"
            ],
            [
             0.5,
             "#f7f7f7"
            ],
            [
             0.6,
             "#e6f5d0"
            ],
            [
             0.7,
             "#b8e186"
            ],
            [
             0.8,
             "#7fbc41"
            ],
            [
             0.9,
             "#4d9221"
            ],
            [
             1,
             "#276419"
            ]
           ],
           "sequential": [
            [
             0,
             "#0d0887"
            ],
            [
             0.1111111111111111,
             "#46039f"
            ],
            [
             0.2222222222222222,
             "#7201a8"
            ],
            [
             0.3333333333333333,
             "#9c179e"
            ],
            [
             0.4444444444444444,
             "#bd3786"
            ],
            [
             0.5555555555555556,
             "#d8576b"
            ],
            [
             0.6666666666666666,
             "#ed7953"
            ],
            [
             0.7777777777777778,
             "#fb9f3a"
            ],
            [
             0.8888888888888888,
             "#fdca26"
            ],
            [
             1,
             "#f0f921"
            ]
           ],
           "sequentialminus": [
            [
             0,
             "#0d0887"
            ],
            [
             0.1111111111111111,
             "#46039f"
            ],
            [
             0.2222222222222222,
             "#7201a8"
            ],
            [
             0.3333333333333333,
             "#9c179e"
            ],
            [
             0.4444444444444444,
             "#bd3786"
            ],
            [
             0.5555555555555556,
             "#d8576b"
            ],
            [
             0.6666666666666666,
             "#ed7953"
            ],
            [
             0.7777777777777778,
             "#fb9f3a"
            ],
            [
             0.8888888888888888,
             "#fdca26"
            ],
            [
             1,
             "#f0f921"
            ]
           ]
          },
          "colorway": [
           "#636efa",
           "#EF553B",
           "#00cc96",
           "#ab63fa",
           "#FFA15A",
           "#19d3f3",
           "#FF6692",
           "#B6E880",
           "#FF97FF",
           "#FECB52"
          ],
          "font": {
           "color": "#2a3f5f"
          },
          "geo": {
           "bgcolor": "white",
           "lakecolor": "white",
           "landcolor": "#E5ECF6",
           "showlakes": true,
           "showland": true,
           "subunitcolor": "white"
          },
          "hoverlabel": {
           "align": "left"
          },
          "hovermode": "closest",
          "mapbox": {
           "style": "light"
          },
          "paper_bgcolor": "white",
          "plot_bgcolor": "#E5ECF6",
          "polar": {
           "angularaxis": {
            "gridcolor": "white",
            "linecolor": "white",
            "ticks": ""
           },
           "bgcolor": "#E5ECF6",
           "radialaxis": {
            "gridcolor": "white",
            "linecolor": "white",
            "ticks": ""
           }
          },
          "scene": {
           "xaxis": {
            "backgroundcolor": "#E5ECF6",
            "gridcolor": "white",
            "gridwidth": 2,
            "linecolor": "white",
            "showbackground": true,
            "ticks": "",
            "zerolinecolor": "white"
           },
           "yaxis": {
            "backgroundcolor": "#E5ECF6",
            "gridcolor": "white",
            "gridwidth": 2,
            "linecolor": "white",
            "showbackground": true,
            "ticks": "",
            "zerolinecolor": "white"
           },
           "zaxis": {
            "backgroundcolor": "#E5ECF6",
            "gridcolor": "white",
            "gridwidth": 2,
            "linecolor": "white",
            "showbackground": true,
            "ticks": "",
            "zerolinecolor": "white"
           }
          },
          "shapedefaults": {
           "line": {
            "color": "#2a3f5f"
           }
          },
          "ternary": {
           "aaxis": {
            "gridcolor": "white",
            "linecolor": "white",
            "ticks": ""
           },
           "baxis": {
            "gridcolor": "white",
            "linecolor": "white",
            "ticks": ""
           },
           "bgcolor": "#E5ECF6",
           "caxis": {
            "gridcolor": "white",
            "linecolor": "white",
            "ticks": ""
           }
          },
          "title": {
           "x": 0.05
          },
          "xaxis": {
           "automargin": true,
           "gridcolor": "white",
           "linecolor": "white",
           "ticks": "",
           "title": {
            "standoff": 15
           },
           "zerolinecolor": "white",
           "zerolinewidth": 2
          },
          "yaxis": {
           "automargin": true,
           "gridcolor": "white",
           "linecolor": "white",
           "ticks": "",
           "title": {
            "standoff": 15
           },
           "zerolinecolor": "white",
           "zerolinewidth": 2
          }
         }
        },
        "title": {
         "text": "Place of Death and Age"
        },
        "xaxis": {
         "title": {
          "text": "Place of Death"
         }
        },
        "yaxis": {
         "title": {
          "text": "Age"
         }
        }
       }
      },
      "text/html": [
       "<div>                            <div id=\"73f1a82e-9c4e-45c8-a902-a1d730437e8f\" class=\"plotly-graph-div\" style=\"height:525px; width:100%;\"></div>            <script type=\"text/javascript\">                require([\"plotly\"], function(Plotly) {                    window.PLOTLYENV=window.PLOTLYENV || {};                                    if (document.getElementById(\"73f1a82e-9c4e-45c8-a902-a1d730437e8f\")) {                    Plotly.newPlot(                        \"73f1a82e-9c4e-45c8-a902-a1d730437e8f\",                        [{\"name\":\"Age less than or equal to 49 years\",\"x\":[\"Own home\",\"Own home\",\"Own home\",\"Own home\",\"Own home\",\"Own home\",\"Hospital\",\"Own home\",\"Own home\",\"Own home\",\"Own home\",\"Own home\",\"Own home\",\"Own home\",\"Own home\",\"Own home\",\"Own home\",\"Own home\",\"Own home\",\"Own home\",\"Own home\",\"Own home\",\"Own home\",\"Own home\",\"Own home\",\"Own home\",\"Own home\",\"Own home\",\"Own home\",\"Own home\",\"Own home\",\"Own home\",\"Residential Home\",\"Own home\",\"Own home\",\"Own home\",\"Own home\",\"Own home\",\"Own home\",\"Own home\",\"Own home\",\"Own home\",\"Own home\",\"Own home\",\"Own home\",\"Own home\",\"Own home\",\"Own home\",\"Own home\",\"Own home\",\"Own home\",\"Own home\",\"Own home\",\"Own home\",\"Own home\",\"Own home\",\"Own home\",\"Own home\",\"Own home\",\"Shipman's surgery\",\"Own home\",\"Own home\",\"Own home\",\"Own home\",\"Own home\",\"Own home\",\"Own home\",\"Own home\",\"Own home\",\"Own home\",\"Own home\",\"Own home\",\"Own home\",\"Own home\",\"Own home\",\"Own home\",\"Own home\",\"Own home\",\"Own home\",\"Own home\",\"Own home\",\"Own home\",\"Own home\",\"Own home\",\"Own home\",\"Own home\",\"Own home\",\"Own home\",\"Own home\",\"Shipman's surgery\",\"Own home\",\"Own home\",\"Own home\",\"Own home\",\"Own home\",\"Own home\",\"Own home\",\"Own home\",\"Own home\",\"Own home\",\"Own home\",\"Own home\",\"Own home\",\"Own home\",\"Own home\",\"Own home\",\"Own home\",\"Own home\",\"Own home\",\"Own home\",\"Own home\",\"Own home\",\"Own home\",\"Hospital\",\"Own home\",\"Nursing home\",\"Shipman's surgery\",\"Own home\",\"Own home\",\"Own home\",\"Own home\",\"Own home\",\"Own home\",\"Shipman's surgery\",\"Own home\",\"Own home\",\"Own home\",\"Own home\",\"Own home\",\"Own home\",\"Own home\",\"Own home\",\"Own home\",\"Own home\",\"Own home\",\"Own home\",\"Own home\",\"Own home\",\"Shipman's surgery\",\"Own home\",\"Own home\",\"Own home\",\"Own home\",\"Own home\",\"Own home\",\"Own home\",\"Own home\",\"Own home\",\"Own home\",\"Own home\",\"Own home\",\"Own home\",\"Own home\",\"Own home\",\"Own home\",\"Own home\",\"Own home\",\"Own home\",\"Own home\",\"Own home\",\"Residential home\",\"Own home\",\"Own home\",\"Own home\",\"Own home\",\"Own home\",\"Own home\",\"Own home\",\"Own home\",\"Own home\",\"Own home\",\"Own home\",\"Own home\",\"Own home\",\"Own home\",\"Own home\",\"Own home\",\"Shipman's surgery\",\"Own home\",\"Own home\",\"Own home\",\"Own home\",\"Own home\",\"Own home\",\"Own home\",\"Own home\",\"Own home\",\"Own home\",\"Own home\",\"Own home\",\"Own home\",\"Own home\",\"Own home\",\"Own home\",\"Own home\",\"Own home\",\"Own home\",\"Own home\",\"Own home\",\"Own home\",\"Own home\",\"Own home\",\"Own home\",\"Own home\",\"Own home\",\"Own home\",\"Own home\",\"Own home\",\"Own home\",\"Own home\",\"Own home\",\"Own home\",\"Own home\",\"Own home\",\"Own home\"],\"y\":[41,47,43,47,49],\"type\":\"bar\"},{\"name\":\"Age in 50-59 bracket\",\"x\":[\"Own home\",\"Own home\",\"Own home\",\"Own home\",\"Own home\",\"Own home\",\"Hospital\",\"Own home\",\"Own home\",\"Own home\",\"Own home\",\"Own home\",\"Own home\",\"Own home\",\"Own home\",\"Own home\",\"Own home\",\"Own home\",\"Own home\",\"Own home\",\"Own home\",\"Own home\",\"Own home\",\"Own home\",\"Own home\",\"Own home\",\"Own home\",\"Own home\",\"Own home\",\"Own home\",\"Own home\",\"Own home\",\"Residential Home\",\"Own home\",\"Own home\",\"Own home\",\"Own home\",\"Own home\",\"Own home\",\"Own home\",\"Own home\",\"Own home\",\"Own home\",\"Own home\",\"Own home\",\"Own home\",\"Own home\",\"Own home\",\"Own home\",\"Own home\",\"Own home\",\"Own home\",\"Own home\",\"Own home\",\"Own home\",\"Own home\",\"Own home\",\"Own home\",\"Own home\",\"Shipman's surgery\",\"Own home\",\"Own home\",\"Own home\",\"Own home\",\"Own home\",\"Own home\",\"Own home\",\"Own home\",\"Own home\",\"Own home\",\"Own home\",\"Own home\",\"Own home\",\"Own home\",\"Own home\",\"Own home\",\"Own home\",\"Own home\",\"Own home\",\"Own home\",\"Own home\",\"Own home\",\"Own home\",\"Own home\",\"Own home\",\"Own home\",\"Own home\",\"Own home\",\"Own home\",\"Shipman's surgery\",\"Own home\",\"Own home\",\"Own home\",\"Own home\",\"Own home\",\"Own home\",\"Own home\",\"Own home\",\"Own home\",\"Own home\",\"Own home\",\"Own home\",\"Own home\",\"Own home\",\"Own home\",\"Own home\",\"Own home\",\"Own home\",\"Own home\",\"Own home\",\"Own home\",\"Own home\",\"Own home\",\"Hospital\",\"Own home\",\"Nursing home\",\"Shipman's surgery\",\"Own home\",\"Own home\",\"Own home\",\"Own home\",\"Own home\",\"Own home\",\"Shipman's surgery\",\"Own home\",\"Own home\",\"Own home\",\"Own home\",\"Own home\",\"Own home\",\"Own home\",\"Own home\",\"Own home\",\"Own home\",\"Own home\",\"Own home\",\"Own home\",\"Own home\",\"Shipman's surgery\",\"Own home\",\"Own home\",\"Own home\",\"Own home\",\"Own home\",\"Own home\",\"Own home\",\"Own home\",\"Own home\",\"Own home\",\"Own home\",\"Own home\",\"Own home\",\"Own home\",\"Own home\",\"Own home\",\"Own home\",\"Own home\",\"Own home\",\"Own home\",\"Own home\",\"Residential home\",\"Own home\",\"Own home\",\"Own home\",\"Own home\",\"Own home\",\"Own home\",\"Own home\",\"Own home\",\"Own home\",\"Own home\",\"Own home\",\"Own home\",\"Own home\",\"Own home\",\"Own home\",\"Own home\",\"Shipman's surgery\",\"Own home\",\"Own home\",\"Own home\",\"Own home\",\"Own home\",\"Own home\",\"Own home\",\"Own home\",\"Own home\",\"Own home\",\"Own home\",\"Own home\",\"Own home\",\"Own home\",\"Own home\",\"Own home\",\"Own home\",\"Own home\",\"Own home\",\"Own home\",\"Own home\",\"Own home\",\"Own home\",\"Own home\",\"Own home\",\"Own home\",\"Own home\",\"Own home\",\"Own home\",\"Own home\",\"Own home\",\"Own home\",\"Own home\",\"Own home\",\"Own home\",\"Own home\",\"Own home\"],\"y\":[51,59,56,54,53,57,53,54,58,51,57],\"type\":\"bar\"},{\"name\":\"Age in 60-69 bracket\",\"x\":[\"Own home\",\"Own home\",\"Own home\",\"Own home\",\"Own home\",\"Own home\",\"Hospital\",\"Own home\",\"Own home\",\"Own home\",\"Own home\",\"Own home\",\"Own home\",\"Own home\",\"Own home\",\"Own home\",\"Own home\",\"Own home\",\"Own home\",\"Own home\",\"Own home\",\"Own home\",\"Own home\",\"Own home\",\"Own home\",\"Own home\",\"Own home\",\"Own home\",\"Own home\",\"Own home\",\"Own home\",\"Own home\",\"Residential Home\",\"Own home\",\"Own home\",\"Own home\",\"Own home\",\"Own home\",\"Own home\",\"Own home\",\"Own home\",\"Own home\",\"Own home\",\"Own home\",\"Own home\",\"Own home\",\"Own home\",\"Own home\",\"Own home\",\"Own home\",\"Own home\",\"Own home\",\"Own home\",\"Own home\",\"Own home\",\"Own home\",\"Own home\",\"Own home\",\"Own home\",\"Shipman's surgery\",\"Own home\",\"Own home\",\"Own home\",\"Own home\",\"Own home\",\"Own home\",\"Own home\",\"Own home\",\"Own home\",\"Own home\",\"Own home\",\"Own home\",\"Own home\",\"Own home\",\"Own home\",\"Own home\",\"Own home\",\"Own home\",\"Own home\",\"Own home\",\"Own home\",\"Own home\",\"Own home\",\"Own home\",\"Own home\",\"Own home\",\"Own home\",\"Own home\",\"Own home\",\"Shipman's surgery\",\"Own home\",\"Own home\",\"Own home\",\"Own home\",\"Own home\",\"Own home\",\"Own home\",\"Own home\",\"Own home\",\"Own home\",\"Own home\",\"Own home\",\"Own home\",\"Own home\",\"Own home\",\"Own home\",\"Own home\",\"Own home\",\"Own home\",\"Own home\",\"Own home\",\"Own home\",\"Own home\",\"Hospital\",\"Own home\",\"Nursing home\",\"Shipman's surgery\",\"Own home\",\"Own home\",\"Own home\",\"Own home\",\"Own home\",\"Own home\",\"Shipman's surgery\",\"Own home\",\"Own home\",\"Own home\",\"Own home\",\"Own home\",\"Own home\",\"Own home\",\"Own home\",\"Own home\",\"Own home\",\"Own home\",\"Own home\",\"Own home\",\"Own home\",\"Shipman's surgery\",\"Own home\",\"Own home\",\"Own home\",\"Own home\",\"Own home\",\"Own home\",\"Own home\",\"Own home\",\"Own home\",\"Own home\",\"Own home\",\"Own home\",\"Own home\",\"Own home\",\"Own home\",\"Own home\",\"Own home\",\"Own home\",\"Own home\",\"Own home\",\"Own home\",\"Residential home\",\"Own home\",\"Own home\",\"Own home\",\"Own home\",\"Own home\",\"Own home\",\"Own home\",\"Own home\",\"Own home\",\"Own home\",\"Own home\",\"Own home\",\"Own home\",\"Own home\",\"Own home\",\"Own home\",\"Shipman's surgery\",\"Own home\",\"Own home\",\"Own home\",\"Own home\",\"Own home\",\"Own home\",\"Own home\",\"Own home\",\"Own home\",\"Own home\",\"Own home\",\"Own home\",\"Own home\",\"Own home\",\"Own home\",\"Own home\",\"Own home\",\"Own home\",\"Own home\",\"Own home\",\"Own home\",\"Own home\",\"Own home\",\"Own home\",\"Own home\",\"Own home\",\"Own home\",\"Own home\",\"Own home\",\"Own home\",\"Own home\",\"Own home\",\"Own home\",\"Own home\",\"Own home\",\"Own home\",\"Own home\"],\"y\":[69,63,69,69,69,67,69,68,60,68,63,65,67,63,67,69,68,63,69,69,67,64,68,65],\"type\":\"bar\"},{\"name\":\"Age in 70-79 bracket\",\"x\":[\"Own home\",\"Own home\",\"Own home\",\"Own home\",\"Own home\",\"Own home\",\"Hospital\",\"Own home\",\"Own home\",\"Own home\",\"Own home\",\"Own home\",\"Own home\",\"Own home\",\"Own home\",\"Own home\",\"Own home\",\"Own home\",\"Own home\",\"Own home\",\"Own home\",\"Own home\",\"Own home\",\"Own home\",\"Own home\",\"Own home\",\"Own home\",\"Own home\",\"Own home\",\"Own home\",\"Own home\",\"Own home\",\"Residential Home\",\"Own home\",\"Own home\",\"Own home\",\"Own home\",\"Own home\",\"Own home\",\"Own home\",\"Own home\",\"Own home\",\"Own home\",\"Own home\",\"Own home\",\"Own home\",\"Own home\",\"Own home\",\"Own home\",\"Own home\",\"Own home\",\"Own home\",\"Own home\",\"Own home\",\"Own home\",\"Own home\",\"Own home\",\"Own home\",\"Own home\",\"Shipman's surgery\",\"Own home\",\"Own home\",\"Own home\",\"Own home\",\"Own home\",\"Own home\",\"Own home\",\"Own home\",\"Own home\",\"Own home\",\"Own home\",\"Own home\",\"Own home\",\"Own home\",\"Own home\",\"Own home\",\"Own home\",\"Own home\",\"Own home\",\"Own home\",\"Own home\",\"Own home\",\"Own home\",\"Own home\",\"Own home\",\"Own home\",\"Own home\",\"Own home\",\"Own home\",\"Shipman's surgery\",\"Own home\",\"Own home\",\"Own home\",\"Own home\",\"Own home\",\"Own home\",\"Own home\",\"Own home\",\"Own home\",\"Own home\",\"Own home\",\"Own home\",\"Own home\",\"Own home\",\"Own home\",\"Own home\",\"Own home\",\"Own home\",\"Own home\",\"Own home\",\"Own home\",\"Own home\",\"Own home\",\"Hospital\",\"Own home\",\"Nursing home\",\"Shipman's surgery\",\"Own home\",\"Own home\",\"Own home\",\"Own home\",\"Own home\",\"Own home\",\"Shipman's surgery\",\"Own home\",\"Own home\",\"Own home\",\"Own home\",\"Own home\",\"Own home\",\"Own home\",\"Own home\",\"Own home\",\"Own home\",\"Own home\",\"Own home\",\"Own home\",\"Own home\",\"Shipman's surgery\",\"Own home\",\"Own home\",\"Own home\",\"Own home\",\"Own home\",\"Own home\",\"Own home\",\"Own home\",\"Own home\",\"Own home\",\"Own home\",\"Own home\",\"Own home\",\"Own home\",\"Own home\",\"Own home\",\"Own home\",\"Own home\",\"Own home\",\"Own home\",\"Own home\",\"Residential home\",\"Own home\",\"Own home\",\"Own home\",\"Own home\",\"Own home\",\"Own home\",\"Own home\",\"Own home\",\"Own home\",\"Own home\",\"Own home\",\"Own home\",\"Own home\",\"Own home\",\"Own home\",\"Own home\",\"Shipman's surgery\",\"Own home\",\"Own home\",\"Own home\",\"Own home\",\"Own home\",\"Own home\",\"Own home\",\"Own home\",\"Own home\",\"Own home\",\"Own home\",\"Own home\",\"Own home\",\"Own home\",\"Own home\",\"Own home\",\"Own home\",\"Own home\",\"Own home\",\"Own home\",\"Own home\",\"Own home\",\"Own home\",\"Own home\",\"Own home\",\"Own home\",\"Own home\",\"Own home\",\"Own home\",\"Own home\",\"Own home\",\"Own home\",\"Own home\",\"Own home\",\"Own home\",\"Own home\",\"Own home\"],\"y\":[70,73,73,76,77,77,78,70,76,76,72,74,73,70,77,79,79,74,73,75,76,78,71,74,78,75,72,74,74,77,74,77,78,73,70,78,75,70,71,70,71,75,72,74,75,79,71,79,77,72,77,77,76,75,76,76,78,73,75,76,70,74,77,76,76,74,79,76,72,79,79,77,79,78,70,73,79,73,74,75,77,74,77,73,73],\"type\":\"bar\"},{\"name\":\"Age in 80-89 bracket\",\"x\":[\"Own home\",\"Own home\",\"Own home\",\"Own home\",\"Own home\",\"Own home\",\"Hospital\",\"Own home\",\"Own home\",\"Own home\",\"Own home\",\"Own home\",\"Own home\",\"Own home\",\"Own home\",\"Own home\",\"Own home\",\"Own home\",\"Own home\",\"Own home\",\"Own home\",\"Own home\",\"Own home\",\"Own home\",\"Own home\",\"Own home\",\"Own home\",\"Own home\",\"Own home\",\"Own home\",\"Own home\",\"Own home\",\"Residential Home\",\"Own home\",\"Own home\",\"Own home\",\"Own home\",\"Own home\",\"Own home\",\"Own home\",\"Own home\",\"Own home\",\"Own home\",\"Own home\",\"Own home\",\"Own home\",\"Own home\",\"Own home\",\"Own home\",\"Own home\",\"Own home\",\"Own home\",\"Own home\",\"Own home\",\"Own home\",\"Own home\",\"Own home\",\"Own home\",\"Own home\",\"Shipman's surgery\",\"Own home\",\"Own home\",\"Own home\",\"Own home\",\"Own home\",\"Own home\",\"Own home\",\"Own home\",\"Own home\",\"Own home\",\"Own home\",\"Own home\",\"Own home\",\"Own home\",\"Own home\",\"Own home\",\"Own home\",\"Own home\",\"Own home\",\"Own home\",\"Own home\",\"Own home\",\"Own home\",\"Own home\",\"Own home\",\"Own home\",\"Own home\",\"Own home\",\"Own home\",\"Shipman's surgery\",\"Own home\",\"Own home\",\"Own home\",\"Own home\",\"Own home\",\"Own home\",\"Own home\",\"Own home\",\"Own home\",\"Own home\",\"Own home\",\"Own home\",\"Own home\",\"Own home\",\"Own home\",\"Own home\",\"Own home\",\"Own home\",\"Own home\",\"Own home\",\"Own home\",\"Own home\",\"Own home\",\"Hospital\",\"Own home\",\"Nursing home\",\"Shipman's surgery\",\"Own home\",\"Own home\",\"Own home\",\"Own home\",\"Own home\",\"Own home\",\"Shipman's surgery\",\"Own home\",\"Own home\",\"Own home\",\"Own home\",\"Own home\",\"Own home\",\"Own home\",\"Own home\",\"Own home\",\"Own home\",\"Own home\",\"Own home\",\"Own home\",\"Own home\",\"Shipman's surgery\",\"Own home\",\"Own home\",\"Own home\",\"Own home\",\"Own home\",\"Own home\",\"Own home\",\"Own home\",\"Own home\",\"Own home\",\"Own home\",\"Own home\",\"Own home\",\"Own home\",\"Own home\",\"Own home\",\"Own home\",\"Own home\",\"Own home\",\"Own home\",\"Own home\",\"Residential home\",\"Own home\",\"Own home\",\"Own home\",\"Own home\",\"Own home\",\"Own home\",\"Own home\",\"Own home\",\"Own home\",\"Own home\",\"Own home\",\"Own home\",\"Own home\",\"Own home\",\"Own home\",\"Own home\",\"Shipman's surgery\",\"Own home\",\"Own home\",\"Own home\",\"Own home\",\"Own home\",\"Own home\",\"Own home\",\"Own home\",\"Own home\",\"Own home\",\"Own home\",\"Own home\",\"Own home\",\"Own home\",\"Own home\",\"Own home\",\"Own home\",\"Own home\",\"Own home\",\"Own home\",\"Own home\",\"Own home\",\"Own home\",\"Own home\",\"Own home\",\"Own home\",\"Own home\",\"Own home\",\"Own home\",\"Own home\",\"Own home\",\"Own home\",\"Own home\",\"Own home\",\"Own home\",\"Own home\",\"Own home\"],\"y\":[86,88,84,81,83,87,80,84,84,85,81,81,82,85,83,80,83,83,84,80,85,87,80,80,81,80,82,82,82,81,85,86,82,86,84,84,82,84,87,87,81,88,88,81,88,82,86,85,84,85,82,88,82,87,87,88,81,80,88,85,82,82,86,81,81,84,85,84,85,89,89,84,80,86,81,83,81,83,83,84,83,88,81],\"type\":\"bar\"},{\"name\":\"Age in 90-99 bracket\",\"x\":[\"Own home\",\"Own home\",\"Own home\",\"Own home\",\"Own home\",\"Own home\",\"Hospital\",\"Own home\",\"Own home\",\"Own home\",\"Own home\",\"Own home\",\"Own home\",\"Own home\",\"Own home\",\"Own home\",\"Own home\",\"Own home\",\"Own home\",\"Own home\",\"Own home\",\"Own home\",\"Own home\",\"Own home\",\"Own home\",\"Own home\",\"Own home\",\"Own home\",\"Own home\",\"Own home\",\"Own home\",\"Own home\",\"Residential Home\",\"Own home\",\"Own home\",\"Own home\",\"Own home\",\"Own home\",\"Own home\",\"Own home\",\"Own home\",\"Own home\",\"Own home\",\"Own home\",\"Own home\",\"Own home\",\"Own home\",\"Own home\",\"Own home\",\"Own home\",\"Own home\",\"Own home\",\"Own home\",\"Own home\",\"Own home\",\"Own home\",\"Own home\",\"Own home\",\"Own home\",\"Shipman's surgery\",\"Own home\",\"Own home\",\"Own home\",\"Own home\",\"Own home\",\"Own home\",\"Own home\",\"Own home\",\"Own home\",\"Own home\",\"Own home\",\"Own home\",\"Own home\",\"Own home\",\"Own home\",\"Own home\",\"Own home\",\"Own home\",\"Own home\",\"Own home\",\"Own home\",\"Own home\",\"Own home\",\"Own home\",\"Own home\",\"Own home\",\"Own home\",\"Own home\",\"Own home\",\"Shipman's surgery\",\"Own home\",\"Own home\",\"Own home\",\"Own home\",\"Own home\",\"Own home\",\"Own home\",\"Own home\",\"Own home\",\"Own home\",\"Own home\",\"Own home\",\"Own home\",\"Own home\",\"Own home\",\"Own home\",\"Own home\",\"Own home\",\"Own home\",\"Own home\",\"Own home\",\"Own home\",\"Own home\",\"Hospital\",\"Own home\",\"Nursing home\",\"Shipman's surgery\",\"Own home\",\"Own home\",\"Own home\",\"Own home\",\"Own home\",\"Own home\",\"Shipman's surgery\",\"Own home\",\"Own home\",\"Own home\",\"Own home\",\"Own home\",\"Own home\",\"Own home\",\"Own home\",\"Own home\",\"Own home\",\"Own home\",\"Own home\",\"Own home\",\"Own home\",\"Shipman's surgery\",\"Own home\",\"Own home\",\"Own home\",\"Own home\",\"Own home\",\"Own home\",\"Own home\",\"Own home\",\"Own home\",\"Own home\",\"Own home\",\"Own home\",\"Own home\",\"Own home\",\"Own home\",\"Own home\",\"Own home\",\"Own home\",\"Own home\",\"Own home\",\"Own home\",\"Residential home\",\"Own home\",\"Own home\",\"Own home\",\"Own home\",\"Own home\",\"Own home\",\"Own home\",\"Own home\",\"Own home\",\"Own home\",\"Own home\",\"Own home\",\"Own home\",\"Own home\",\"Own home\",\"Own home\",\"Shipman's surgery\",\"Own home\",\"Own home\",\"Own home\",\"Own home\",\"Own home\",\"Own home\",\"Own home\",\"Own home\",\"Own home\",\"Own home\",\"Own home\",\"Own home\",\"Own home\",\"Own home\",\"Own home\",\"Own home\",\"Own home\",\"Own home\",\"Own home\",\"Own home\",\"Own home\",\"Own home\",\"Own home\",\"Own home\",\"Own home\",\"Own home\",\"Own home\",\"Own home\",\"Own home\",\"Own home\",\"Own home\",\"Own home\",\"Own home\",\"Own home\",\"Own home\",\"Own home\",\"Own home\"],\"y\":[90,90,90,93,92,90,90],\"type\":\"bar\"}],                        {\"title\":{\"text\":\"Place of Death and Age\"},\"xaxis\":{\"title\":{\"text\":\"Place of Death\"}},\"yaxis\":{\"title\":{\"text\":\"Age\"}},\"template\":{\"data\":{\"histogram2dcontour\":[{\"type\":\"histogram2dcontour\",\"colorbar\":{\"outlinewidth\":0,\"ticks\":\"\"},\"colorscale\":[[0.0,\"#0d0887\"],[0.1111111111111111,\"#46039f\"],[0.2222222222222222,\"#7201a8\"],[0.3333333333333333,\"#9c179e\"],[0.4444444444444444,\"#bd3786\"],[0.5555555555555556,\"#d8576b\"],[0.6666666666666666,\"#ed7953\"],[0.7777777777777778,\"#fb9f3a\"],[0.8888888888888888,\"#fdca26\"],[1.0,\"#f0f921\"]]}],\"choropleth\":[{\"type\":\"choropleth\",\"colorbar\":{\"outlinewidth\":0,\"ticks\":\"\"}}],\"histogram2d\":[{\"type\":\"histogram2d\",\"colorbar\":{\"outlinewidth\":0,\"ticks\":\"\"},\"colorscale\":[[0.0,\"#0d0887\"],[0.1111111111111111,\"#46039f\"],[0.2222222222222222,\"#7201a8\"],[0.3333333333333333,\"#9c179e\"],[0.4444444444444444,\"#bd3786\"],[0.5555555555555556,\"#d8576b\"],[0.6666666666666666,\"#ed7953\"],[0.7777777777777778,\"#fb9f3a\"],[0.8888888888888888,\"#fdca26\"],[1.0,\"#f0f921\"]]}],\"heatmap\":[{\"type\":\"heatmap\",\"colorbar\":{\"outlinewidth\":0,\"ticks\":\"\"},\"colorscale\":[[0.0,\"#0d0887\"],[0.1111111111111111,\"#46039f\"],[0.2222222222222222,\"#7201a8\"],[0.3333333333333333,\"#9c179e\"],[0.4444444444444444,\"#bd3786\"],[0.5555555555555556,\"#d8576b\"],[0.6666666666666666,\"#ed7953\"],[0.7777777777777778,\"#fb9f3a\"],[0.8888888888888888,\"#fdca26\"],[1.0,\"#f0f921\"]]}],\"heatmapgl\":[{\"type\":\"heatmapgl\",\"colorbar\":{\"outlinewidth\":0,\"ticks\":\"\"},\"colorscale\":[[0.0,\"#0d0887\"],[0.1111111111111111,\"#46039f\"],[0.2222222222222222,\"#7201a8\"],[0.3333333333333333,\"#9c179e\"],[0.4444444444444444,\"#bd3786\"],[0.5555555555555556,\"#d8576b\"],[0.6666666666666666,\"#ed7953\"],[0.7777777777777778,\"#fb9f3a\"],[0.8888888888888888,\"#fdca26\"],[1.0,\"#f0f921\"]]}],\"contourcarpet\":[{\"type\":\"contourcarpet\",\"colorbar\":{\"outlinewidth\":0,\"ticks\":\"\"}}],\"contour\":[{\"type\":\"contour\",\"colorbar\":{\"outlinewidth\":0,\"ticks\":\"\"},\"colorscale\":[[0.0,\"#0d0887\"],[0.1111111111111111,\"#46039f\"],[0.2222222222222222,\"#7201a8\"],[0.3333333333333333,\"#9c179e\"],[0.4444444444444444,\"#bd3786\"],[0.5555555555555556,\"#d8576b\"],[0.6666666666666666,\"#ed7953\"],[0.7777777777777778,\"#fb9f3a\"],[0.8888888888888888,\"#fdca26\"],[1.0,\"#f0f921\"]]}],\"surface\":[{\"type\":\"surface\",\"colorbar\":{\"outlinewidth\":0,\"ticks\":\"\"},\"colorscale\":[[0.0,\"#0d0887\"],[0.1111111111111111,\"#46039f\"],[0.2222222222222222,\"#7201a8\"],[0.3333333333333333,\"#9c179e\"],[0.4444444444444444,\"#bd3786\"],[0.5555555555555556,\"#d8576b\"],[0.6666666666666666,\"#ed7953\"],[0.7777777777777778,\"#fb9f3a\"],[0.8888888888888888,\"#fdca26\"],[1.0,\"#f0f921\"]]}],\"mesh3d\":[{\"type\":\"mesh3d\",\"colorbar\":{\"outlinewidth\":0,\"ticks\":\"\"}}],\"scatter\":[{\"fillpattern\":{\"fillmode\":\"overlay\",\"size\":10,\"solidity\":0.2},\"type\":\"scatter\"}],\"parcoords\":[{\"type\":\"parcoords\",\"line\":{\"colorbar\":{\"outlinewidth\":0,\"ticks\":\"\"}}}],\"scatterpolargl\":[{\"type\":\"scatterpolargl\",\"marker\":{\"colorbar\":{\"outlinewidth\":0,\"ticks\":\"\"}}}],\"bar\":[{\"error_x\":{\"color\":\"#2a3f5f\"},\"error_y\":{\"color\":\"#2a3f5f\"},\"marker\":{\"line\":{\"color\":\"#E5ECF6\",\"width\":0.5},\"pattern\":{\"fillmode\":\"overlay\",\"size\":10,\"solidity\":0.2}},\"type\":\"bar\"}],\"scattergeo\":[{\"type\":\"scattergeo\",\"marker\":{\"colorbar\":{\"outlinewidth\":0,\"ticks\":\"\"}}}],\"scatterpolar\":[{\"type\":\"scatterpolar\",\"marker\":{\"colorbar\":{\"outlinewidth\":0,\"ticks\":\"\"}}}],\"histogram\":[{\"marker\":{\"pattern\":{\"fillmode\":\"overlay\",\"size\":10,\"solidity\":0.2}},\"type\":\"histogram\"}],\"scattergl\":[{\"type\":\"scattergl\",\"marker\":{\"colorbar\":{\"outlinewidth\":0,\"ticks\":\"\"}}}],\"scatter3d\":[{\"type\":\"scatter3d\",\"line\":{\"colorbar\":{\"outlinewidth\":0,\"ticks\":\"\"}},\"marker\":{\"colorbar\":{\"outlinewidth\":0,\"ticks\":\"\"}}}],\"scattermapbox\":[{\"type\":\"scattermapbox\",\"marker\":{\"colorbar\":{\"outlinewidth\":0,\"ticks\":\"\"}}}],\"scatterternary\":[{\"type\":\"scatterternary\",\"marker\":{\"colorbar\":{\"outlinewidth\":0,\"ticks\":\"\"}}}],\"scattercarpet\":[{\"type\":\"scattercarpet\",\"marker\":{\"colorbar\":{\"outlinewidth\":0,\"ticks\":\"\"}}}],\"carpet\":[{\"aaxis\":{\"endlinecolor\":\"#2a3f5f\",\"gridcolor\":\"white\",\"linecolor\":\"white\",\"minorgridcolor\":\"white\",\"startlinecolor\":\"#2a3f5f\"},\"baxis\":{\"endlinecolor\":\"#2a3f5f\",\"gridcolor\":\"white\",\"linecolor\":\"white\",\"minorgridcolor\":\"white\",\"startlinecolor\":\"#2a3f5f\"},\"type\":\"carpet\"}],\"table\":[{\"cells\":{\"fill\":{\"color\":\"#EBF0F8\"},\"line\":{\"color\":\"white\"}},\"header\":{\"fill\":{\"color\":\"#C8D4E3\"},\"line\":{\"color\":\"white\"}},\"type\":\"table\"}],\"barpolar\":[{\"marker\":{\"line\":{\"color\":\"#E5ECF6\",\"width\":0.5},\"pattern\":{\"fillmode\":\"overlay\",\"size\":10,\"solidity\":0.2}},\"type\":\"barpolar\"}],\"pie\":[{\"automargin\":true,\"type\":\"pie\"}]},\"layout\":{\"autotypenumbers\":\"strict\",\"colorway\":[\"#636efa\",\"#EF553B\",\"#00cc96\",\"#ab63fa\",\"#FFA15A\",\"#19d3f3\",\"#FF6692\",\"#B6E880\",\"#FF97FF\",\"#FECB52\"],\"font\":{\"color\":\"#2a3f5f\"},\"hovermode\":\"closest\",\"hoverlabel\":{\"align\":\"left\"},\"paper_bgcolor\":\"white\",\"plot_bgcolor\":\"#E5ECF6\",\"polar\":{\"bgcolor\":\"#E5ECF6\",\"angularaxis\":{\"gridcolor\":\"white\",\"linecolor\":\"white\",\"ticks\":\"\"},\"radialaxis\":{\"gridcolor\":\"white\",\"linecolor\":\"white\",\"ticks\":\"\"}},\"ternary\":{\"bgcolor\":\"#E5ECF6\",\"aaxis\":{\"gridcolor\":\"white\",\"linecolor\":\"white\",\"ticks\":\"\"},\"baxis\":{\"gridcolor\":\"white\",\"linecolor\":\"white\",\"ticks\":\"\"},\"caxis\":{\"gridcolor\":\"white\",\"linecolor\":\"white\",\"ticks\":\"\"}},\"coloraxis\":{\"colorbar\":{\"outlinewidth\":0,\"ticks\":\"\"}},\"colorscale\":{\"sequential\":[[0.0,\"#0d0887\"],[0.1111111111111111,\"#46039f\"],[0.2222222222222222,\"#7201a8\"],[0.3333333333333333,\"#9c179e\"],[0.4444444444444444,\"#bd3786\"],[0.5555555555555556,\"#d8576b\"],[0.6666666666666666,\"#ed7953\"],[0.7777777777777778,\"#fb9f3a\"],[0.8888888888888888,\"#fdca26\"],[1.0,\"#f0f921\"]],\"sequentialminus\":[[0.0,\"#0d0887\"],[0.1111111111111111,\"#46039f\"],[0.2222222222222222,\"#7201a8\"],[0.3333333333333333,\"#9c179e\"],[0.4444444444444444,\"#bd3786\"],[0.5555555555555556,\"#d8576b\"],[0.6666666666666666,\"#ed7953\"],[0.7777777777777778,\"#fb9f3a\"],[0.8888888888888888,\"#fdca26\"],[1.0,\"#f0f921\"]],\"diverging\":[[0,\"#8e0152\"],[0.1,\"#c51b7d\"],[0.2,\"#de77ae\"],[0.3,\"#f1b6da\"],[0.4,\"#fde0ef\"],[0.5,\"#f7f7f7\"],[0.6,\"#e6f5d0\"],[0.7,\"#b8e186\"],[0.8,\"#7fbc41\"],[0.9,\"#4d9221\"],[1,\"#276419\"]]},\"xaxis\":{\"gridcolor\":\"white\",\"linecolor\":\"white\",\"ticks\":\"\",\"title\":{\"standoff\":15},\"zerolinecolor\":\"white\",\"automargin\":true,\"zerolinewidth\":2},\"yaxis\":{\"gridcolor\":\"white\",\"linecolor\":\"white\",\"ticks\":\"\",\"title\":{\"standoff\":15},\"zerolinecolor\":\"white\",\"automargin\":true,\"zerolinewidth\":2},\"scene\":{\"xaxis\":{\"backgroundcolor\":\"#E5ECF6\",\"gridcolor\":\"white\",\"linecolor\":\"white\",\"showbackground\":true,\"ticks\":\"\",\"zerolinecolor\":\"white\",\"gridwidth\":2},\"yaxis\":{\"backgroundcolor\":\"#E5ECF6\",\"gridcolor\":\"white\",\"linecolor\":\"white\",\"showbackground\":true,\"ticks\":\"\",\"zerolinecolor\":\"white\",\"gridwidth\":2},\"zaxis\":{\"backgroundcolor\":\"#E5ECF6\",\"gridcolor\":\"white\",\"linecolor\":\"white\",\"showbackground\":true,\"ticks\":\"\",\"zerolinecolor\":\"white\",\"gridwidth\":2}},\"shapedefaults\":{\"line\":{\"color\":\"#2a3f5f\"}},\"annotationdefaults\":{\"arrowcolor\":\"#2a3f5f\",\"arrowhead\":0,\"arrowwidth\":1},\"geo\":{\"bgcolor\":\"white\",\"landcolor\":\"#E5ECF6\",\"subunitcolor\":\"white\",\"showland\":true,\"showlakes\":true,\"lakecolor\":\"white\"},\"title\":{\"x\":0.05},\"mapbox\":{\"style\":\"light\"}}}},                        {\"responsive\": true}                    ).then(function(){\n",
       "                            \n",
       "var gd = document.getElementById('73f1a82e-9c4e-45c8-a902-a1d730437e8f');\n",
       "var x = new MutationObserver(function (mutations, observer) {{\n",
       "        var display = window.getComputedStyle(gd).display;\n",
       "        if (!display || display === 'none') {{\n",
       "            console.log([gd, 'removed!']);\n",
       "            Plotly.purge(gd);\n",
       "            observer.disconnect();\n",
       "        }}\n",
       "}});\n",
       "\n",
       "// Listen for the removal of the full notebook cells\n",
       "var notebookContainer = gd.closest('#notebook-container');\n",
       "if (notebookContainer) {{\n",
       "    x.observe(notebookContainer, {childList: true});\n",
       "}}\n",
       "\n",
       "// Listen for the clearing of the current output cell\n",
       "var outputEl = gd.closest('.output');\n",
       "if (outputEl) {{\n",
       "    x.observe(outputEl, {childList: true});\n",
       "}}\n",
       "\n",
       "                        })                };                });            </script>        </div>"
      ]
     },
     "metadata": {},
     "output_type": "display_data"
    },
    {
     "data": {
      "text/plain": [
       "'NestedBarGraph.html'"
      ]
     },
     "execution_count": 224,
     "metadata": {},
     "output_type": "execute_result"
    }
   ],
   "source": [
    "# Nested Bar plot:\n",
    "\n",
    "# Creating traces for each bar based on the age bracket:\n",
    "\n",
    "age_forties= go.Bar(x= shipman_victims['PlaceofDeath'],\n",
    "               y= shipman_victims[shipman_victims['Age'] <= 49]['Age'],\n",
    "               name='Age less than or equal to 49 years'  \n",
    "             )\n",
    "              \n",
    "       \n",
    "\n",
    "age_fifties= go.Bar(x= shipman_victims['PlaceofDeath'],\n",
    "               y= shipman_victims[(shipman_victims['Age']> 49) & (shipman_victims['Age'] <=59)]['Age'],\n",
    "               name='Age in 50-59 bracket' \n",
    "             )\n",
    "              \n",
    "      \n",
    "\n",
    "age_sixties= go.Bar(x= shipman_victims['PlaceofDeath'],\n",
    "                y= shipman_victims[(shipman_victims['Age']> 59) & (shipman_victims['Age'] <=69)]['Age'],\n",
    "               name='Age in 60-69 bracket'  \n",
    "             )\n",
    "              \n",
    "age_seventies= go.Bar(x= shipman_victims['PlaceofDeath'],\n",
    "                y= shipman_victims[(shipman_victims['Age']> 69) & (shipman_victims['Age'] <=79)]['Age'],\n",
    "               name='Age in 70-79 bracket'  \n",
    "             ) \n",
    "\n",
    "age_eighties= go.Bar(x= shipman_victims['PlaceofDeath'],\n",
    "                y= shipman_victims[(shipman_victims['Age']> 79) & (shipman_victims['Age'] <=89)]['Age'],\n",
    "               name='Age in 80-89 bracket'   \n",
    "             ) \n",
    "\n",
    "age_nineties= go.Bar(x= shipman_victims['PlaceofDeath'],\n",
    "                y= shipman_victims[(shipman_victims['Age']> 89) & (shipman_victims['Age'] <= 99)]['Age'],\n",
    "               name='Age in 90-99 bracket'   \n",
    "             ) \n",
    "\n",
    "data= [age_forties, age_fifties, age_sixties, age_seventies, age_eighties, age_nineties]  \n",
    "\n",
    "### layout:#\n",
    "\n",
    "layout= go.Layout(title='Place of Death and Age',\n",
    "                  xaxis= dict(title='Place of Death'),\n",
    "                  yaxis= dict(title= 'Age')\n",
    "                  )\n",
    "\n",
    "fig= go.Figure(data=data, layout=layout)\n",
    "\n",
    "fig.show()\n",
    "pyo.plot(fig, filename='NestedBarGraph.html')"
   ]
  },
  {
   "cell_type": "markdown",
   "id": "91b39107",
   "metadata": {},
   "source": [
    "#### Histogram:"
   ]
  },
  {
   "cell_type": "code",
   "execution_count": 225,
   "id": "680675d8",
   "metadata": {},
   "outputs": [
    {
     "data": {
      "application/vnd.plotly.v1+json": {
       "config": {
        "plotlyServerURL": "https://plot.ly"
       },
       "data": [
        {
         "name": "Female",
         "opacity": 0.75,
         "type": "histogram",
         "x": [
          70,
          86,
          73,
          88,
          76,
          84,
          81,
          77,
          51,
          78,
          70,
          76,
          87,
          76,
          72,
          74,
          84,
          69,
          73,
          84,
          85,
          77,
          79,
          81,
          74,
          63,
          73,
          59,
          75,
          83,
          78,
          71,
          80,
          69,
          74,
          90,
          83,
          90,
          93,
          83,
          84,
          80,
          69,
          80,
          80,
          81,
          78,
          69,
          75,
          80,
          82,
          82,
          82,
          56,
          69,
          72,
          86,
          92,
          82,
          86,
          74,
          84,
          74,
          77,
          68,
          84,
          60,
          74,
          77,
          78,
          54,
          82,
          53,
          73,
          84,
          57,
          87,
          70,
          78,
          87,
          75,
          81,
          88,
          70,
          81,
          71,
          88,
          53,
          70,
          71,
          85,
          84,
          47,
          75,
          68,
          63,
          82,
          88,
          65,
          87,
          87,
          74,
          67,
          81,
          79,
          80,
          71,
          79,
          85,
          72,
          54,
          77,
          63,
          82,
          82,
          86,
          81,
          67,
          81,
          84,
          85,
          84,
          85,
          75,
          76,
          76,
          89,
          75,
          69,
          76,
          89,
          90,
          70,
          74,
          77,
          76,
          84,
          80,
          76,
          58,
          68,
          74,
          79,
          63,
          69,
          51,
          76,
          86,
          72,
          81,
          79,
          79,
          77,
          79,
          78,
          83,
          67,
          70,
          81,
          49,
          73,
          79,
          64,
          73,
          68,
          83,
          74,
          57,
          75,
          65,
          74,
          84,
          83,
          77,
          88,
          73,
          73,
          81
         ]
        },
        {
         "name": "Male",
         "opacity": 0.75,
         "type": "histogram",
         "x": [
          73,
          77,
          90,
          83,
          80,
          41,
          70,
          79,
          81,
          82,
          76,
          85,
          85,
          87,
          81,
          67,
          85,
          90,
          88,
          82,
          86,
          85,
          82,
          72,
          88,
          43,
          75,
          88,
          77,
          77,
          76,
          78,
          73,
          47,
          69,
          83,
          77
         ]
        }
       ],
       "layout": {
        "barmode": "overlay",
        "template": {
         "data": {
          "bar": [
           {
            "error_x": {
             "color": "#2a3f5f"
            },
            "error_y": {
             "color": "#2a3f5f"
            },
            "marker": {
             "line": {
              "color": "#E5ECF6",
              "width": 0.5
             },
             "pattern": {
              "fillmode": "overlay",
              "size": 10,
              "solidity": 0.2
             }
            },
            "type": "bar"
           }
          ],
          "barpolar": [
           {
            "marker": {
             "line": {
              "color": "#E5ECF6",
              "width": 0.5
             },
             "pattern": {
              "fillmode": "overlay",
              "size": 10,
              "solidity": 0.2
             }
            },
            "type": "barpolar"
           }
          ],
          "carpet": [
           {
            "aaxis": {
             "endlinecolor": "#2a3f5f",
             "gridcolor": "white",
             "linecolor": "white",
             "minorgridcolor": "white",
             "startlinecolor": "#2a3f5f"
            },
            "baxis": {
             "endlinecolor": "#2a3f5f",
             "gridcolor": "white",
             "linecolor": "white",
             "minorgridcolor": "white",
             "startlinecolor": "#2a3f5f"
            },
            "type": "carpet"
           }
          ],
          "choropleth": [
           {
            "colorbar": {
             "outlinewidth": 0,
             "ticks": ""
            },
            "type": "choropleth"
           }
          ],
          "contour": [
           {
            "colorbar": {
             "outlinewidth": 0,
             "ticks": ""
            },
            "colorscale": [
             [
              0,
              "#0d0887"
             ],
             [
              0.1111111111111111,
              "#46039f"
             ],
             [
              0.2222222222222222,
              "#7201a8"
             ],
             [
              0.3333333333333333,
              "#9c179e"
             ],
             [
              0.4444444444444444,
              "#bd3786"
             ],
             [
              0.5555555555555556,
              "#d8576b"
             ],
             [
              0.6666666666666666,
              "#ed7953"
             ],
             [
              0.7777777777777778,
              "#fb9f3a"
             ],
             [
              0.8888888888888888,
              "#fdca26"
             ],
             [
              1,
              "#f0f921"
             ]
            ],
            "type": "contour"
           }
          ],
          "contourcarpet": [
           {
            "colorbar": {
             "outlinewidth": 0,
             "ticks": ""
            },
            "type": "contourcarpet"
           }
          ],
          "heatmap": [
           {
            "colorbar": {
             "outlinewidth": 0,
             "ticks": ""
            },
            "colorscale": [
             [
              0,
              "#0d0887"
             ],
             [
              0.1111111111111111,
              "#46039f"
             ],
             [
              0.2222222222222222,
              "#7201a8"
             ],
             [
              0.3333333333333333,
              "#9c179e"
             ],
             [
              0.4444444444444444,
              "#bd3786"
             ],
             [
              0.5555555555555556,
              "#d8576b"
             ],
             [
              0.6666666666666666,
              "#ed7953"
             ],
             [
              0.7777777777777778,
              "#fb9f3a"
             ],
             [
              0.8888888888888888,
              "#fdca26"
             ],
             [
              1,
              "#f0f921"
             ]
            ],
            "type": "heatmap"
           }
          ],
          "heatmapgl": [
           {
            "colorbar": {
             "outlinewidth": 0,
             "ticks": ""
            },
            "colorscale": [
             [
              0,
              "#0d0887"
             ],
             [
              0.1111111111111111,
              "#46039f"
             ],
             [
              0.2222222222222222,
              "#7201a8"
             ],
             [
              0.3333333333333333,
              "#9c179e"
             ],
             [
              0.4444444444444444,
              "#bd3786"
             ],
             [
              0.5555555555555556,
              "#d8576b"
             ],
             [
              0.6666666666666666,
              "#ed7953"
             ],
             [
              0.7777777777777778,
              "#fb9f3a"
             ],
             [
              0.8888888888888888,
              "#fdca26"
             ],
             [
              1,
              "#f0f921"
             ]
            ],
            "type": "heatmapgl"
           }
          ],
          "histogram": [
           {
            "marker": {
             "pattern": {
              "fillmode": "overlay",
              "size": 10,
              "solidity": 0.2
             }
            },
            "type": "histogram"
           }
          ],
          "histogram2d": [
           {
            "colorbar": {
             "outlinewidth": 0,
             "ticks": ""
            },
            "colorscale": [
             [
              0,
              "#0d0887"
             ],
             [
              0.1111111111111111,
              "#46039f"
             ],
             [
              0.2222222222222222,
              "#7201a8"
             ],
             [
              0.3333333333333333,
              "#9c179e"
             ],
             [
              0.4444444444444444,
              "#bd3786"
             ],
             [
              0.5555555555555556,
              "#d8576b"
             ],
             [
              0.6666666666666666,
              "#ed7953"
             ],
             [
              0.7777777777777778,
              "#fb9f3a"
             ],
             [
              0.8888888888888888,
              "#fdca26"
             ],
             [
              1,
              "#f0f921"
             ]
            ],
            "type": "histogram2d"
           }
          ],
          "histogram2dcontour": [
           {
            "colorbar": {
             "outlinewidth": 0,
             "ticks": ""
            },
            "colorscale": [
             [
              0,
              "#0d0887"
             ],
             [
              0.1111111111111111,
              "#46039f"
             ],
             [
              0.2222222222222222,
              "#7201a8"
             ],
             [
              0.3333333333333333,
              "#9c179e"
             ],
             [
              0.4444444444444444,
              "#bd3786"
             ],
             [
              0.5555555555555556,
              "#d8576b"
             ],
             [
              0.6666666666666666,
              "#ed7953"
             ],
             [
              0.7777777777777778,
              "#fb9f3a"
             ],
             [
              0.8888888888888888,
              "#fdca26"
             ],
             [
              1,
              "#f0f921"
             ]
            ],
            "type": "histogram2dcontour"
           }
          ],
          "mesh3d": [
           {
            "colorbar": {
             "outlinewidth": 0,
             "ticks": ""
            },
            "type": "mesh3d"
           }
          ],
          "parcoords": [
           {
            "line": {
             "colorbar": {
              "outlinewidth": 0,
              "ticks": ""
             }
            },
            "type": "parcoords"
           }
          ],
          "pie": [
           {
            "automargin": true,
            "type": "pie"
           }
          ],
          "scatter": [
           {
            "fillpattern": {
             "fillmode": "overlay",
             "size": 10,
             "solidity": 0.2
            },
            "type": "scatter"
           }
          ],
          "scatter3d": [
           {
            "line": {
             "colorbar": {
              "outlinewidth": 0,
              "ticks": ""
             }
            },
            "marker": {
             "colorbar": {
              "outlinewidth": 0,
              "ticks": ""
             }
            },
            "type": "scatter3d"
           }
          ],
          "scattercarpet": [
           {
            "marker": {
             "colorbar": {
              "outlinewidth": 0,
              "ticks": ""
             }
            },
            "type": "scattercarpet"
           }
          ],
          "scattergeo": [
           {
            "marker": {
             "colorbar": {
              "outlinewidth": 0,
              "ticks": ""
             }
            },
            "type": "scattergeo"
           }
          ],
          "scattergl": [
           {
            "marker": {
             "colorbar": {
              "outlinewidth": 0,
              "ticks": ""
             }
            },
            "type": "scattergl"
           }
          ],
          "scattermapbox": [
           {
            "marker": {
             "colorbar": {
              "outlinewidth": 0,
              "ticks": ""
             }
            },
            "type": "scattermapbox"
           }
          ],
          "scatterpolar": [
           {
            "marker": {
             "colorbar": {
              "outlinewidth": 0,
              "ticks": ""
             }
            },
            "type": "scatterpolar"
           }
          ],
          "scatterpolargl": [
           {
            "marker": {
             "colorbar": {
              "outlinewidth": 0,
              "ticks": ""
             }
            },
            "type": "scatterpolargl"
           }
          ],
          "scatterternary": [
           {
            "marker": {
             "colorbar": {
              "outlinewidth": 0,
              "ticks": ""
             }
            },
            "type": "scatterternary"
           }
          ],
          "surface": [
           {
            "colorbar": {
             "outlinewidth": 0,
             "ticks": ""
            },
            "colorscale": [
             [
              0,
              "#0d0887"
             ],
             [
              0.1111111111111111,
              "#46039f"
             ],
             [
              0.2222222222222222,
              "#7201a8"
             ],
             [
              0.3333333333333333,
              "#9c179e"
             ],
             [
              0.4444444444444444,
              "#bd3786"
             ],
             [
              0.5555555555555556,
              "#d8576b"
             ],
             [
              0.6666666666666666,
              "#ed7953"
             ],
             [
              0.7777777777777778,
              "#fb9f3a"
             ],
             [
              0.8888888888888888,
              "#fdca26"
             ],
             [
              1,
              "#f0f921"
             ]
            ],
            "type": "surface"
           }
          ],
          "table": [
           {
            "cells": {
             "fill": {
              "color": "#EBF0F8"
             },
             "line": {
              "color": "white"
             }
            },
            "header": {
             "fill": {
              "color": "#C8D4E3"
             },
             "line": {
              "color": "white"
             }
            },
            "type": "table"
           }
          ]
         },
         "layout": {
          "annotationdefaults": {
           "arrowcolor": "#2a3f5f",
           "arrowhead": 0,
           "arrowwidth": 1
          },
          "autotypenumbers": "strict",
          "coloraxis": {
           "colorbar": {
            "outlinewidth": 0,
            "ticks": ""
           }
          },
          "colorscale": {
           "diverging": [
            [
             0,
             "#8e0152"
            ],
            [
             0.1,
             "#c51b7d"
            ],
            [
             0.2,
             "#de77ae"
            ],
            [
             0.3,
             "#f1b6da"
            ],
            [
             0.4,
             "#fde0ef"
            ],
            [
             0.5,
             "#f7f7f7"
            ],
            [
             0.6,
             "#e6f5d0"
            ],
            [
             0.7,
             "#b8e186"
            ],
            [
             0.8,
             "#7fbc41"
            ],
            [
             0.9,
             "#4d9221"
            ],
            [
             1,
             "#276419"
            ]
           ],
           "sequential": [
            [
             0,
             "#0d0887"
            ],
            [
             0.1111111111111111,
             "#46039f"
            ],
            [
             0.2222222222222222,
             "#7201a8"
            ],
            [
             0.3333333333333333,
             "#9c179e"
            ],
            [
             0.4444444444444444,
             "#bd3786"
            ],
            [
             0.5555555555555556,
             "#d8576b"
            ],
            [
             0.6666666666666666,
             "#ed7953"
            ],
            [
             0.7777777777777778,
             "#fb9f3a"
            ],
            [
             0.8888888888888888,
             "#fdca26"
            ],
            [
             1,
             "#f0f921"
            ]
           ],
           "sequentialminus": [
            [
             0,
             "#0d0887"
            ],
            [
             0.1111111111111111,
             "#46039f"
            ],
            [
             0.2222222222222222,
             "#7201a8"
            ],
            [
             0.3333333333333333,
             "#9c179e"
            ],
            [
             0.4444444444444444,
             "#bd3786"
            ],
            [
             0.5555555555555556,
             "#d8576b"
            ],
            [
             0.6666666666666666,
             "#ed7953"
            ],
            [
             0.7777777777777778,
             "#fb9f3a"
            ],
            [
             0.8888888888888888,
             "#fdca26"
            ],
            [
             1,
             "#f0f921"
            ]
           ]
          },
          "colorway": [
           "#636efa",
           "#EF553B",
           "#00cc96",
           "#ab63fa",
           "#FFA15A",
           "#19d3f3",
           "#FF6692",
           "#B6E880",
           "#FF97FF",
           "#FECB52"
          ],
          "font": {
           "color": "#2a3f5f"
          },
          "geo": {
           "bgcolor": "white",
           "lakecolor": "white",
           "landcolor": "#E5ECF6",
           "showlakes": true,
           "showland": true,
           "subunitcolor": "white"
          },
          "hoverlabel": {
           "align": "left"
          },
          "hovermode": "closest",
          "mapbox": {
           "style": "light"
          },
          "paper_bgcolor": "white",
          "plot_bgcolor": "#E5ECF6",
          "polar": {
           "angularaxis": {
            "gridcolor": "white",
            "linecolor": "white",
            "ticks": ""
           },
           "bgcolor": "#E5ECF6",
           "radialaxis": {
            "gridcolor": "white",
            "linecolor": "white",
            "ticks": ""
           }
          },
          "scene": {
           "xaxis": {
            "backgroundcolor": "#E5ECF6",
            "gridcolor": "white",
            "gridwidth": 2,
            "linecolor": "white",
            "showbackground": true,
            "ticks": "",
            "zerolinecolor": "white"
           },
           "yaxis": {
            "backgroundcolor": "#E5ECF6",
            "gridcolor": "white",
            "gridwidth": 2,
            "linecolor": "white",
            "showbackground": true,
            "ticks": "",
            "zerolinecolor": "white"
           },
           "zaxis": {
            "backgroundcolor": "#E5ECF6",
            "gridcolor": "white",
            "gridwidth": 2,
            "linecolor": "white",
            "showbackground": true,
            "ticks": "",
            "zerolinecolor": "white"
           }
          },
          "shapedefaults": {
           "line": {
            "color": "#2a3f5f"
           }
          },
          "ternary": {
           "aaxis": {
            "gridcolor": "white",
            "linecolor": "white",
            "ticks": ""
           },
           "baxis": {
            "gridcolor": "white",
            "linecolor": "white",
            "ticks": ""
           },
           "bgcolor": "#E5ECF6",
           "caxis": {
            "gridcolor": "white",
            "linecolor": "white",
            "ticks": ""
           }
          },
          "title": {
           "x": 0.05
          },
          "xaxis": {
           "automargin": true,
           "gridcolor": "white",
           "linecolor": "white",
           "ticks": "",
           "title": {
            "standoff": 15
           },
           "zerolinecolor": "white",
           "zerolinewidth": 2
          },
          "yaxis": {
           "automargin": true,
           "gridcolor": "white",
           "linecolor": "white",
           "ticks": "",
           "title": {
            "standoff": 15
           },
           "zerolinecolor": "white",
           "zerolinewidth": 2
          }
         }
        },
        "title": {
         "text": "Victim's Age Comparison by Gender"
        }
       }
      },
      "text/html": [
       "<div>                            <div id=\"bd33fe2e-6bbd-4ea7-8b00-891101c0fff2\" class=\"plotly-graph-div\" style=\"height:525px; width:100%;\"></div>            <script type=\"text/javascript\">                require([\"plotly\"], function(Plotly) {                    window.PLOTLYENV=window.PLOTLYENV || {};                                    if (document.getElementById(\"bd33fe2e-6bbd-4ea7-8b00-891101c0fff2\")) {                    Plotly.newPlot(                        \"bd33fe2e-6bbd-4ea7-8b00-891101c0fff2\",                        [{\"name\":\"Female\",\"opacity\":0.75,\"x\":[70,86,73,88,76,84,81,77,51,78,70,76,87,76,72,74,84,69,73,84,85,77,79,81,74,63,73,59,75,83,78,71,80,69,74,90,83,90,93,83,84,80,69,80,80,81,78,69,75,80,82,82,82,56,69,72,86,92,82,86,74,84,74,77,68,84,60,74,77,78,54,82,53,73,84,57,87,70,78,87,75,81,88,70,81,71,88,53,70,71,85,84,47,75,68,63,82,88,65,87,87,74,67,81,79,80,71,79,85,72,54,77,63,82,82,86,81,67,81,84,85,84,85,75,76,76,89,75,69,76,89,90,70,74,77,76,84,80,76,58,68,74,79,63,69,51,76,86,72,81,79,79,77,79,78,83,67,70,81,49,73,79,64,73,68,83,74,57,75,65,74,84,83,77,88,73,73,81],\"type\":\"histogram\"},{\"name\":\"Male\",\"opacity\":0.75,\"x\":[73,77,90,83,80,41,70,79,81,82,76,85,85,87,81,67,85,90,88,82,86,85,82,72,88,43,75,88,77,77,76,78,73,47,69,83,77],\"type\":\"histogram\"}],                        {\"barmode\":\"overlay\",\"title\":{\"text\":\"Victim's Age Comparison by Gender\"},\"template\":{\"data\":{\"histogram2dcontour\":[{\"type\":\"histogram2dcontour\",\"colorbar\":{\"outlinewidth\":0,\"ticks\":\"\"},\"colorscale\":[[0.0,\"#0d0887\"],[0.1111111111111111,\"#46039f\"],[0.2222222222222222,\"#7201a8\"],[0.3333333333333333,\"#9c179e\"],[0.4444444444444444,\"#bd3786\"],[0.5555555555555556,\"#d8576b\"],[0.6666666666666666,\"#ed7953\"],[0.7777777777777778,\"#fb9f3a\"],[0.8888888888888888,\"#fdca26\"],[1.0,\"#f0f921\"]]}],\"choropleth\":[{\"type\":\"choropleth\",\"colorbar\":{\"outlinewidth\":0,\"ticks\":\"\"}}],\"histogram2d\":[{\"type\":\"histogram2d\",\"colorbar\":{\"outlinewidth\":0,\"ticks\":\"\"},\"colorscale\":[[0.0,\"#0d0887\"],[0.1111111111111111,\"#46039f\"],[0.2222222222222222,\"#7201a8\"],[0.3333333333333333,\"#9c179e\"],[0.4444444444444444,\"#bd3786\"],[0.5555555555555556,\"#d8576b\"],[0.6666666666666666,\"#ed7953\"],[0.7777777777777778,\"#fb9f3a\"],[0.8888888888888888,\"#fdca26\"],[1.0,\"#f0f921\"]]}],\"heatmap\":[{\"type\":\"heatmap\",\"colorbar\":{\"outlinewidth\":0,\"ticks\":\"\"},\"colorscale\":[[0.0,\"#0d0887\"],[0.1111111111111111,\"#46039f\"],[0.2222222222222222,\"#7201a8\"],[0.3333333333333333,\"#9c179e\"],[0.4444444444444444,\"#bd3786\"],[0.5555555555555556,\"#d8576b\"],[0.6666666666666666,\"#ed7953\"],[0.7777777777777778,\"#fb9f3a\"],[0.8888888888888888,\"#fdca26\"],[1.0,\"#f0f921\"]]}],\"heatmapgl\":[{\"type\":\"heatmapgl\",\"colorbar\":{\"outlinewidth\":0,\"ticks\":\"\"},\"colorscale\":[[0.0,\"#0d0887\"],[0.1111111111111111,\"#46039f\"],[0.2222222222222222,\"#7201a8\"],[0.3333333333333333,\"#9c179e\"],[0.4444444444444444,\"#bd3786\"],[0.5555555555555556,\"#d8576b\"],[0.6666666666666666,\"#ed7953\"],[0.7777777777777778,\"#fb9f3a\"],[0.8888888888888888,\"#fdca26\"],[1.0,\"#f0f921\"]]}],\"contourcarpet\":[{\"type\":\"contourcarpet\",\"colorbar\":{\"outlinewidth\":0,\"ticks\":\"\"}}],\"contour\":[{\"type\":\"contour\",\"colorbar\":{\"outlinewidth\":0,\"ticks\":\"\"},\"colorscale\":[[0.0,\"#0d0887\"],[0.1111111111111111,\"#46039f\"],[0.2222222222222222,\"#7201a8\"],[0.3333333333333333,\"#9c179e\"],[0.4444444444444444,\"#bd3786\"],[0.5555555555555556,\"#d8576b\"],[0.6666666666666666,\"#ed7953\"],[0.7777777777777778,\"#fb9f3a\"],[0.8888888888888888,\"#fdca26\"],[1.0,\"#f0f921\"]]}],\"surface\":[{\"type\":\"surface\",\"colorbar\":{\"outlinewidth\":0,\"ticks\":\"\"},\"colorscale\":[[0.0,\"#0d0887\"],[0.1111111111111111,\"#46039f\"],[0.2222222222222222,\"#7201a8\"],[0.3333333333333333,\"#9c179e\"],[0.4444444444444444,\"#bd3786\"],[0.5555555555555556,\"#d8576b\"],[0.6666666666666666,\"#ed7953\"],[0.7777777777777778,\"#fb9f3a\"],[0.8888888888888888,\"#fdca26\"],[1.0,\"#f0f921\"]]}],\"mesh3d\":[{\"type\":\"mesh3d\",\"colorbar\":{\"outlinewidth\":0,\"ticks\":\"\"}}],\"scatter\":[{\"fillpattern\":{\"fillmode\":\"overlay\",\"size\":10,\"solidity\":0.2},\"type\":\"scatter\"}],\"parcoords\":[{\"type\":\"parcoords\",\"line\":{\"colorbar\":{\"outlinewidth\":0,\"ticks\":\"\"}}}],\"scatterpolargl\":[{\"type\":\"scatterpolargl\",\"marker\":{\"colorbar\":{\"outlinewidth\":0,\"ticks\":\"\"}}}],\"bar\":[{\"error_x\":{\"color\":\"#2a3f5f\"},\"error_y\":{\"color\":\"#2a3f5f\"},\"marker\":{\"line\":{\"color\":\"#E5ECF6\",\"width\":0.5},\"pattern\":{\"fillmode\":\"overlay\",\"size\":10,\"solidity\":0.2}},\"type\":\"bar\"}],\"scattergeo\":[{\"type\":\"scattergeo\",\"marker\":{\"colorbar\":{\"outlinewidth\":0,\"ticks\":\"\"}}}],\"scatterpolar\":[{\"type\":\"scatterpolar\",\"marker\":{\"colorbar\":{\"outlinewidth\":0,\"ticks\":\"\"}}}],\"histogram\":[{\"marker\":{\"pattern\":{\"fillmode\":\"overlay\",\"size\":10,\"solidity\":0.2}},\"type\":\"histogram\"}],\"scattergl\":[{\"type\":\"scattergl\",\"marker\":{\"colorbar\":{\"outlinewidth\":0,\"ticks\":\"\"}}}],\"scatter3d\":[{\"type\":\"scatter3d\",\"line\":{\"colorbar\":{\"outlinewidth\":0,\"ticks\":\"\"}},\"marker\":{\"colorbar\":{\"outlinewidth\":0,\"ticks\":\"\"}}}],\"scattermapbox\":[{\"type\":\"scattermapbox\",\"marker\":{\"colorbar\":{\"outlinewidth\":0,\"ticks\":\"\"}}}],\"scatterternary\":[{\"type\":\"scatterternary\",\"marker\":{\"colorbar\":{\"outlinewidth\":0,\"ticks\":\"\"}}}],\"scattercarpet\":[{\"type\":\"scattercarpet\",\"marker\":{\"colorbar\":{\"outlinewidth\":0,\"ticks\":\"\"}}}],\"carpet\":[{\"aaxis\":{\"endlinecolor\":\"#2a3f5f\",\"gridcolor\":\"white\",\"linecolor\":\"white\",\"minorgridcolor\":\"white\",\"startlinecolor\":\"#2a3f5f\"},\"baxis\":{\"endlinecolor\":\"#2a3f5f\",\"gridcolor\":\"white\",\"linecolor\":\"white\",\"minorgridcolor\":\"white\",\"startlinecolor\":\"#2a3f5f\"},\"type\":\"carpet\"}],\"table\":[{\"cells\":{\"fill\":{\"color\":\"#EBF0F8\"},\"line\":{\"color\":\"white\"}},\"header\":{\"fill\":{\"color\":\"#C8D4E3\"},\"line\":{\"color\":\"white\"}},\"type\":\"table\"}],\"barpolar\":[{\"marker\":{\"line\":{\"color\":\"#E5ECF6\",\"width\":0.5},\"pattern\":{\"fillmode\":\"overlay\",\"size\":10,\"solidity\":0.2}},\"type\":\"barpolar\"}],\"pie\":[{\"automargin\":true,\"type\":\"pie\"}]},\"layout\":{\"autotypenumbers\":\"strict\",\"colorway\":[\"#636efa\",\"#EF553B\",\"#00cc96\",\"#ab63fa\",\"#FFA15A\",\"#19d3f3\",\"#FF6692\",\"#B6E880\",\"#FF97FF\",\"#FECB52\"],\"font\":{\"color\":\"#2a3f5f\"},\"hovermode\":\"closest\",\"hoverlabel\":{\"align\":\"left\"},\"paper_bgcolor\":\"white\",\"plot_bgcolor\":\"#E5ECF6\",\"polar\":{\"bgcolor\":\"#E5ECF6\",\"angularaxis\":{\"gridcolor\":\"white\",\"linecolor\":\"white\",\"ticks\":\"\"},\"radialaxis\":{\"gridcolor\":\"white\",\"linecolor\":\"white\",\"ticks\":\"\"}},\"ternary\":{\"bgcolor\":\"#E5ECF6\",\"aaxis\":{\"gridcolor\":\"white\",\"linecolor\":\"white\",\"ticks\":\"\"},\"baxis\":{\"gridcolor\":\"white\",\"linecolor\":\"white\",\"ticks\":\"\"},\"caxis\":{\"gridcolor\":\"white\",\"linecolor\":\"white\",\"ticks\":\"\"}},\"coloraxis\":{\"colorbar\":{\"outlinewidth\":0,\"ticks\":\"\"}},\"colorscale\":{\"sequential\":[[0.0,\"#0d0887\"],[0.1111111111111111,\"#46039f\"],[0.2222222222222222,\"#7201a8\"],[0.3333333333333333,\"#9c179e\"],[0.4444444444444444,\"#bd3786\"],[0.5555555555555556,\"#d8576b\"],[0.6666666666666666,\"#ed7953\"],[0.7777777777777778,\"#fb9f3a\"],[0.8888888888888888,\"#fdca26\"],[1.0,\"#f0f921\"]],\"sequentialminus\":[[0.0,\"#0d0887\"],[0.1111111111111111,\"#46039f\"],[0.2222222222222222,\"#7201a8\"],[0.3333333333333333,\"#9c179e\"],[0.4444444444444444,\"#bd3786\"],[0.5555555555555556,\"#d8576b\"],[0.6666666666666666,\"#ed7953\"],[0.7777777777777778,\"#fb9f3a\"],[0.8888888888888888,\"#fdca26\"],[1.0,\"#f0f921\"]],\"diverging\":[[0,\"#8e0152\"],[0.1,\"#c51b7d\"],[0.2,\"#de77ae\"],[0.3,\"#f1b6da\"],[0.4,\"#fde0ef\"],[0.5,\"#f7f7f7\"],[0.6,\"#e6f5d0\"],[0.7,\"#b8e186\"],[0.8,\"#7fbc41\"],[0.9,\"#4d9221\"],[1,\"#276419\"]]},\"xaxis\":{\"gridcolor\":\"white\",\"linecolor\":\"white\",\"ticks\":\"\",\"title\":{\"standoff\":15},\"zerolinecolor\":\"white\",\"automargin\":true,\"zerolinewidth\":2},\"yaxis\":{\"gridcolor\":\"white\",\"linecolor\":\"white\",\"ticks\":\"\",\"title\":{\"standoff\":15},\"zerolinecolor\":\"white\",\"automargin\":true,\"zerolinewidth\":2},\"scene\":{\"xaxis\":{\"backgroundcolor\":\"#E5ECF6\",\"gridcolor\":\"white\",\"linecolor\":\"white\",\"showbackground\":true,\"ticks\":\"\",\"zerolinecolor\":\"white\",\"gridwidth\":2},\"yaxis\":{\"backgroundcolor\":\"#E5ECF6\",\"gridcolor\":\"white\",\"linecolor\":\"white\",\"showbackground\":true,\"ticks\":\"\",\"zerolinecolor\":\"white\",\"gridwidth\":2},\"zaxis\":{\"backgroundcolor\":\"#E5ECF6\",\"gridcolor\":\"white\",\"linecolor\":\"white\",\"showbackground\":true,\"ticks\":\"\",\"zerolinecolor\":\"white\",\"gridwidth\":2}},\"shapedefaults\":{\"line\":{\"color\":\"#2a3f5f\"}},\"annotationdefaults\":{\"arrowcolor\":\"#2a3f5f\",\"arrowhead\":0,\"arrowwidth\":1},\"geo\":{\"bgcolor\":\"white\",\"landcolor\":\"#E5ECF6\",\"subunitcolor\":\"white\",\"showland\":true,\"showlakes\":true,\"lakecolor\":\"white\"},\"title\":{\"x\":0.05},\"mapbox\":{\"style\":\"light\"}}}},                        {\"responsive\": true}                    ).then(function(){\n",
       "                            \n",
       "var gd = document.getElementById('bd33fe2e-6bbd-4ea7-8b00-891101c0fff2');\n",
       "var x = new MutationObserver(function (mutations, observer) {{\n",
       "        var display = window.getComputedStyle(gd).display;\n",
       "        if (!display || display === 'none') {{\n",
       "            console.log([gd, 'removed!']);\n",
       "            Plotly.purge(gd);\n",
       "            observer.disconnect();\n",
       "        }}\n",
       "}});\n",
       "\n",
       "// Listen for the removal of the full notebook cells\n",
       "var notebookContainer = gd.closest('#notebook-container');\n",
       "if (notebookContainer) {{\n",
       "    x.observe(notebookContainer, {childList: true});\n",
       "}}\n",
       "\n",
       "// Listen for the clearing of the current output cell\n",
       "var outputEl = gd.closest('.output');\n",
       "if (outputEl) {{\n",
       "    x.observe(outputEl, {childList: true});\n",
       "}}\n",
       "\n",
       "                        })                };                });            </script>        </div>"
      ]
     },
     "metadata": {},
     "output_type": "display_data"
    },
    {
     "data": {
      "text/plain": [
       "'Histogram.html'"
      ]
     },
     "execution_count": 225,
     "metadata": {},
     "output_type": "execute_result"
    }
   ],
   "source": [
    "# data to plot the age of all genders:\n",
    "\n",
    "data = [go.Histogram(\n",
    "    x=shipman_victims[shipman_victims['gender']==0]['Age'],\n",
    "    opacity=0.75,\n",
    "    name='Female'\n",
    "),\n",
    "go.Histogram(\n",
    "    x=shipman_victims[shipman_victims['gender']==1]['Age'],\n",
    "    opacity=0.75,\n",
    "    name='Male'\n",
    ")]\n",
    "\n",
    "layout = go.Layout(\n",
    "    barmode='overlay',\n",
    "    title=\"Victim's Age Comparison by Gender\"\n",
    ")\n",
    "fig = go.Figure(data=data, layout=layout)\n",
    "fig.show()\n",
    "#pyo.plot to save the html file locally:\n",
    "pyo.plot(fig, filename='Histogram.html')"
   ]
  },
  {
   "cell_type": "markdown",
   "id": "91a236c6",
   "metadata": {},
   "source": [
    "Females with age bracket of 80-84 were targeted the most. Overall, we can see that there were more female victims than male"
   ]
  },
  {
   "cell_type": "markdown",
   "id": "0c5eb076",
   "metadata": {},
   "source": [
    "#### Bubble Chart:"
   ]
  },
  {
   "cell_type": "code",
   "execution_count": 167,
   "id": "5182c65d",
   "metadata": {},
   "outputs": [
    {
     "data": {
      "application/vnd.plotly.v1+json": {
       "config": {
        "plotlyServerURL": "https://plot.ly"
       },
       "data": [
        {
         "marker": {
          "color": [
           0,
           0,
           0,
           0,
           0,
           0,
           0,
           0,
           0,
           0,
           0,
           0,
           0,
           0,
           0,
           0,
           0,
           0,
           0,
           0,
           0,
           0,
           0,
           0,
           0,
           0,
           0,
           0,
           0,
           0,
           0,
           0,
           0,
           0,
           0,
           0,
           0,
           0,
           0,
           0,
           0,
           0,
           0,
           0,
           0,
           0,
           0,
           0,
           0,
           0,
           0,
           0,
           0,
           0,
           0,
           0,
           0,
           0,
           0,
           0,
           0,
           0,
           0,
           0,
           0,
           0,
           0,
           0,
           0,
           0,
           0,
           0,
           0,
           0,
           0,
           0,
           0,
           0,
           0,
           0,
           0,
           0,
           0,
           0,
           0,
           0,
           0,
           0,
           0,
           0,
           0,
           0,
           0,
           0,
           0,
           0,
           0,
           0,
           0,
           0,
           0,
           0,
           0,
           1,
           0,
           0,
           0,
           0,
           0,
           0,
           0,
           0,
           0,
           0,
           0,
           0,
           0,
           0,
           0,
           0,
           0,
           0,
           0,
           0,
           0,
           0,
           0,
           0,
           0,
           0,
           0,
           0,
           0,
           0,
           0,
           0,
           0,
           0,
           0,
           0,
           0,
           0,
           0,
           0,
           0,
           0,
           0,
           1,
           0,
           0,
           0,
           0,
           0,
           0,
           0,
           0,
           0,
           0,
           0,
           0,
           0,
           0,
           0,
           0,
           0,
           0,
           0,
           0,
           1,
           0,
           0,
           0,
           0,
           1,
           0,
           0,
           0,
           1,
           0,
           0,
           1,
           0,
           0,
           0,
           0,
           0,
           0,
           0,
           0,
           0,
           0,
           1,
           0,
           1,
           1,
           0,
           0,
           0,
           1,
           0,
           1,
           0,
           0,
           1,
           0,
           0,
           0,
           0,
           0,
           0,
           0,
           0,
           1,
           1,
           1
          ],
          "colorbar": {
           "title": {
            "text": "Decision"
           }
          },
          "colorscale": [
           [
            0,
            "#440154"
           ],
           [
            0.1111111111111111,
            "#482878"
           ],
           [
            0.2222222222222222,
            "#3e4989"
           ],
           [
            0.3333333333333333,
            "#31688e"
           ],
           [
            0.4444444444444444,
            "#26828e"
           ],
           [
            0.5555555555555556,
            "#1f9e89"
           ],
           [
            0.6666666666666666,
            "#35b779"
           ],
           [
            0.7777777777777778,
            "#6ece58"
           ],
           [
            0.8888888888888888,
            "#b5de2b"
           ],
           [
            1,
            "#fde725"
           ]
          ],
          "size": [
           14,
           17.2,
           14.6,
           14.6,
           17.6,
           15.2,
           15.4,
           16.8,
           16.2,
           18,
           15.4,
           10.2,
           15.6,
           16.6,
           14,
           15.2,
           17.4,
           16,
           15.2,
           14.4,
           8.2,
           14.8,
           16.8,
           13.8,
           14.6,
           14,
           16.8,
           17,
           15.4,
           15.8,
           15.8,
           16.2,
           14.8,
           16.2,
           12.6,
           14.6,
           11.8,
           15,
           16.4,
           15.2,
           17,
           16.6,
           15.6,
           14.2,
           16,
           13.8,
           14.8,
           18,
           16.6,
           18,
           18.6,
           16.6,
           16.8,
           16,
           13.8,
           17,
           17.4,
           16,
           16,
           16.2,
           15.6,
           13.8,
           15,
           16,
           16.4,
           16.4,
           16.4,
           16.2,
           13.4,
           17,
           11.2,
           13.8,
           14.4,
           17.2,
           18.4,
           16.4,
           17.2,
           14.8,
           16.8,
           14.8,
           15.4,
           13.6,
           16.8,
           12,
           14.8,
           15.4,
           15.6,
           10.8,
           18,
           16.4,
           10.6,
           14.6,
           16.8,
           11.4,
           17.4,
           14,
           15.6,
           17.4,
           15,
           16.2,
           17.6,
           14,
           17.6,
           16.2,
           14.2,
           17.6,
           10.6,
           16.4,
           17.2,
           14,
           14.2,
           17,
           16.8,
           9.4,
           15,
           17,
           13.6,
           12.6,
           16.4,
           17.6,
           13,
           16.4,
           14.4,
           17.4,
           17.4,
           14.8,
           17.6,
           8.6,
           13.4,
           15,
           16.2,
           15.8,
           16,
           17.6,
           14.2,
           15.8,
           15.4,
           17,
           14.4,
           10.8,
           15.4,
           12.6,
           16.4,
           16.4,
           17.2,
           16.2,
           15.4,
           13.4,
           16.2,
           16.8,
           17,
           16.8,
           15.2,
           17,
           15,
           15.2,
           15.2,
           17.8,
           15.6,
           14.6,
           15,
           9.4,
           13.8,
           15.2,
           17.8,
           18,
           14,
           14.8,
           15.4,
           15.2,
           16.8,
           16,
           15.2,
           11.6,
           13.6,
           14.8,
           15.8,
           12.6,
           13.8,
           10.2,
           15.2,
           13.8,
           17.2,
           14.4,
           16.2,
           15.8,
           15.8,
           15.4,
           15.8,
           15.6,
           16.6,
           13.4,
           14,
           16.2,
           9.8,
           14.6,
           16.6,
           15.8,
           12.8,
           14.6,
           13.6,
           16.6,
           14.8,
           11.4,
           15,
           15.4,
           13,
           14.8,
           16.8,
           16.6,
           15.4,
           17.6,
           14.6,
           14.6,
           16.2
          ]
         },
         "mode": "markers",
         "text": [
          "Women",
          "Women",
          "Women",
          "Men",
          "Women",
          "Women",
          "Men",
          "Women",
          "Women",
          "Men",
          "Women",
          "Women",
          "Women",
          "Men",
          "Women",
          "Women",
          "Women",
          "Men",
          "Women",
          "Women",
          "Men",
          "Women",
          "Women",
          "Women",
          "Women",
          "Men",
          "Women",
          "Women",
          "Women",
          "Women",
          "Men",
          "Women",
          "Women",
          "Men",
          "Women",
          "Women",
          "Women",
          "Women",
          "Men",
          "Men",
          "Men",
          "Women",
          "Women",
          "Women",
          "Women",
          "Women",
          "Women",
          "Women",
          "Women",
          "Women",
          "Women",
          "Women",
          "Women",
          "Women",
          "Women",
          "Men",
          "Men",
          "Women",
          "Women",
          "Women",
          "Women",
          "Women",
          "Women",
          "Women",
          "Women",
          "Women",
          "Women",
          "Men",
          "Men",
          "Men",
          "Women",
          "Women",
          "Women",
          "Women",
          "Women",
          "Women",
          "Women",
          "Women",
          "Women",
          "Women",
          "Women",
          "Women",
          "Women",
          "Women",
          "Women",
          "Women",
          "Women",
          "Women",
          "Men",
          "Women",
          "Women",
          "Women",
          "Women",
          "Women",
          "Women",
          "Women",
          "Women",
          "Women",
          "Women",
          "Women",
          "Women",
          "Women",
          "Men",
          "Women",
          "Women",
          "Women",
          "Women",
          "Men",
          "Men",
          "Women",
          "Women",
          "Women",
          "Women",
          "Women",
          "Women",
          "Men",
          "Women",
          "Women",
          "Women",
          "Women",
          "Women",
          "Men",
          "Men",
          "Women",
          "Women",
          "Women",
          "Men",
          "Men",
          "Women",
          "Men",
          "Women",
          "Women",
          "Women",
          "Men",
          "Women",
          "Women",
          "Men",
          "Women",
          "Women",
          "Women",
          "Women",
          "Women",
          "Women",
          "Women",
          "Women",
          "Women",
          "Men",
          "Women",
          "Women",
          "Women",
          "Women",
          "Women",
          "Men",
          "Women",
          "Women",
          "Women",
          "Women",
          "Women",
          "Men",
          "Men",
          "Women",
          "Men",
          "Women",
          "Women",
          "Women",
          "Women",
          "Women",
          "Women",
          "Women",
          "Women",
          "Women",
          "Women",
          "Women",
          "Women",
          "Women",
          "Women",
          "Women",
          "Women",
          "Women",
          "Women",
          "Women",
          "Men",
          "Women",
          "Women",
          "Women",
          "Women",
          "Women",
          "Women",
          "Women",
          "Women",
          "Women",
          "Women",
          "Women",
          "Women",
          "Women",
          "Women",
          "Men",
          "Women",
          "Women",
          "Women",
          "Women",
          "Women",
          "Women",
          "Women",
          "Women",
          "Men",
          "Women",
          "Women",
          "Women",
          "Women",
          "Women",
          "Women",
          "Women",
          "Women",
          "Women"
         ],
         "type": "scatter",
         "x": [
          "1975-03-17T00:00:00",
          "1978-08-07T00:00:00",
          "1978-08-30T00:00:00",
          "1978-12-07T00:00:00",
          "1978-12-20T00:00:00",
          "1979-08-10T00:00:00",
          "1979-11-28T00:00:00",
          "1981-04-18T00:00:00",
          "1981-08-26T00:00:00",
          "1983-01-04T00:00:00",
          "1983-06-28T00:00:00",
          "1984-01-07T00:00:00",
          "1984-02-08T00:00:00",
          "1984-04-15T00:00:00",
          "1984-04-24T00:00:00",
          "1984-09-21T00:00:00",
          "1984-11-27T00:00:00",
          "1984-12-17T00:00:00",
          "1984-12-18T00:00:00",
          "1984-12-24T00:00:00",
          "1985-01-02T00:00:00",
          "1985-02-01T00:00:00",
          "1985-02-04T00:00:00",
          "1985-02-15T00:00:00",
          "1985-02-22T00:00:00",
          "1985-06-26T00:00:00",
          "1985-06-26T00:00:00",
          "1985-08-23T00:00:00",
          "1985-12-17T00:00:00",
          "1985-12-20T00:00:00",
          "1985-12-31T00:00:00",
          "1986-01-07T00:00:00",
          "1986-04-23T00:00:00",
          "1986-06-06T00:00:00",
          "1986-09-15T00:00:00",
          "1986-10-07T00:00:00",
          "1986-11-17T00:00:00",
          "1986-12-16T00:00:00",
          "1986-12-23T00:00:00",
          "1987-03-30T00:00:00",
          "1987-04-01T00:00:00",
          "1987-04-16T00:00:00",
          "1987-05-08T00:00:00",
          "1987-09-14T00:00:00",
          "1987-12-11T00:00:00",
          "1987-12-29T00:00:00",
          "1987-12-30T00:00:00",
          "1988-01-05T00:00:00",
          "1988-01-15T00:00:00",
          "1988-02-09T00:00:00",
          "1988-02-15T00:00:00",
          "1988-02-15T00:00:00",
          "1988-02-16T00:00:00",
          "1988-09-18T00:00:00",
          "1988-10-20T00:00:00",
          "1988-11-06T00:00:00",
          "1988-12-17T00:00:00",
          "1988-12-19T00:00:00",
          "1989-01-31T00:00:00",
          "1989-03-08T00:00:00",
          "1989-05-12T00:00:00",
          "1989-06-05T00:00:00",
          "1989-07-06T00:00:00",
          "1989-08-14T00:00:00",
          "1989-09-22T00:00:00",
          "1989-09-26T00:00:00",
          "1989-10-15T00:00:00",
          "1989-10-16T00:00:00",
          "1989-10-18T00:00:00",
          "1989-11-06T00:00:00",
          "1990-09-18T00:00:00",
          "1990-12-30T00:00:00",
          "1992-10-07T00:00:00",
          "1993-02-24T00:00:00",
          "1993-02-24T00:00:00",
          "1993-03-22T00:00:00",
          "1993-04-08T00:00:00",
          "1993-04-17T00:00:00",
          "1993-04-26T00:00:00",
          "1993-04-27T00:00:00",
          "1993-05-02T00:00:00",
          "1993-05-04T00:00:00",
          "1993-05-12T00:00:00",
          "1993-05-13T00:00:00",
          "1993-07-22T00:00:00",
          "1993-08-16T00:00:00",
          "1993-12-16T00:00:00",
          "1993-12-22T00:00:00",
          "1993-12-31T00:00:00",
          "1994-01-04T00:00:00",
          "1994-01-13T00:00:00",
          "1994-02-09T00:00:00",
          "1994-05-17T00:00:00",
          "1994-05-25T00:00:00",
          "1994-06-15T00:00:00",
          "1994-06-17T00:00:00",
          "1994-07-27T00:00:00",
          "1994-11-25T00:00:00",
          "1994-11-30T00:00:00",
          "1994-12-29T00:00:00",
          "1995-01-09T00:00:00",
          "1995-03-01T00:00:00",
          "1995-03-03T00:00:00",
          "1995-03-06T00:00:00",
          "1995-03-07T00:00:00",
          "1995-03-07T00:00:00",
          "1995-03-13T00:00:00",
          "1995-03-21T00:00:00",
          "1995-03-26T00:00:00",
          "1995-03-31T00:00:00",
          "1995-04-10T00:00:00",
          "1995-04-13T00:00:00",
          "1995-04-14T00:00:00",
          "1995-04-21T00:00:00",
          "1995-05-04T00:00:00",
          "1995-06-02T00:00:00",
          "1995-06-13T00:00:00",
          "1995-06-17T00:00:00",
          "1995-06-29T00:00:00",
          "1995-07-12T00:00:00",
          "1995-07-31T00:00:00",
          "1995-08-29T00:00:00",
          "1995-09-14T00:00:00",
          "1995-09-26T00:00:00",
          "1995-10-24T00:00:00",
          "1995-11-08T00:00:00",
          "1995-11-22T00:00:00",
          "1995-11-25T00:00:00",
          "1995-12-14T00:00:00",
          "1995-12-14T00:00:00",
          "1996-01-02T00:00:00",
          "1996-01-11T00:00:00",
          "1996-02-21T00:00:00",
          "1996-02-27T00:00:00",
          "1996-03-12T00:00:00",
          "1996-04-18T00:00:00",
          "1996-04-24T00:00:00",
          "1996-05-07T00:00:00",
          "1996-05-13T00:00:00",
          "1996-05-29T00:00:00",
          "1996-05-30T00:00:00",
          "1996-06-06T00:00:00",
          "1996-06-10T00:00:00",
          "1996-06-17T00:00:00",
          "1996-06-25T00:00:00",
          "1996-06-25T00:00:00",
          "1996-07-02T00:00:00",
          "1996-07-11T00:00:00",
          "1996-07-16T00:00:00",
          "1996-07-19T00:00:00",
          "1996-07-24T00:00:00",
          "1996-07-29T00:00:00",
          "1996-08-30T00:00:00",
          "1996-09-12T00:00:00",
          "1996-09-20T00:00:00",
          "1996-10-23T00:00:00",
          "1996-11-20T00:00:00",
          "1996-11-23T00:00:00",
          "1996-12-04T00:00:00",
          "1996-12-17T00:00:00",
          "1997-01-02T00:00:00",
          "1997-01-03T00:00:00",
          "1997-01-08T00:00:00",
          "1997-01-20T00:00:00",
          "1997-01-27T00:00:00",
          "1997-02-03T00:00:00",
          "1997-02-04T00:00:00",
          "1997-02-23T00:00:00",
          "1997-02-28T00:00:00",
          "1997-03-22T00:00:00",
          "1997-03-27T00:00:00",
          "1997-04-21T00:00:00",
          "1997-04-25T00:00:00",
          "1997-04-25T00:00:00",
          "1997-05-02T00:00:00",
          "1997-05-12T00:00:00",
          "1997-05-21T00:00:00",
          "1997-05-29T00:00:00",
          "1997-06-24T00:00:00",
          "1997-07-07T00:00:00",
          "1997-07-14T00:00:00",
          "1997-07-25T00:00:00",
          "1997-07-28T00:00:00",
          "1997-08-10T00:00:00",
          "1997-09-01T00:00:00",
          "1997-09-22T00:00:00",
          "1997-09-26T00:00:00",
          "1997-09-29T00:00:00",
          "1997-11-10T00:00:00",
          "1997-11-14T00:00:00",
          "1997-11-21T00:00:00",
          "1997-11-24T00:00:00",
          "1997-12-08T00:00:00",
          "1997-12-09T00:00:00",
          "1997-12-10T00:00:00",
          "1997-12-18T00:00:00",
          "1997-12-24T00:00:00",
          "1998-01-22T00:00:00",
          "1998-01-26T00:00:00",
          "1998-02-02T00:00:00",
          "1998-02-09T00:00:00",
          "1998-02-13T00:00:00",
          "1998-02-15T00:00:00",
          "1998-02-18T00:00:00",
          "1998-02-27T00:00:00",
          "1998-03-04T00:00:00",
          "1998-03-06T00:00:00",
          "1998-03-07T00:00:00",
          "1998-03-13T00:00:00",
          "1998-03-17T00:00:00",
          "1998-03-20T00:00:00",
          "1998-03-24T00:00:00",
          "1998-05-11T00:00:00",
          "1998-06-12T00:00:00",
          "1998-06-24T00:00:00"
         ],
         "y": [
          70,
          86,
          73,
          73,
          88,
          76,
          77,
          84,
          81,
          90,
          77,
          51,
          78,
          83,
          70,
          76,
          87,
          80,
          76,
          72,
          41,
          74,
          84,
          69,
          73,
          70,
          84,
          85,
          77,
          79,
          79,
          81,
          74,
          81,
          63,
          73,
          59,
          75,
          82,
          76,
          85,
          83,
          78,
          71,
          80,
          69,
          74,
          90,
          83,
          90,
          93,
          83,
          84,
          80,
          69,
          85,
          87,
          80,
          80,
          81,
          78,
          69,
          75,
          80,
          82,
          82,
          82,
          81,
          67,
          85,
          56,
          69,
          72,
          86,
          92,
          82,
          86,
          74,
          84,
          74,
          77,
          68,
          84,
          60,
          74,
          77,
          78,
          54,
          90,
          82,
          53,
          73,
          84,
          57,
          87,
          70,
          78,
          87,
          75,
          81,
          88,
          70,
          88,
          81,
          71,
          88,
          53,
          82,
          86,
          70,
          71,
          85,
          84,
          47,
          75,
          85,
          68,
          63,
          82,
          88,
          65,
          82,
          72,
          87,
          87,
          74,
          88,
          43,
          67,
          75,
          81,
          79,
          80,
          88,
          71,
          79,
          77,
          85,
          72,
          54,
          77,
          63,
          82,
          82,
          86,
          81,
          77,
          67,
          81,
          84,
          85,
          84,
          76,
          85,
          75,
          76,
          76,
          89,
          78,
          73,
          75,
          47,
          69,
          76,
          89,
          90,
          70,
          74,
          77,
          76,
          84,
          80,
          76,
          58,
          68,
          74,
          79,
          63,
          69,
          51,
          76,
          69,
          86,
          72,
          81,
          79,
          79,
          77,
          79,
          78,
          83,
          67,
          70,
          81,
          49,
          73,
          83,
          79,
          64,
          73,
          68,
          83,
          74,
          57,
          75,
          77,
          65,
          74,
          84,
          83,
          77,
          88,
          73,
          73,
          81
         ]
        }
       ],
       "layout": {
        "hovermode": "closest",
        "template": {
         "data": {
          "bar": [
           {
            "error_x": {
             "color": "#2a3f5f"
            },
            "error_y": {
             "color": "#2a3f5f"
            },
            "marker": {
             "line": {
              "color": "#E5ECF6",
              "width": 0.5
             },
             "pattern": {
              "fillmode": "overlay",
              "size": 10,
              "solidity": 0.2
             }
            },
            "type": "bar"
           }
          ],
          "barpolar": [
           {
            "marker": {
             "line": {
              "color": "#E5ECF6",
              "width": 0.5
             },
             "pattern": {
              "fillmode": "overlay",
              "size": 10,
              "solidity": 0.2
             }
            },
            "type": "barpolar"
           }
          ],
          "carpet": [
           {
            "aaxis": {
             "endlinecolor": "#2a3f5f",
             "gridcolor": "white",
             "linecolor": "white",
             "minorgridcolor": "white",
             "startlinecolor": "#2a3f5f"
            },
            "baxis": {
             "endlinecolor": "#2a3f5f",
             "gridcolor": "white",
             "linecolor": "white",
             "minorgridcolor": "white",
             "startlinecolor": "#2a3f5f"
            },
            "type": "carpet"
           }
          ],
          "choropleth": [
           {
            "colorbar": {
             "outlinewidth": 0,
             "ticks": ""
            },
            "type": "choropleth"
           }
          ],
          "contour": [
           {
            "colorbar": {
             "outlinewidth": 0,
             "ticks": ""
            },
            "colorscale": [
             [
              0,
              "#0d0887"
             ],
             [
              0.1111111111111111,
              "#46039f"
             ],
             [
              0.2222222222222222,
              "#7201a8"
             ],
             [
              0.3333333333333333,
              "#9c179e"
             ],
             [
              0.4444444444444444,
              "#bd3786"
             ],
             [
              0.5555555555555556,
              "#d8576b"
             ],
             [
              0.6666666666666666,
              "#ed7953"
             ],
             [
              0.7777777777777778,
              "#fb9f3a"
             ],
             [
              0.8888888888888888,
              "#fdca26"
             ],
             [
              1,
              "#f0f921"
             ]
            ],
            "type": "contour"
           }
          ],
          "contourcarpet": [
           {
            "colorbar": {
             "outlinewidth": 0,
             "ticks": ""
            },
            "type": "contourcarpet"
           }
          ],
          "heatmap": [
           {
            "colorbar": {
             "outlinewidth": 0,
             "ticks": ""
            },
            "colorscale": [
             [
              0,
              "#0d0887"
             ],
             [
              0.1111111111111111,
              "#46039f"
             ],
             [
              0.2222222222222222,
              "#7201a8"
             ],
             [
              0.3333333333333333,
              "#9c179e"
             ],
             [
              0.4444444444444444,
              "#bd3786"
             ],
             [
              0.5555555555555556,
              "#d8576b"
             ],
             [
              0.6666666666666666,
              "#ed7953"
             ],
             [
              0.7777777777777778,
              "#fb9f3a"
             ],
             [
              0.8888888888888888,
              "#fdca26"
             ],
             [
              1,
              "#f0f921"
             ]
            ],
            "type": "heatmap"
           }
          ],
          "heatmapgl": [
           {
            "colorbar": {
             "outlinewidth": 0,
             "ticks": ""
            },
            "colorscale": [
             [
              0,
              "#0d0887"
             ],
             [
              0.1111111111111111,
              "#46039f"
             ],
             [
              0.2222222222222222,
              "#7201a8"
             ],
             [
              0.3333333333333333,
              "#9c179e"
             ],
             [
              0.4444444444444444,
              "#bd3786"
             ],
             [
              0.5555555555555556,
              "#d8576b"
             ],
             [
              0.6666666666666666,
              "#ed7953"
             ],
             [
              0.7777777777777778,
              "#fb9f3a"
             ],
             [
              0.8888888888888888,
              "#fdca26"
             ],
             [
              1,
              "#f0f921"
             ]
            ],
            "type": "heatmapgl"
           }
          ],
          "histogram": [
           {
            "marker": {
             "pattern": {
              "fillmode": "overlay",
              "size": 10,
              "solidity": 0.2
             }
            },
            "type": "histogram"
           }
          ],
          "histogram2d": [
           {
            "colorbar": {
             "outlinewidth": 0,
             "ticks": ""
            },
            "colorscale": [
             [
              0,
              "#0d0887"
             ],
             [
              0.1111111111111111,
              "#46039f"
             ],
             [
              0.2222222222222222,
              "#7201a8"
             ],
             [
              0.3333333333333333,
              "#9c179e"
             ],
             [
              0.4444444444444444,
              "#bd3786"
             ],
             [
              0.5555555555555556,
              "#d8576b"
             ],
             [
              0.6666666666666666,
              "#ed7953"
             ],
             [
              0.7777777777777778,
              "#fb9f3a"
             ],
             [
              0.8888888888888888,
              "#fdca26"
             ],
             [
              1,
              "#f0f921"
             ]
            ],
            "type": "histogram2d"
           }
          ],
          "histogram2dcontour": [
           {
            "colorbar": {
             "outlinewidth": 0,
             "ticks": ""
            },
            "colorscale": [
             [
              0,
              "#0d0887"
             ],
             [
              0.1111111111111111,
              "#46039f"
             ],
             [
              0.2222222222222222,
              "#7201a8"
             ],
             [
              0.3333333333333333,
              "#9c179e"
             ],
             [
              0.4444444444444444,
              "#bd3786"
             ],
             [
              0.5555555555555556,
              "#d8576b"
             ],
             [
              0.6666666666666666,
              "#ed7953"
             ],
             [
              0.7777777777777778,
              "#fb9f3a"
             ],
             [
              0.8888888888888888,
              "#fdca26"
             ],
             [
              1,
              "#f0f921"
             ]
            ],
            "type": "histogram2dcontour"
           }
          ],
          "mesh3d": [
           {
            "colorbar": {
             "outlinewidth": 0,
             "ticks": ""
            },
            "type": "mesh3d"
           }
          ],
          "parcoords": [
           {
            "line": {
             "colorbar": {
              "outlinewidth": 0,
              "ticks": ""
             }
            },
            "type": "parcoords"
           }
          ],
          "pie": [
           {
            "automargin": true,
            "type": "pie"
           }
          ],
          "scatter": [
           {
            "fillpattern": {
             "fillmode": "overlay",
             "size": 10,
             "solidity": 0.2
            },
            "type": "scatter"
           }
          ],
          "scatter3d": [
           {
            "line": {
             "colorbar": {
              "outlinewidth": 0,
              "ticks": ""
             }
            },
            "marker": {
             "colorbar": {
              "outlinewidth": 0,
              "ticks": ""
             }
            },
            "type": "scatter3d"
           }
          ],
          "scattercarpet": [
           {
            "marker": {
             "colorbar": {
              "outlinewidth": 0,
              "ticks": ""
             }
            },
            "type": "scattercarpet"
           }
          ],
          "scattergeo": [
           {
            "marker": {
             "colorbar": {
              "outlinewidth": 0,
              "ticks": ""
             }
            },
            "type": "scattergeo"
           }
          ],
          "scattergl": [
           {
            "marker": {
             "colorbar": {
              "outlinewidth": 0,
              "ticks": ""
             }
            },
            "type": "scattergl"
           }
          ],
          "scattermapbox": [
           {
            "marker": {
             "colorbar": {
              "outlinewidth": 0,
              "ticks": ""
             }
            },
            "type": "scattermapbox"
           }
          ],
          "scatterpolar": [
           {
            "marker": {
             "colorbar": {
              "outlinewidth": 0,
              "ticks": ""
             }
            },
            "type": "scatterpolar"
           }
          ],
          "scatterpolargl": [
           {
            "marker": {
             "colorbar": {
              "outlinewidth": 0,
              "ticks": ""
             }
            },
            "type": "scatterpolargl"
           }
          ],
          "scatterternary": [
           {
            "marker": {
             "colorbar": {
              "outlinewidth": 0,
              "ticks": ""
             }
            },
            "type": "scatterternary"
           }
          ],
          "surface": [
           {
            "colorbar": {
             "outlinewidth": 0,
             "ticks": ""
            },
            "colorscale": [
             [
              0,
              "#0d0887"
             ],
             [
              0.1111111111111111,
              "#46039f"
             ],
             [
              0.2222222222222222,
              "#7201a8"
             ],
             [
              0.3333333333333333,
              "#9c179e"
             ],
             [
              0.4444444444444444,
              "#bd3786"
             ],
             [
              0.5555555555555556,
              "#d8576b"
             ],
             [
              0.6666666666666666,
              "#ed7953"
             ],
             [
              0.7777777777777778,
              "#fb9f3a"
             ],
             [
              0.8888888888888888,
              "#fdca26"
             ],
             [
              1,
              "#f0f921"
             ]
            ],
            "type": "surface"
           }
          ],
          "table": [
           {
            "cells": {
             "fill": {
              "color": "#EBF0F8"
             },
             "line": {
              "color": "white"
             }
            },
            "header": {
             "fill": {
              "color": "#C8D4E3"
             },
             "line": {
              "color": "white"
             }
            },
            "type": "table"
           }
          ]
         },
         "layout": {
          "annotationdefaults": {
           "arrowcolor": "#2a3f5f",
           "arrowhead": 0,
           "arrowwidth": 1
          },
          "autotypenumbers": "strict",
          "coloraxis": {
           "colorbar": {
            "outlinewidth": 0,
            "ticks": ""
           }
          },
          "colorscale": {
           "diverging": [
            [
             0,
             "#8e0152"
            ],
            [
             0.1,
             "#c51b7d"
            ],
            [
             0.2,
             "#de77ae"
            ],
            [
             0.3,
             "#f1b6da"
            ],
            [
             0.4,
             "#fde0ef"
            ],
            [
             0.5,
             "#f7f7f7"
            ],
            [
             0.6,
             "#e6f5d0"
            ],
            [
             0.7,
             "#b8e186"
            ],
            [
             0.8,
             "#7fbc41"
            ],
            [
             0.9,
             "#4d9221"
            ],
            [
             1,
             "#276419"
            ]
           ],
           "sequential": [
            [
             0,
             "#0d0887"
            ],
            [
             0.1111111111111111,
             "#46039f"
            ],
            [
             0.2222222222222222,
             "#7201a8"
            ],
            [
             0.3333333333333333,
             "#9c179e"
            ],
            [
             0.4444444444444444,
             "#bd3786"
            ],
            [
             0.5555555555555556,
             "#d8576b"
            ],
            [
             0.6666666666666666,
             "#ed7953"
            ],
            [
             0.7777777777777778,
             "#fb9f3a"
            ],
            [
             0.8888888888888888,
             "#fdca26"
            ],
            [
             1,
             "#f0f921"
            ]
           ],
           "sequentialminus": [
            [
             0,
             "#0d0887"
            ],
            [
             0.1111111111111111,
             "#46039f"
            ],
            [
             0.2222222222222222,
             "#7201a8"
            ],
            [
             0.3333333333333333,
             "#9c179e"
            ],
            [
             0.4444444444444444,
             "#bd3786"
            ],
            [
             0.5555555555555556,
             "#d8576b"
            ],
            [
             0.6666666666666666,
             "#ed7953"
            ],
            [
             0.7777777777777778,
             "#fb9f3a"
            ],
            [
             0.8888888888888888,
             "#fdca26"
            ],
            [
             1,
             "#f0f921"
            ]
           ]
          },
          "colorway": [
           "#636efa",
           "#EF553B",
           "#00cc96",
           "#ab63fa",
           "#FFA15A",
           "#19d3f3",
           "#FF6692",
           "#B6E880",
           "#FF97FF",
           "#FECB52"
          ],
          "font": {
           "color": "#2a3f5f"
          },
          "geo": {
           "bgcolor": "white",
           "lakecolor": "white",
           "landcolor": "#E5ECF6",
           "showlakes": true,
           "showland": true,
           "subunitcolor": "white"
          },
          "hoverlabel": {
           "align": "left"
          },
          "hovermode": "closest",
          "mapbox": {
           "style": "light"
          },
          "paper_bgcolor": "white",
          "plot_bgcolor": "#E5ECF6",
          "polar": {
           "angularaxis": {
            "gridcolor": "white",
            "linecolor": "white",
            "ticks": ""
           },
           "bgcolor": "#E5ECF6",
           "radialaxis": {
            "gridcolor": "white",
            "linecolor": "white",
            "ticks": ""
           }
          },
          "scene": {
           "xaxis": {
            "backgroundcolor": "#E5ECF6",
            "gridcolor": "white",
            "gridwidth": 2,
            "linecolor": "white",
            "showbackground": true,
            "ticks": "",
            "zerolinecolor": "white"
           },
           "yaxis": {
            "backgroundcolor": "#E5ECF6",
            "gridcolor": "white",
            "gridwidth": 2,
            "linecolor": "white",
            "showbackground": true,
            "ticks": "",
            "zerolinecolor": "white"
           },
           "zaxis": {
            "backgroundcolor": "#E5ECF6",
            "gridcolor": "white",
            "gridwidth": 2,
            "linecolor": "white",
            "showbackground": true,
            "ticks": "",
            "zerolinecolor": "white"
           }
          },
          "shapedefaults": {
           "line": {
            "color": "#2a3f5f"
           }
          },
          "ternary": {
           "aaxis": {
            "gridcolor": "white",
            "linecolor": "white",
            "ticks": ""
           },
           "baxis": {
            "gridcolor": "white",
            "linecolor": "white",
            "ticks": ""
           },
           "bgcolor": "#E5ECF6",
           "caxis": {
            "gridcolor": "white",
            "linecolor": "white",
            "ticks": ""
           }
          },
          "title": {
           "x": 0.05
          },
          "xaxis": {
           "automargin": true,
           "gridcolor": "white",
           "linecolor": "white",
           "ticks": "",
           "title": {
            "standoff": 15
           },
           "zerolinecolor": "white",
           "zerolinewidth": 2
          },
          "yaxis": {
           "automargin": true,
           "gridcolor": "white",
           "linecolor": "white",
           "ticks": "",
           "title": {
            "standoff": 15
           },
           "zerolinecolor": "white",
           "zerolinewidth": 2
          }
         }
        },
        "title": {
         "text": "Bubble Chart for Age vs. YearOfDeath"
        },
        "xaxis": {
         "title": {
          "text": "Year of Death"
         }
        },
        "yaxis": {
         "title": {
          "text": "Age"
         }
        }
       }
      },
      "text/html": [
       "<div>                            <div id=\"5e6dff98-39bf-4ecc-957c-b17c071faac5\" class=\"plotly-graph-div\" style=\"height:525px; width:100%;\"></div>            <script type=\"text/javascript\">                require([\"plotly\"], function(Plotly) {                    window.PLOTLYENV=window.PLOTLYENV || {};                                    if (document.getElementById(\"5e6dff98-39bf-4ecc-957c-b17c071faac5\")) {                    Plotly.newPlot(                        \"5e6dff98-39bf-4ecc-957c-b17c071faac5\",                        [{\"marker\":{\"color\":[0,0,0,0,0,0,0,0,0,0,0,0,0,0,0,0,0,0,0,0,0,0,0,0,0,0,0,0,0,0,0,0,0,0,0,0,0,0,0,0,0,0,0,0,0,0,0,0,0,0,0,0,0,0,0,0,0,0,0,0,0,0,0,0,0,0,0,0,0,0,0,0,0,0,0,0,0,0,0,0,0,0,0,0,0,0,0,0,0,0,0,0,0,0,0,0,0,0,0,0,0,0,0,1,0,0,0,0,0,0,0,0,0,0,0,0,0,0,0,0,0,0,0,0,0,0,0,0,0,0,0,0,0,0,0,0,0,0,0,0,0,0,0,0,0,0,0,1,0,0,0,0,0,0,0,0,0,0,0,0,0,0,0,0,0,0,0,0,1,0,0,0,0,1,0,0,0,1,0,0,1,0,0,0,0,0,0,0,0,0,0,1,0,1,1,0,0,0,1,0,1,0,0,1,0,0,0,0,0,0,0,0,1,1,1],\"colorbar\":{\"title\":{\"text\":\"Decision\"}},\"colorscale\":[[0.0,\"#440154\"],[0.1111111111111111,\"#482878\"],[0.2222222222222222,\"#3e4989\"],[0.3333333333333333,\"#31688e\"],[0.4444444444444444,\"#26828e\"],[0.5555555555555556,\"#1f9e89\"],[0.6666666666666666,\"#35b779\"],[0.7777777777777778,\"#6ece58\"],[0.8888888888888888,\"#b5de2b\"],[1.0,\"#fde725\"]],\"size\":[14.0,17.2,14.6,14.6,17.6,15.2,15.4,16.8,16.2,18.0,15.4,10.2,15.6,16.6,14.0,15.2,17.4,16.0,15.2,14.4,8.2,14.8,16.8,13.8,14.6,14.0,16.8,17.0,15.4,15.8,15.8,16.2,14.8,16.2,12.6,14.6,11.8,15.0,16.4,15.2,17.0,16.6,15.6,14.2,16.0,13.8,14.8,18.0,16.6,18.0,18.6,16.6,16.8,16.0,13.8,17.0,17.4,16.0,16.0,16.2,15.6,13.8,15.0,16.0,16.4,16.4,16.4,16.2,13.4,17.0,11.2,13.8,14.4,17.2,18.4,16.4,17.2,14.8,16.8,14.8,15.4,13.6,16.8,12.0,14.8,15.4,15.6,10.8,18.0,16.4,10.6,14.6,16.8,11.4,17.4,14.0,15.6,17.4,15.0,16.2,17.6,14.0,17.6,16.2,14.2,17.6,10.6,16.4,17.2,14.0,14.2,17.0,16.8,9.4,15.0,17.0,13.6,12.6,16.4,17.6,13.0,16.4,14.4,17.4,17.4,14.8,17.6,8.6,13.4,15.0,16.2,15.8,16.0,17.6,14.2,15.8,15.4,17.0,14.4,10.8,15.4,12.6,16.4,16.4,17.2,16.2,15.4,13.4,16.2,16.8,17.0,16.8,15.2,17.0,15.0,15.2,15.2,17.8,15.6,14.6,15.0,9.4,13.8,15.2,17.8,18.0,14.0,14.8,15.4,15.2,16.8,16.0,15.2,11.6,13.6,14.8,15.8,12.6,13.8,10.2,15.2,13.8,17.2,14.4,16.2,15.8,15.8,15.4,15.8,15.6,16.6,13.4,14.0,16.2,9.8,14.6,16.6,15.8,12.8,14.6,13.6,16.6,14.8,11.4,15.0,15.4,13.0,14.8,16.8,16.6,15.4,17.6,14.6,14.6,16.2]},\"mode\":\"markers\",\"text\":[\"Women\",\"Women\",\"Women\",\"Men\",\"Women\",\"Women\",\"Men\",\"Women\",\"Women\",\"Men\",\"Women\",\"Women\",\"Women\",\"Men\",\"Women\",\"Women\",\"Women\",\"Men\",\"Women\",\"Women\",\"Men\",\"Women\",\"Women\",\"Women\",\"Women\",\"Men\",\"Women\",\"Women\",\"Women\",\"Women\",\"Men\",\"Women\",\"Women\",\"Men\",\"Women\",\"Women\",\"Women\",\"Women\",\"Men\",\"Men\",\"Men\",\"Women\",\"Women\",\"Women\",\"Women\",\"Women\",\"Women\",\"Women\",\"Women\",\"Women\",\"Women\",\"Women\",\"Women\",\"Women\",\"Women\",\"Men\",\"Men\",\"Women\",\"Women\",\"Women\",\"Women\",\"Women\",\"Women\",\"Women\",\"Women\",\"Women\",\"Women\",\"Men\",\"Men\",\"Men\",\"Women\",\"Women\",\"Women\",\"Women\",\"Women\",\"Women\",\"Women\",\"Women\",\"Women\",\"Women\",\"Women\",\"Women\",\"Women\",\"Women\",\"Women\",\"Women\",\"Women\",\"Women\",\"Men\",\"Women\",\"Women\",\"Women\",\"Women\",\"Women\",\"Women\",\"Women\",\"Women\",\"Women\",\"Women\",\"Women\",\"Women\",\"Women\",\"Men\",\"Women\",\"Women\",\"Women\",\"Women\",\"Men\",\"Men\",\"Women\",\"Women\",\"Women\",\"Women\",\"Women\",\"Women\",\"Men\",\"Women\",\"Women\",\"Women\",\"Women\",\"Women\",\"Men\",\"Men\",\"Women\",\"Women\",\"Women\",\"Men\",\"Men\",\"Women\",\"Men\",\"Women\",\"Women\",\"Women\",\"Men\",\"Women\",\"Women\",\"Men\",\"Women\",\"Women\",\"Women\",\"Women\",\"Women\",\"Women\",\"Women\",\"Women\",\"Women\",\"Men\",\"Women\",\"Women\",\"Women\",\"Women\",\"Women\",\"Men\",\"Women\",\"Women\",\"Women\",\"Women\",\"Women\",\"Men\",\"Men\",\"Women\",\"Men\",\"Women\",\"Women\",\"Women\",\"Women\",\"Women\",\"Women\",\"Women\",\"Women\",\"Women\",\"Women\",\"Women\",\"Women\",\"Women\",\"Women\",\"Women\",\"Women\",\"Women\",\"Women\",\"Women\",\"Men\",\"Women\",\"Women\",\"Women\",\"Women\",\"Women\",\"Women\",\"Women\",\"Women\",\"Women\",\"Women\",\"Women\",\"Women\",\"Women\",\"Women\",\"Men\",\"Women\",\"Women\",\"Women\",\"Women\",\"Women\",\"Women\",\"Women\",\"Women\",\"Men\",\"Women\",\"Women\",\"Women\",\"Women\",\"Women\",\"Women\",\"Women\",\"Women\",\"Women\"],\"x\":[\"1975-03-17T00:00:00\",\"1978-08-07T00:00:00\",\"1978-08-30T00:00:00\",\"1978-12-07T00:00:00\",\"1978-12-20T00:00:00\",\"1979-08-10T00:00:00\",\"1979-11-28T00:00:00\",\"1981-04-18T00:00:00\",\"1981-08-26T00:00:00\",\"1983-01-04T00:00:00\",\"1983-06-28T00:00:00\",\"1984-01-07T00:00:00\",\"1984-02-08T00:00:00\",\"1984-04-15T00:00:00\",\"1984-04-24T00:00:00\",\"1984-09-21T00:00:00\",\"1984-11-27T00:00:00\",\"1984-12-17T00:00:00\",\"1984-12-18T00:00:00\",\"1984-12-24T00:00:00\",\"1985-01-02T00:00:00\",\"1985-02-01T00:00:00\",\"1985-02-04T00:00:00\",\"1985-02-15T00:00:00\",\"1985-02-22T00:00:00\",\"1985-06-26T00:00:00\",\"1985-06-26T00:00:00\",\"1985-08-23T00:00:00\",\"1985-12-17T00:00:00\",\"1985-12-20T00:00:00\",\"1985-12-31T00:00:00\",\"1986-01-07T00:00:00\",\"1986-04-23T00:00:00\",\"1986-06-06T00:00:00\",\"1986-09-15T00:00:00\",\"1986-10-07T00:00:00\",\"1986-11-17T00:00:00\",\"1986-12-16T00:00:00\",\"1986-12-23T00:00:00\",\"1987-03-30T00:00:00\",\"1987-04-01T00:00:00\",\"1987-04-16T00:00:00\",\"1987-05-08T00:00:00\",\"1987-09-14T00:00:00\",\"1987-12-11T00:00:00\",\"1987-12-29T00:00:00\",\"1987-12-30T00:00:00\",\"1988-01-05T00:00:00\",\"1988-01-15T00:00:00\",\"1988-02-09T00:00:00\",\"1988-02-15T00:00:00\",\"1988-02-15T00:00:00\",\"1988-02-16T00:00:00\",\"1988-09-18T00:00:00\",\"1988-10-20T00:00:00\",\"1988-11-06T00:00:00\",\"1988-12-17T00:00:00\",\"1988-12-19T00:00:00\",\"1989-01-31T00:00:00\",\"1989-03-08T00:00:00\",\"1989-05-12T00:00:00\",\"1989-06-05T00:00:00\",\"1989-07-06T00:00:00\",\"1989-08-14T00:00:00\",\"1989-09-22T00:00:00\",\"1989-09-26T00:00:00\",\"1989-10-15T00:00:00\",\"1989-10-16T00:00:00\",\"1989-10-18T00:00:00\",\"1989-11-06T00:00:00\",\"1990-09-18T00:00:00\",\"1990-12-30T00:00:00\",\"1992-10-07T00:00:00\",\"1993-02-24T00:00:00\",\"1993-02-24T00:00:00\",\"1993-03-22T00:00:00\",\"1993-04-08T00:00:00\",\"1993-04-17T00:00:00\",\"1993-04-26T00:00:00\",\"1993-04-27T00:00:00\",\"1993-05-02T00:00:00\",\"1993-05-04T00:00:00\",\"1993-05-12T00:00:00\",\"1993-05-13T00:00:00\",\"1993-07-22T00:00:00\",\"1993-08-16T00:00:00\",\"1993-12-16T00:00:00\",\"1993-12-22T00:00:00\",\"1993-12-31T00:00:00\",\"1994-01-04T00:00:00\",\"1994-01-13T00:00:00\",\"1994-02-09T00:00:00\",\"1994-05-17T00:00:00\",\"1994-05-25T00:00:00\",\"1994-06-15T00:00:00\",\"1994-06-17T00:00:00\",\"1994-07-27T00:00:00\",\"1994-11-25T00:00:00\",\"1994-11-30T00:00:00\",\"1994-12-29T00:00:00\",\"1995-01-09T00:00:00\",\"1995-03-01T00:00:00\",\"1995-03-03T00:00:00\",\"1995-03-06T00:00:00\",\"1995-03-07T00:00:00\",\"1995-03-07T00:00:00\",\"1995-03-13T00:00:00\",\"1995-03-21T00:00:00\",\"1995-03-26T00:00:00\",\"1995-03-31T00:00:00\",\"1995-04-10T00:00:00\",\"1995-04-13T00:00:00\",\"1995-04-14T00:00:00\",\"1995-04-21T00:00:00\",\"1995-05-04T00:00:00\",\"1995-06-02T00:00:00\",\"1995-06-13T00:00:00\",\"1995-06-17T00:00:00\",\"1995-06-29T00:00:00\",\"1995-07-12T00:00:00\",\"1995-07-31T00:00:00\",\"1995-08-29T00:00:00\",\"1995-09-14T00:00:00\",\"1995-09-26T00:00:00\",\"1995-10-24T00:00:00\",\"1995-11-08T00:00:00\",\"1995-11-22T00:00:00\",\"1995-11-25T00:00:00\",\"1995-12-14T00:00:00\",\"1995-12-14T00:00:00\",\"1996-01-02T00:00:00\",\"1996-01-11T00:00:00\",\"1996-02-21T00:00:00\",\"1996-02-27T00:00:00\",\"1996-03-12T00:00:00\",\"1996-04-18T00:00:00\",\"1996-04-24T00:00:00\",\"1996-05-07T00:00:00\",\"1996-05-13T00:00:00\",\"1996-05-29T00:00:00\",\"1996-05-30T00:00:00\",\"1996-06-06T00:00:00\",\"1996-06-10T00:00:00\",\"1996-06-17T00:00:00\",\"1996-06-25T00:00:00\",\"1996-06-25T00:00:00\",\"1996-07-02T00:00:00\",\"1996-07-11T00:00:00\",\"1996-07-16T00:00:00\",\"1996-07-19T00:00:00\",\"1996-07-24T00:00:00\",\"1996-07-29T00:00:00\",\"1996-08-30T00:00:00\",\"1996-09-12T00:00:00\",\"1996-09-20T00:00:00\",\"1996-10-23T00:00:00\",\"1996-11-20T00:00:00\",\"1996-11-23T00:00:00\",\"1996-12-04T00:00:00\",\"1996-12-17T00:00:00\",\"1997-01-02T00:00:00\",\"1997-01-03T00:00:00\",\"1997-01-08T00:00:00\",\"1997-01-20T00:00:00\",\"1997-01-27T00:00:00\",\"1997-02-03T00:00:00\",\"1997-02-04T00:00:00\",\"1997-02-23T00:00:00\",\"1997-02-28T00:00:00\",\"1997-03-22T00:00:00\",\"1997-03-27T00:00:00\",\"1997-04-21T00:00:00\",\"1997-04-25T00:00:00\",\"1997-04-25T00:00:00\",\"1997-05-02T00:00:00\",\"1997-05-12T00:00:00\",\"1997-05-21T00:00:00\",\"1997-05-29T00:00:00\",\"1997-06-24T00:00:00\",\"1997-07-07T00:00:00\",\"1997-07-14T00:00:00\",\"1997-07-25T00:00:00\",\"1997-07-28T00:00:00\",\"1997-08-10T00:00:00\",\"1997-09-01T00:00:00\",\"1997-09-22T00:00:00\",\"1997-09-26T00:00:00\",\"1997-09-29T00:00:00\",\"1997-11-10T00:00:00\",\"1997-11-14T00:00:00\",\"1997-11-21T00:00:00\",\"1997-11-24T00:00:00\",\"1997-12-08T00:00:00\",\"1997-12-09T00:00:00\",\"1997-12-10T00:00:00\",\"1997-12-18T00:00:00\",\"1997-12-24T00:00:00\",\"1998-01-22T00:00:00\",\"1998-01-26T00:00:00\",\"1998-02-02T00:00:00\",\"1998-02-09T00:00:00\",\"1998-02-13T00:00:00\",\"1998-02-15T00:00:00\",\"1998-02-18T00:00:00\",\"1998-02-27T00:00:00\",\"1998-03-04T00:00:00\",\"1998-03-06T00:00:00\",\"1998-03-07T00:00:00\",\"1998-03-13T00:00:00\",\"1998-03-17T00:00:00\",\"1998-03-20T00:00:00\",\"1998-03-24T00:00:00\",\"1998-05-11T00:00:00\",\"1998-06-12T00:00:00\",\"1998-06-24T00:00:00\"],\"y\":[70,86,73,73,88,76,77,84,81,90,77,51,78,83,70,76,87,80,76,72,41,74,84,69,73,70,84,85,77,79,79,81,74,81,63,73,59,75,82,76,85,83,78,71,80,69,74,90,83,90,93,83,84,80,69,85,87,80,80,81,78,69,75,80,82,82,82,81,67,85,56,69,72,86,92,82,86,74,84,74,77,68,84,60,74,77,78,54,90,82,53,73,84,57,87,70,78,87,75,81,88,70,88,81,71,88,53,82,86,70,71,85,84,47,75,85,68,63,82,88,65,82,72,87,87,74,88,43,67,75,81,79,80,88,71,79,77,85,72,54,77,63,82,82,86,81,77,67,81,84,85,84,76,85,75,76,76,89,78,73,75,47,69,76,89,90,70,74,77,76,84,80,76,58,68,74,79,63,69,51,76,69,86,72,81,79,79,77,79,78,83,67,70,81,49,73,83,79,64,73,68,83,74,57,75,77,65,74,84,83,77,88,73,73,81],\"type\":\"scatter\"}],                        {\"hovermode\":\"closest\",\"title\":{\"text\":\"Bubble Chart for Age vs. YearOfDeath\"},\"xaxis\":{\"title\":{\"text\":\"Year of Death\"}},\"yaxis\":{\"title\":{\"text\":\"Age\"}},\"template\":{\"data\":{\"histogram2dcontour\":[{\"type\":\"histogram2dcontour\",\"colorbar\":{\"outlinewidth\":0,\"ticks\":\"\"},\"colorscale\":[[0.0,\"#0d0887\"],[0.1111111111111111,\"#46039f\"],[0.2222222222222222,\"#7201a8\"],[0.3333333333333333,\"#9c179e\"],[0.4444444444444444,\"#bd3786\"],[0.5555555555555556,\"#d8576b\"],[0.6666666666666666,\"#ed7953\"],[0.7777777777777778,\"#fb9f3a\"],[0.8888888888888888,\"#fdca26\"],[1.0,\"#f0f921\"]]}],\"choropleth\":[{\"type\":\"choropleth\",\"colorbar\":{\"outlinewidth\":0,\"ticks\":\"\"}}],\"histogram2d\":[{\"type\":\"histogram2d\",\"colorbar\":{\"outlinewidth\":0,\"ticks\":\"\"},\"colorscale\":[[0.0,\"#0d0887\"],[0.1111111111111111,\"#46039f\"],[0.2222222222222222,\"#7201a8\"],[0.3333333333333333,\"#9c179e\"],[0.4444444444444444,\"#bd3786\"],[0.5555555555555556,\"#d8576b\"],[0.6666666666666666,\"#ed7953\"],[0.7777777777777778,\"#fb9f3a\"],[0.8888888888888888,\"#fdca26\"],[1.0,\"#f0f921\"]]}],\"heatmap\":[{\"type\":\"heatmap\",\"colorbar\":{\"outlinewidth\":0,\"ticks\":\"\"},\"colorscale\":[[0.0,\"#0d0887\"],[0.1111111111111111,\"#46039f\"],[0.2222222222222222,\"#7201a8\"],[0.3333333333333333,\"#9c179e\"],[0.4444444444444444,\"#bd3786\"],[0.5555555555555556,\"#d8576b\"],[0.6666666666666666,\"#ed7953\"],[0.7777777777777778,\"#fb9f3a\"],[0.8888888888888888,\"#fdca26\"],[1.0,\"#f0f921\"]]}],\"heatmapgl\":[{\"type\":\"heatmapgl\",\"colorbar\":{\"outlinewidth\":0,\"ticks\":\"\"},\"colorscale\":[[0.0,\"#0d0887\"],[0.1111111111111111,\"#46039f\"],[0.2222222222222222,\"#7201a8\"],[0.3333333333333333,\"#9c179e\"],[0.4444444444444444,\"#bd3786\"],[0.5555555555555556,\"#d8576b\"],[0.6666666666666666,\"#ed7953\"],[0.7777777777777778,\"#fb9f3a\"],[0.8888888888888888,\"#fdca26\"],[1.0,\"#f0f921\"]]}],\"contourcarpet\":[{\"type\":\"contourcarpet\",\"colorbar\":{\"outlinewidth\":0,\"ticks\":\"\"}}],\"contour\":[{\"type\":\"contour\",\"colorbar\":{\"outlinewidth\":0,\"ticks\":\"\"},\"colorscale\":[[0.0,\"#0d0887\"],[0.1111111111111111,\"#46039f\"],[0.2222222222222222,\"#7201a8\"],[0.3333333333333333,\"#9c179e\"],[0.4444444444444444,\"#bd3786\"],[0.5555555555555556,\"#d8576b\"],[0.6666666666666666,\"#ed7953\"],[0.7777777777777778,\"#fb9f3a\"],[0.8888888888888888,\"#fdca26\"],[1.0,\"#f0f921\"]]}],\"surface\":[{\"type\":\"surface\",\"colorbar\":{\"outlinewidth\":0,\"ticks\":\"\"},\"colorscale\":[[0.0,\"#0d0887\"],[0.1111111111111111,\"#46039f\"],[0.2222222222222222,\"#7201a8\"],[0.3333333333333333,\"#9c179e\"],[0.4444444444444444,\"#bd3786\"],[0.5555555555555556,\"#d8576b\"],[0.6666666666666666,\"#ed7953\"],[0.7777777777777778,\"#fb9f3a\"],[0.8888888888888888,\"#fdca26\"],[1.0,\"#f0f921\"]]}],\"mesh3d\":[{\"type\":\"mesh3d\",\"colorbar\":{\"outlinewidth\":0,\"ticks\":\"\"}}],\"scatter\":[{\"fillpattern\":{\"fillmode\":\"overlay\",\"size\":10,\"solidity\":0.2},\"type\":\"scatter\"}],\"parcoords\":[{\"type\":\"parcoords\",\"line\":{\"colorbar\":{\"outlinewidth\":0,\"ticks\":\"\"}}}],\"scatterpolargl\":[{\"type\":\"scatterpolargl\",\"marker\":{\"colorbar\":{\"outlinewidth\":0,\"ticks\":\"\"}}}],\"bar\":[{\"error_x\":{\"color\":\"#2a3f5f\"},\"error_y\":{\"color\":\"#2a3f5f\"},\"marker\":{\"line\":{\"color\":\"#E5ECF6\",\"width\":0.5},\"pattern\":{\"fillmode\":\"overlay\",\"size\":10,\"solidity\":0.2}},\"type\":\"bar\"}],\"scattergeo\":[{\"type\":\"scattergeo\",\"marker\":{\"colorbar\":{\"outlinewidth\":0,\"ticks\":\"\"}}}],\"scatterpolar\":[{\"type\":\"scatterpolar\",\"marker\":{\"colorbar\":{\"outlinewidth\":0,\"ticks\":\"\"}}}],\"histogram\":[{\"marker\":{\"pattern\":{\"fillmode\":\"overlay\",\"size\":10,\"solidity\":0.2}},\"type\":\"histogram\"}],\"scattergl\":[{\"type\":\"scattergl\",\"marker\":{\"colorbar\":{\"outlinewidth\":0,\"ticks\":\"\"}}}],\"scatter3d\":[{\"type\":\"scatter3d\",\"line\":{\"colorbar\":{\"outlinewidth\":0,\"ticks\":\"\"}},\"marker\":{\"colorbar\":{\"outlinewidth\":0,\"ticks\":\"\"}}}],\"scattermapbox\":[{\"type\":\"scattermapbox\",\"marker\":{\"colorbar\":{\"outlinewidth\":0,\"ticks\":\"\"}}}],\"scatterternary\":[{\"type\":\"scatterternary\",\"marker\":{\"colorbar\":{\"outlinewidth\":0,\"ticks\":\"\"}}}],\"scattercarpet\":[{\"type\":\"scattercarpet\",\"marker\":{\"colorbar\":{\"outlinewidth\":0,\"ticks\":\"\"}}}],\"carpet\":[{\"aaxis\":{\"endlinecolor\":\"#2a3f5f\",\"gridcolor\":\"white\",\"linecolor\":\"white\",\"minorgridcolor\":\"white\",\"startlinecolor\":\"#2a3f5f\"},\"baxis\":{\"endlinecolor\":\"#2a3f5f\",\"gridcolor\":\"white\",\"linecolor\":\"white\",\"minorgridcolor\":\"white\",\"startlinecolor\":\"#2a3f5f\"},\"type\":\"carpet\"}],\"table\":[{\"cells\":{\"fill\":{\"color\":\"#EBF0F8\"},\"line\":{\"color\":\"white\"}},\"header\":{\"fill\":{\"color\":\"#C8D4E3\"},\"line\":{\"color\":\"white\"}},\"type\":\"table\"}],\"barpolar\":[{\"marker\":{\"line\":{\"color\":\"#E5ECF6\",\"width\":0.5},\"pattern\":{\"fillmode\":\"overlay\",\"size\":10,\"solidity\":0.2}},\"type\":\"barpolar\"}],\"pie\":[{\"automargin\":true,\"type\":\"pie\"}]},\"layout\":{\"autotypenumbers\":\"strict\",\"colorway\":[\"#636efa\",\"#EF553B\",\"#00cc96\",\"#ab63fa\",\"#FFA15A\",\"#19d3f3\",\"#FF6692\",\"#B6E880\",\"#FF97FF\",\"#FECB52\"],\"font\":{\"color\":\"#2a3f5f\"},\"hovermode\":\"closest\",\"hoverlabel\":{\"align\":\"left\"},\"paper_bgcolor\":\"white\",\"plot_bgcolor\":\"#E5ECF6\",\"polar\":{\"bgcolor\":\"#E5ECF6\",\"angularaxis\":{\"gridcolor\":\"white\",\"linecolor\":\"white\",\"ticks\":\"\"},\"radialaxis\":{\"gridcolor\":\"white\",\"linecolor\":\"white\",\"ticks\":\"\"}},\"ternary\":{\"bgcolor\":\"#E5ECF6\",\"aaxis\":{\"gridcolor\":\"white\",\"linecolor\":\"white\",\"ticks\":\"\"},\"baxis\":{\"gridcolor\":\"white\",\"linecolor\":\"white\",\"ticks\":\"\"},\"caxis\":{\"gridcolor\":\"white\",\"linecolor\":\"white\",\"ticks\":\"\"}},\"coloraxis\":{\"colorbar\":{\"outlinewidth\":0,\"ticks\":\"\"}},\"colorscale\":{\"sequential\":[[0.0,\"#0d0887\"],[0.1111111111111111,\"#46039f\"],[0.2222222222222222,\"#7201a8\"],[0.3333333333333333,\"#9c179e\"],[0.4444444444444444,\"#bd3786\"],[0.5555555555555556,\"#d8576b\"],[0.6666666666666666,\"#ed7953\"],[0.7777777777777778,\"#fb9f3a\"],[0.8888888888888888,\"#fdca26\"],[1.0,\"#f0f921\"]],\"sequentialminus\":[[0.0,\"#0d0887\"],[0.1111111111111111,\"#46039f\"],[0.2222222222222222,\"#7201a8\"],[0.3333333333333333,\"#9c179e\"],[0.4444444444444444,\"#bd3786\"],[0.5555555555555556,\"#d8576b\"],[0.6666666666666666,\"#ed7953\"],[0.7777777777777778,\"#fb9f3a\"],[0.8888888888888888,\"#fdca26\"],[1.0,\"#f0f921\"]],\"diverging\":[[0,\"#8e0152\"],[0.1,\"#c51b7d\"],[0.2,\"#de77ae\"],[0.3,\"#f1b6da\"],[0.4,\"#fde0ef\"],[0.5,\"#f7f7f7\"],[0.6,\"#e6f5d0\"],[0.7,\"#b8e186\"],[0.8,\"#7fbc41\"],[0.9,\"#4d9221\"],[1,\"#276419\"]]},\"xaxis\":{\"gridcolor\":\"white\",\"linecolor\":\"white\",\"ticks\":\"\",\"title\":{\"standoff\":15},\"zerolinecolor\":\"white\",\"automargin\":true,\"zerolinewidth\":2},\"yaxis\":{\"gridcolor\":\"white\",\"linecolor\":\"white\",\"ticks\":\"\",\"title\":{\"standoff\":15},\"zerolinecolor\":\"white\",\"automargin\":true,\"zerolinewidth\":2},\"scene\":{\"xaxis\":{\"backgroundcolor\":\"#E5ECF6\",\"gridcolor\":\"white\",\"linecolor\":\"white\",\"showbackground\":true,\"ticks\":\"\",\"zerolinecolor\":\"white\",\"gridwidth\":2},\"yaxis\":{\"backgroundcolor\":\"#E5ECF6\",\"gridcolor\":\"white\",\"linecolor\":\"white\",\"showbackground\":true,\"ticks\":\"\",\"zerolinecolor\":\"white\",\"gridwidth\":2},\"zaxis\":{\"backgroundcolor\":\"#E5ECF6\",\"gridcolor\":\"white\",\"linecolor\":\"white\",\"showbackground\":true,\"ticks\":\"\",\"zerolinecolor\":\"white\",\"gridwidth\":2}},\"shapedefaults\":{\"line\":{\"color\":\"#2a3f5f\"}},\"annotationdefaults\":{\"arrowcolor\":\"#2a3f5f\",\"arrowhead\":0,\"arrowwidth\":1},\"geo\":{\"bgcolor\":\"white\",\"landcolor\":\"#E5ECF6\",\"subunitcolor\":\"white\",\"showland\":true,\"showlakes\":true,\"lakecolor\":\"white\"},\"title\":{\"x\":0.05},\"mapbox\":{\"style\":\"light\"}}}},                        {\"responsive\": true}                    ).then(function(){\n",
       "                            \n",
       "var gd = document.getElementById('5e6dff98-39bf-4ecc-957c-b17c071faac5');\n",
       "var x = new MutationObserver(function (mutations, observer) {{\n",
       "        var display = window.getComputedStyle(gd).display;\n",
       "        if (!display || display === 'none') {{\n",
       "            console.log([gd, 'removed!']);\n",
       "            Plotly.purge(gd);\n",
       "            observer.disconnect();\n",
       "        }}\n",
       "}});\n",
       "\n",
       "// Listen for the removal of the full notebook cells\n",
       "var notebookContainer = gd.closest('#notebook-container');\n",
       "if (notebookContainer) {{\n",
       "    x.observe(notebookContainer, {childList: true});\n",
       "}}\n",
       "\n",
       "// Listen for the clearing of the current output cell\n",
       "var outputEl = gd.closest('.output');\n",
       "if (outputEl) {{\n",
       "    x.observe(outputEl, {childList: true});\n",
       "}}\n",
       "\n",
       "                        })                };                });            </script>        </div>"
      ]
     },
     "metadata": {},
     "output_type": "display_data"
    },
    {
     "data": {
      "text/plain": [
       "'Bubblechart.html'"
      ]
     },
     "execution_count": 167,
     "metadata": {},
     "output_type": "execute_result"
    }
   ],
   "source": [
    "# Bubble Chart:\n",
    "\n",
    "data= [go.Scatter(x= shipman_victims['DateofDeath'],\n",
    "                  y= shipman_victims['Age'],\n",
    "                  text=shipman_victims['gender2'],\n",
    "                  mode='markers',\n",
    "                  marker=dict(\n",
    "                      size= shipman_victims['Age']/5, # set the size\n",
    "                      color=shipman_victims['Decision'], # color of markers based on decision column\n",
    "                      colorscale='Viridis', # choose a colorscale\n",
    "                      colorbar=dict(title='Decision') # add a colorbar with title\n",
    "                  )\n",
    "            \n",
    "                 )\n",
    "      ]\n",
    "\n",
    "layout = go.Layout(\n",
    "    title='Bubble Chart for Age vs. YearOfDeath',\n",
    "    xaxis = dict(title = 'Year of Death'), # x-axis label\n",
    "    yaxis = dict(title = 'Age'),        # y-axis label\n",
    "    hovermode='closest'\n",
    ")\n",
    "fig = go.Figure(data=data, layout=layout)\n",
    "\n",
    "fig.show()\n",
    "pyo.plot(fig, filename='Bubblechart.html')\n"
   ]
  },
  {
   "cell_type": "markdown",
   "id": "47974a97",
   "metadata": {},
   "source": [
    "Around 16 cases Harold was convicted for victims all women with least age being 49 and higfhest being 81."
   ]
  },
  {
   "cell_type": "markdown",
   "id": "a210ca55",
   "metadata": {},
   "source": [
    " #### At what time of day did Harold Shipman's victims die?"
   ]
  },
  {
   "cell_type": "code",
   "execution_count": 227,
   "id": "8ef4925c",
   "metadata": {},
   "outputs": [
    {
     "data": {
      "application/vnd.plotly.v1+json": {
       "config": {
        "plotlyServerURL": "https://plot.ly"
       },
       "data": [
        {
         "mode": "lines+markers",
         "name": "Shipman",
         "type": "scatter",
         "x": [
          0,
          1,
          2,
          3,
          4,
          5,
          6,
          7,
          8,
          9,
          10,
          11,
          12,
          13,
          14,
          15,
          16,
          17,
          18,
          19,
          20,
          21,
          22,
          23
         ],
         "y": [
          2.6,
          1,
          2.6,
          3,
          0.3,
          1.2,
          2.9,
          1.8,
          3.6,
          2.6,
          4.6,
          5.8,
          2,
          9,
          14.1,
          13,
          9,
          5.8,
          3.8,
          2.9,
          3.6,
          0.8,
          3.6,
          2
         ]
        },
        {
         "line": {
          "dash": "dash"
         },
         "mode": "lines",
         "name": "Comparison GPs",
         "type": "scatter",
         "x": [
          0,
          1,
          2,
          3,
          4,
          5,
          6,
          7,
          8,
          9,
          10,
          11,
          12,
          13,
          14,
          15,
          16,
          17,
          18,
          19,
          20,
          21,
          22,
          23
         ],
         "y": [
          1.1,
          3,
          3.1,
          3.8,
          4,
          4.3,
          4.2,
          4.1,
          3.4,
          5.6,
          5.5,
          5.8,
          4,
          3.8,
          2,
          3.4,
          6.6,
          5.2,
          3.3,
          5,
          4.1,
          3.8,
          2.9,
          4.1
         ]
        }
       ],
       "layout": {
        "annotations": [
         {
          "font": {
           "color": "blue",
           "size": 14
          },
          "showarrow": false,
          "text": "Shipman",
          "x": 12,
          "y": 14
         },
         {
          "font": {
           "color": "red",
           "size": 14
          },
          "showarrow": false,
          "text": "Comparison GPs",
          "x": 4,
          "y": 7
         }
        ],
        "legend": {
         "font": {
          "size": 16
         },
         "orientation": "h",
         "x": 1,
         "xanchor": "right",
         "y": 1.02,
         "yanchor": "bottom"
        },
        "template": {
         "data": {
          "bar": [
           {
            "error_x": {
             "color": "#2a3f5f"
            },
            "error_y": {
             "color": "#2a3f5f"
            },
            "marker": {
             "line": {
              "color": "#E5ECF6",
              "width": 0.5
             },
             "pattern": {
              "fillmode": "overlay",
              "size": 10,
              "solidity": 0.2
             }
            },
            "type": "bar"
           }
          ],
          "barpolar": [
           {
            "marker": {
             "line": {
              "color": "#E5ECF6",
              "width": 0.5
             },
             "pattern": {
              "fillmode": "overlay",
              "size": 10,
              "solidity": 0.2
             }
            },
            "type": "barpolar"
           }
          ],
          "carpet": [
           {
            "aaxis": {
             "endlinecolor": "#2a3f5f",
             "gridcolor": "white",
             "linecolor": "white",
             "minorgridcolor": "white",
             "startlinecolor": "#2a3f5f"
            },
            "baxis": {
             "endlinecolor": "#2a3f5f",
             "gridcolor": "white",
             "linecolor": "white",
             "minorgridcolor": "white",
             "startlinecolor": "#2a3f5f"
            },
            "type": "carpet"
           }
          ],
          "choropleth": [
           {
            "colorbar": {
             "outlinewidth": 0,
             "ticks": ""
            },
            "type": "choropleth"
           }
          ],
          "contour": [
           {
            "colorbar": {
             "outlinewidth": 0,
             "ticks": ""
            },
            "colorscale": [
             [
              0,
              "#0d0887"
             ],
             [
              0.1111111111111111,
              "#46039f"
             ],
             [
              0.2222222222222222,
              "#7201a8"
             ],
             [
              0.3333333333333333,
              "#9c179e"
             ],
             [
              0.4444444444444444,
              "#bd3786"
             ],
             [
              0.5555555555555556,
              "#d8576b"
             ],
             [
              0.6666666666666666,
              "#ed7953"
             ],
             [
              0.7777777777777778,
              "#fb9f3a"
             ],
             [
              0.8888888888888888,
              "#fdca26"
             ],
             [
              1,
              "#f0f921"
             ]
            ],
            "type": "contour"
           }
          ],
          "contourcarpet": [
           {
            "colorbar": {
             "outlinewidth": 0,
             "ticks": ""
            },
            "type": "contourcarpet"
           }
          ],
          "heatmap": [
           {
            "colorbar": {
             "outlinewidth": 0,
             "ticks": ""
            },
            "colorscale": [
             [
              0,
              "#0d0887"
             ],
             [
              0.1111111111111111,
              "#46039f"
             ],
             [
              0.2222222222222222,
              "#7201a8"
             ],
             [
              0.3333333333333333,
              "#9c179e"
             ],
             [
              0.4444444444444444,
              "#bd3786"
             ],
             [
              0.5555555555555556,
              "#d8576b"
             ],
             [
              0.6666666666666666,
              "#ed7953"
             ],
             [
              0.7777777777777778,
              "#fb9f3a"
             ],
             [
              0.8888888888888888,
              "#fdca26"
             ],
             [
              1,
              "#f0f921"
             ]
            ],
            "type": "heatmap"
           }
          ],
          "heatmapgl": [
           {
            "colorbar": {
             "outlinewidth": 0,
             "ticks": ""
            },
            "colorscale": [
             [
              0,
              "#0d0887"
             ],
             [
              0.1111111111111111,
              "#46039f"
             ],
             [
              0.2222222222222222,
              "#7201a8"
             ],
             [
              0.3333333333333333,
              "#9c179e"
             ],
             [
              0.4444444444444444,
              "#bd3786"
             ],
             [
              0.5555555555555556,
              "#d8576b"
             ],
             [
              0.6666666666666666,
              "#ed7953"
             ],
             [
              0.7777777777777778,
              "#fb9f3a"
             ],
             [
              0.8888888888888888,
              "#fdca26"
             ],
             [
              1,
              "#f0f921"
             ]
            ],
            "type": "heatmapgl"
           }
          ],
          "histogram": [
           {
            "marker": {
             "pattern": {
              "fillmode": "overlay",
              "size": 10,
              "solidity": 0.2
             }
            },
            "type": "histogram"
           }
          ],
          "histogram2d": [
           {
            "colorbar": {
             "outlinewidth": 0,
             "ticks": ""
            },
            "colorscale": [
             [
              0,
              "#0d0887"
             ],
             [
              0.1111111111111111,
              "#46039f"
             ],
             [
              0.2222222222222222,
              "#7201a8"
             ],
             [
              0.3333333333333333,
              "#9c179e"
             ],
             [
              0.4444444444444444,
              "#bd3786"
             ],
             [
              0.5555555555555556,
              "#d8576b"
             ],
             [
              0.6666666666666666,
              "#ed7953"
             ],
             [
              0.7777777777777778,
              "#fb9f3a"
             ],
             [
              0.8888888888888888,
              "#fdca26"
             ],
             [
              1,
              "#f0f921"
             ]
            ],
            "type": "histogram2d"
           }
          ],
          "histogram2dcontour": [
           {
            "colorbar": {
             "outlinewidth": 0,
             "ticks": ""
            },
            "colorscale": [
             [
              0,
              "#0d0887"
             ],
             [
              0.1111111111111111,
              "#46039f"
             ],
             [
              0.2222222222222222,
              "#7201a8"
             ],
             [
              0.3333333333333333,
              "#9c179e"
             ],
             [
              0.4444444444444444,
              "#bd3786"
             ],
             [
              0.5555555555555556,
              "#d8576b"
             ],
             [
              0.6666666666666666,
              "#ed7953"
             ],
             [
              0.7777777777777778,
              "#fb9f3a"
             ],
             [
              0.8888888888888888,
              "#fdca26"
             ],
             [
              1,
              "#f0f921"
             ]
            ],
            "type": "histogram2dcontour"
           }
          ],
          "mesh3d": [
           {
            "colorbar": {
             "outlinewidth": 0,
             "ticks": ""
            },
            "type": "mesh3d"
           }
          ],
          "parcoords": [
           {
            "line": {
             "colorbar": {
              "outlinewidth": 0,
              "ticks": ""
             }
            },
            "type": "parcoords"
           }
          ],
          "pie": [
           {
            "automargin": true,
            "type": "pie"
           }
          ],
          "scatter": [
           {
            "fillpattern": {
             "fillmode": "overlay",
             "size": 10,
             "solidity": 0.2
            },
            "type": "scatter"
           }
          ],
          "scatter3d": [
           {
            "line": {
             "colorbar": {
              "outlinewidth": 0,
              "ticks": ""
             }
            },
            "marker": {
             "colorbar": {
              "outlinewidth": 0,
              "ticks": ""
             }
            },
            "type": "scatter3d"
           }
          ],
          "scattercarpet": [
           {
            "marker": {
             "colorbar": {
              "outlinewidth": 0,
              "ticks": ""
             }
            },
            "type": "scattercarpet"
           }
          ],
          "scattergeo": [
           {
            "marker": {
             "colorbar": {
              "outlinewidth": 0,
              "ticks": ""
             }
            },
            "type": "scattergeo"
           }
          ],
          "scattergl": [
           {
            "marker": {
             "colorbar": {
              "outlinewidth": 0,
              "ticks": ""
             }
            },
            "type": "scattergl"
           }
          ],
          "scattermapbox": [
           {
            "marker": {
             "colorbar": {
              "outlinewidth": 0,
              "ticks": ""
             }
            },
            "type": "scattermapbox"
           }
          ],
          "scatterpolar": [
           {
            "marker": {
             "colorbar": {
              "outlinewidth": 0,
              "ticks": ""
             }
            },
            "type": "scatterpolar"
           }
          ],
          "scatterpolargl": [
           {
            "marker": {
             "colorbar": {
              "outlinewidth": 0,
              "ticks": ""
             }
            },
            "type": "scatterpolargl"
           }
          ],
          "scatterternary": [
           {
            "marker": {
             "colorbar": {
              "outlinewidth": 0,
              "ticks": ""
             }
            },
            "type": "scatterternary"
           }
          ],
          "surface": [
           {
            "colorbar": {
             "outlinewidth": 0,
             "ticks": ""
            },
            "colorscale": [
             [
              0,
              "#0d0887"
             ],
             [
              0.1111111111111111,
              "#46039f"
             ],
             [
              0.2222222222222222,
              "#7201a8"
             ],
             [
              0.3333333333333333,
              "#9c179e"
             ],
             [
              0.4444444444444444,
              "#bd3786"
             ],
             [
              0.5555555555555556,
              "#d8576b"
             ],
             [
              0.6666666666666666,
              "#ed7953"
             ],
             [
              0.7777777777777778,
              "#fb9f3a"
             ],
             [
              0.8888888888888888,
              "#fdca26"
             ],
             [
              1,
              "#f0f921"
             ]
            ],
            "type": "surface"
           }
          ],
          "table": [
           {
            "cells": {
             "fill": {
              "color": "#EBF0F8"
             },
             "line": {
              "color": "white"
             }
            },
            "header": {
             "fill": {
              "color": "#C8D4E3"
             },
             "line": {
              "color": "white"
             }
            },
            "type": "table"
           }
          ]
         },
         "layout": {
          "annotationdefaults": {
           "arrowcolor": "#2a3f5f",
           "arrowhead": 0,
           "arrowwidth": 1
          },
          "autotypenumbers": "strict",
          "coloraxis": {
           "colorbar": {
            "outlinewidth": 0,
            "ticks": ""
           }
          },
          "colorscale": {
           "diverging": [
            [
             0,
             "#8e0152"
            ],
            [
             0.1,
             "#c51b7d"
            ],
            [
             0.2,
             "#de77ae"
            ],
            [
             0.3,
             "#f1b6da"
            ],
            [
             0.4,
             "#fde0ef"
            ],
            [
             0.5,
             "#f7f7f7"
            ],
            [
             0.6,
             "#e6f5d0"
            ],
            [
             0.7,
             "#b8e186"
            ],
            [
             0.8,
             "#7fbc41"
            ],
            [
             0.9,
             "#4d9221"
            ],
            [
             1,
             "#276419"
            ]
           ],
           "sequential": [
            [
             0,
             "#0d0887"
            ],
            [
             0.1111111111111111,
             "#46039f"
            ],
            [
             0.2222222222222222,
             "#7201a8"
            ],
            [
             0.3333333333333333,
             "#9c179e"
            ],
            [
             0.4444444444444444,
             "#bd3786"
            ],
            [
             0.5555555555555556,
             "#d8576b"
            ],
            [
             0.6666666666666666,
             "#ed7953"
            ],
            [
             0.7777777777777778,
             "#fb9f3a"
            ],
            [
             0.8888888888888888,
             "#fdca26"
            ],
            [
             1,
             "#f0f921"
            ]
           ],
           "sequentialminus": [
            [
             0,
             "#0d0887"
            ],
            [
             0.1111111111111111,
             "#46039f"
            ],
            [
             0.2222222222222222,
             "#7201a8"
            ],
            [
             0.3333333333333333,
             "#9c179e"
            ],
            [
             0.4444444444444444,
             "#bd3786"
            ],
            [
             0.5555555555555556,
             "#d8576b"
            ],
            [
             0.6666666666666666,
             "#ed7953"
            ],
            [
             0.7777777777777778,
             "#fb9f3a"
            ],
            [
             0.8888888888888888,
             "#fdca26"
            ],
            [
             1,
             "#f0f921"
            ]
           ]
          },
          "colorway": [
           "#636efa",
           "#EF553B",
           "#00cc96",
           "#ab63fa",
           "#FFA15A",
           "#19d3f3",
           "#FF6692",
           "#B6E880",
           "#FF97FF",
           "#FECB52"
          ],
          "font": {
           "color": "#2a3f5f"
          },
          "geo": {
           "bgcolor": "white",
           "lakecolor": "white",
           "landcolor": "#E5ECF6",
           "showlakes": true,
           "showland": true,
           "subunitcolor": "white"
          },
          "hoverlabel": {
           "align": "left"
          },
          "hovermode": "closest",
          "mapbox": {
           "style": "light"
          },
          "paper_bgcolor": "white",
          "plot_bgcolor": "#E5ECF6",
          "polar": {
           "angularaxis": {
            "gridcolor": "white",
            "linecolor": "white",
            "ticks": ""
           },
           "bgcolor": "#E5ECF6",
           "radialaxis": {
            "gridcolor": "white",
            "linecolor": "white",
            "ticks": ""
           }
          },
          "scene": {
           "xaxis": {
            "backgroundcolor": "#E5ECF6",
            "gridcolor": "white",
            "gridwidth": 2,
            "linecolor": "white",
            "showbackground": true,
            "ticks": "",
            "zerolinecolor": "white"
           },
           "yaxis": {
            "backgroundcolor": "#E5ECF6",
            "gridcolor": "white",
            "gridwidth": 2,
            "linecolor": "white",
            "showbackground": true,
            "ticks": "",
            "zerolinecolor": "white"
           },
           "zaxis": {
            "backgroundcolor": "#E5ECF6",
            "gridcolor": "white",
            "gridwidth": 2,
            "linecolor": "white",
            "showbackground": true,
            "ticks": "",
            "zerolinecolor": "white"
           }
          },
          "shapedefaults": {
           "line": {
            "color": "#2a3f5f"
           }
          },
          "ternary": {
           "aaxis": {
            "gridcolor": "white",
            "linecolor": "white",
            "ticks": ""
           },
           "baxis": {
            "gridcolor": "white",
            "linecolor": "white",
            "ticks": ""
           },
           "bgcolor": "#E5ECF6",
           "caxis": {
            "gridcolor": "white",
            "linecolor": "white",
            "ticks": ""
           }
          },
          "title": {
           "x": 0.05
          },
          "xaxis": {
           "automargin": true,
           "gridcolor": "white",
           "linecolor": "white",
           "ticks": "",
           "title": {
            "standoff": 15
           },
           "zerolinecolor": "white",
           "zerolinewidth": 2
          },
          "yaxis": {
           "automargin": true,
           "gridcolor": "white",
           "linecolor": "white",
           "ticks": "",
           "title": {
            "standoff": 15
           },
           "zerolinecolor": "white",
           "zerolinewidth": 2
          }
         }
        },
        "title": {
         "text": "Deaths by Hour of Day"
        },
        "xaxis": {
         "title": {
          "text": "Hour of Day"
         }
        },
        "yaxis": {
         "range": [
          0,
          16
         ],
         "title": {
          "text": "% of Deaths"
         }
        }
       }
      },
      "text/html": [
       "<div>                            <div id=\"aa756aaf-7790-4860-aec7-f56e98cd315a\" class=\"plotly-graph-div\" style=\"height:525px; width:100%;\"></div>            <script type=\"text/javascript\">                require([\"plotly\"], function(Plotly) {                    window.PLOTLYENV=window.PLOTLYENV || {};                                    if (document.getElementById(\"aa756aaf-7790-4860-aec7-f56e98cd315a\")) {                    Plotly.newPlot(                        \"aa756aaf-7790-4860-aec7-f56e98cd315a\",                        [{\"mode\":\"lines+markers\",\"name\":\"Shipman\",\"x\":[0,1,2,3,4,5,6,7,8,9,10,11,12,13,14,15,16,17,18,19,20,21,22,23],\"y\":[2.6,1.0,2.6,3.0,0.3,1.2,2.9,1.8,3.6,2.6,4.6,5.8,2.0,9.0,14.1,13.0,9.0,5.8,3.8,2.9,3.6,0.8,3.6,2.0],\"type\":\"scatter\"},{\"line\":{\"dash\":\"dash\"},\"mode\":\"lines\",\"name\":\"Comparison GPs\",\"x\":[0,1,2,3,4,5,6,7,8,9,10,11,12,13,14,15,16,17,18,19,20,21,22,23],\"y\":[1.1,3.0,3.1,3.8,4.0,4.3,4.2,4.1,3.4,5.6,5.5,5.8,4.0,3.8,2.0,3.4,6.6,5.2,3.3,5.0,4.1,3.8,2.9,4.1],\"type\":\"scatter\"}],                        {\"title\":{\"text\":\"Deaths by Hour of Day\"},\"xaxis\":{\"title\":{\"text\":\"Hour of Day\"}},\"yaxis\":{\"range\":[0,16],\"title\":{\"text\":\"% of Deaths\"}},\"template\":{\"data\":{\"histogram2dcontour\":[{\"type\":\"histogram2dcontour\",\"colorbar\":{\"outlinewidth\":0,\"ticks\":\"\"},\"colorscale\":[[0.0,\"#0d0887\"],[0.1111111111111111,\"#46039f\"],[0.2222222222222222,\"#7201a8\"],[0.3333333333333333,\"#9c179e\"],[0.4444444444444444,\"#bd3786\"],[0.5555555555555556,\"#d8576b\"],[0.6666666666666666,\"#ed7953\"],[0.7777777777777778,\"#fb9f3a\"],[0.8888888888888888,\"#fdca26\"],[1.0,\"#f0f921\"]]}],\"choropleth\":[{\"type\":\"choropleth\",\"colorbar\":{\"outlinewidth\":0,\"ticks\":\"\"}}],\"histogram2d\":[{\"type\":\"histogram2d\",\"colorbar\":{\"outlinewidth\":0,\"ticks\":\"\"},\"colorscale\":[[0.0,\"#0d0887\"],[0.1111111111111111,\"#46039f\"],[0.2222222222222222,\"#7201a8\"],[0.3333333333333333,\"#9c179e\"],[0.4444444444444444,\"#bd3786\"],[0.5555555555555556,\"#d8576b\"],[0.6666666666666666,\"#ed7953\"],[0.7777777777777778,\"#fb9f3a\"],[0.8888888888888888,\"#fdca26\"],[1.0,\"#f0f921\"]]}],\"heatmap\":[{\"type\":\"heatmap\",\"colorbar\":{\"outlinewidth\":0,\"ticks\":\"\"},\"colorscale\":[[0.0,\"#0d0887\"],[0.1111111111111111,\"#46039f\"],[0.2222222222222222,\"#7201a8\"],[0.3333333333333333,\"#9c179e\"],[0.4444444444444444,\"#bd3786\"],[0.5555555555555556,\"#d8576b\"],[0.6666666666666666,\"#ed7953\"],[0.7777777777777778,\"#fb9f3a\"],[0.8888888888888888,\"#fdca26\"],[1.0,\"#f0f921\"]]}],\"heatmapgl\":[{\"type\":\"heatmapgl\",\"colorbar\":{\"outlinewidth\":0,\"ticks\":\"\"},\"colorscale\":[[0.0,\"#0d0887\"],[0.1111111111111111,\"#46039f\"],[0.2222222222222222,\"#7201a8\"],[0.3333333333333333,\"#9c179e\"],[0.4444444444444444,\"#bd3786\"],[0.5555555555555556,\"#d8576b\"],[0.6666666666666666,\"#ed7953\"],[0.7777777777777778,\"#fb9f3a\"],[0.8888888888888888,\"#fdca26\"],[1.0,\"#f0f921\"]]}],\"contourcarpet\":[{\"type\":\"contourcarpet\",\"colorbar\":{\"outlinewidth\":0,\"ticks\":\"\"}}],\"contour\":[{\"type\":\"contour\",\"colorbar\":{\"outlinewidth\":0,\"ticks\":\"\"},\"colorscale\":[[0.0,\"#0d0887\"],[0.1111111111111111,\"#46039f\"],[0.2222222222222222,\"#7201a8\"],[0.3333333333333333,\"#9c179e\"],[0.4444444444444444,\"#bd3786\"],[0.5555555555555556,\"#d8576b\"],[0.6666666666666666,\"#ed7953\"],[0.7777777777777778,\"#fb9f3a\"],[0.8888888888888888,\"#fdca26\"],[1.0,\"#f0f921\"]]}],\"surface\":[{\"type\":\"surface\",\"colorbar\":{\"outlinewidth\":0,\"ticks\":\"\"},\"colorscale\":[[0.0,\"#0d0887\"],[0.1111111111111111,\"#46039f\"],[0.2222222222222222,\"#7201a8\"],[0.3333333333333333,\"#9c179e\"],[0.4444444444444444,\"#bd3786\"],[0.5555555555555556,\"#d8576b\"],[0.6666666666666666,\"#ed7953\"],[0.7777777777777778,\"#fb9f3a\"],[0.8888888888888888,\"#fdca26\"],[1.0,\"#f0f921\"]]}],\"mesh3d\":[{\"type\":\"mesh3d\",\"colorbar\":{\"outlinewidth\":0,\"ticks\":\"\"}}],\"scatter\":[{\"fillpattern\":{\"fillmode\":\"overlay\",\"size\":10,\"solidity\":0.2},\"type\":\"scatter\"}],\"parcoords\":[{\"type\":\"parcoords\",\"line\":{\"colorbar\":{\"outlinewidth\":0,\"ticks\":\"\"}}}],\"scatterpolargl\":[{\"type\":\"scatterpolargl\",\"marker\":{\"colorbar\":{\"outlinewidth\":0,\"ticks\":\"\"}}}],\"bar\":[{\"error_x\":{\"color\":\"#2a3f5f\"},\"error_y\":{\"color\":\"#2a3f5f\"},\"marker\":{\"line\":{\"color\":\"#E5ECF6\",\"width\":0.5},\"pattern\":{\"fillmode\":\"overlay\",\"size\":10,\"solidity\":0.2}},\"type\":\"bar\"}],\"scattergeo\":[{\"type\":\"scattergeo\",\"marker\":{\"colorbar\":{\"outlinewidth\":0,\"ticks\":\"\"}}}],\"scatterpolar\":[{\"type\":\"scatterpolar\",\"marker\":{\"colorbar\":{\"outlinewidth\":0,\"ticks\":\"\"}}}],\"histogram\":[{\"marker\":{\"pattern\":{\"fillmode\":\"overlay\",\"size\":10,\"solidity\":0.2}},\"type\":\"histogram\"}],\"scattergl\":[{\"type\":\"scattergl\",\"marker\":{\"colorbar\":{\"outlinewidth\":0,\"ticks\":\"\"}}}],\"scatter3d\":[{\"type\":\"scatter3d\",\"line\":{\"colorbar\":{\"outlinewidth\":0,\"ticks\":\"\"}},\"marker\":{\"colorbar\":{\"outlinewidth\":0,\"ticks\":\"\"}}}],\"scattermapbox\":[{\"type\":\"scattermapbox\",\"marker\":{\"colorbar\":{\"outlinewidth\":0,\"ticks\":\"\"}}}],\"scatterternary\":[{\"type\":\"scatterternary\",\"marker\":{\"colorbar\":{\"outlinewidth\":0,\"ticks\":\"\"}}}],\"scattercarpet\":[{\"type\":\"scattercarpet\",\"marker\":{\"colorbar\":{\"outlinewidth\":0,\"ticks\":\"\"}}}],\"carpet\":[{\"aaxis\":{\"endlinecolor\":\"#2a3f5f\",\"gridcolor\":\"white\",\"linecolor\":\"white\",\"minorgridcolor\":\"white\",\"startlinecolor\":\"#2a3f5f\"},\"baxis\":{\"endlinecolor\":\"#2a3f5f\",\"gridcolor\":\"white\",\"linecolor\":\"white\",\"minorgridcolor\":\"white\",\"startlinecolor\":\"#2a3f5f\"},\"type\":\"carpet\"}],\"table\":[{\"cells\":{\"fill\":{\"color\":\"#EBF0F8\"},\"line\":{\"color\":\"white\"}},\"header\":{\"fill\":{\"color\":\"#C8D4E3\"},\"line\":{\"color\":\"white\"}},\"type\":\"table\"}],\"barpolar\":[{\"marker\":{\"line\":{\"color\":\"#E5ECF6\",\"width\":0.5},\"pattern\":{\"fillmode\":\"overlay\",\"size\":10,\"solidity\":0.2}},\"type\":\"barpolar\"}],\"pie\":[{\"automargin\":true,\"type\":\"pie\"}]},\"layout\":{\"autotypenumbers\":\"strict\",\"colorway\":[\"#636efa\",\"#EF553B\",\"#00cc96\",\"#ab63fa\",\"#FFA15A\",\"#19d3f3\",\"#FF6692\",\"#B6E880\",\"#FF97FF\",\"#FECB52\"],\"font\":{\"color\":\"#2a3f5f\"},\"hovermode\":\"closest\",\"hoverlabel\":{\"align\":\"left\"},\"paper_bgcolor\":\"white\",\"plot_bgcolor\":\"#E5ECF6\",\"polar\":{\"bgcolor\":\"#E5ECF6\",\"angularaxis\":{\"gridcolor\":\"white\",\"linecolor\":\"white\",\"ticks\":\"\"},\"radialaxis\":{\"gridcolor\":\"white\",\"linecolor\":\"white\",\"ticks\":\"\"}},\"ternary\":{\"bgcolor\":\"#E5ECF6\",\"aaxis\":{\"gridcolor\":\"white\",\"linecolor\":\"white\",\"ticks\":\"\"},\"baxis\":{\"gridcolor\":\"white\",\"linecolor\":\"white\",\"ticks\":\"\"},\"caxis\":{\"gridcolor\":\"white\",\"linecolor\":\"white\",\"ticks\":\"\"}},\"coloraxis\":{\"colorbar\":{\"outlinewidth\":0,\"ticks\":\"\"}},\"colorscale\":{\"sequential\":[[0.0,\"#0d0887\"],[0.1111111111111111,\"#46039f\"],[0.2222222222222222,\"#7201a8\"],[0.3333333333333333,\"#9c179e\"],[0.4444444444444444,\"#bd3786\"],[0.5555555555555556,\"#d8576b\"],[0.6666666666666666,\"#ed7953\"],[0.7777777777777778,\"#fb9f3a\"],[0.8888888888888888,\"#fdca26\"],[1.0,\"#f0f921\"]],\"sequentialminus\":[[0.0,\"#0d0887\"],[0.1111111111111111,\"#46039f\"],[0.2222222222222222,\"#7201a8\"],[0.3333333333333333,\"#9c179e\"],[0.4444444444444444,\"#bd3786\"],[0.5555555555555556,\"#d8576b\"],[0.6666666666666666,\"#ed7953\"],[0.7777777777777778,\"#fb9f3a\"],[0.8888888888888888,\"#fdca26\"],[1.0,\"#f0f921\"]],\"diverging\":[[0,\"#8e0152\"],[0.1,\"#c51b7d\"],[0.2,\"#de77ae\"],[0.3,\"#f1b6da\"],[0.4,\"#fde0ef\"],[0.5,\"#f7f7f7\"],[0.6,\"#e6f5d0\"],[0.7,\"#b8e186\"],[0.8,\"#7fbc41\"],[0.9,\"#4d9221\"],[1,\"#276419\"]]},\"xaxis\":{\"gridcolor\":\"white\",\"linecolor\":\"white\",\"ticks\":\"\",\"title\":{\"standoff\":15},\"zerolinecolor\":\"white\",\"automargin\":true,\"zerolinewidth\":2},\"yaxis\":{\"gridcolor\":\"white\",\"linecolor\":\"white\",\"ticks\":\"\",\"title\":{\"standoff\":15},\"zerolinecolor\":\"white\",\"automargin\":true,\"zerolinewidth\":2},\"scene\":{\"xaxis\":{\"backgroundcolor\":\"#E5ECF6\",\"gridcolor\":\"white\",\"linecolor\":\"white\",\"showbackground\":true,\"ticks\":\"\",\"zerolinecolor\":\"white\",\"gridwidth\":2},\"yaxis\":{\"backgroundcolor\":\"#E5ECF6\",\"gridcolor\":\"white\",\"linecolor\":\"white\",\"showbackground\":true,\"ticks\":\"\",\"zerolinecolor\":\"white\",\"gridwidth\":2},\"zaxis\":{\"backgroundcolor\":\"#E5ECF6\",\"gridcolor\":\"white\",\"linecolor\":\"white\",\"showbackground\":true,\"ticks\":\"\",\"zerolinecolor\":\"white\",\"gridwidth\":2}},\"shapedefaults\":{\"line\":{\"color\":\"#2a3f5f\"}},\"annotationdefaults\":{\"arrowcolor\":\"#2a3f5f\",\"arrowhead\":0,\"arrowwidth\":1},\"geo\":{\"bgcolor\":\"white\",\"landcolor\":\"#E5ECF6\",\"subunitcolor\":\"white\",\"showland\":true,\"showlakes\":true,\"lakecolor\":\"white\"},\"title\":{\"x\":0.05},\"mapbox\":{\"style\":\"light\"}}},\"legend\":{\"font\":{\"size\":16},\"orientation\":\"h\",\"yanchor\":\"bottom\",\"y\":1.02,\"xanchor\":\"right\",\"x\":1},\"annotations\":[{\"font\":{\"color\":\"blue\",\"size\":14},\"showarrow\":false,\"text\":\"Shipman\",\"x\":12,\"y\":14},{\"font\":{\"color\":\"red\",\"size\":14},\"showarrow\":false,\"text\":\"Comparison GPs\",\"x\":4,\"y\":7}]},                        {\"responsive\": true}                    ).then(function(){\n",
       "                            \n",
       "var gd = document.getElementById('aa756aaf-7790-4860-aec7-f56e98cd315a');\n",
       "var x = new MutationObserver(function (mutations, observer) {{\n",
       "        var display = window.getComputedStyle(gd).display;\n",
       "        if (!display || display === 'none') {{\n",
       "            console.log([gd, 'removed!']);\n",
       "            Plotly.purge(gd);\n",
       "            observer.disconnect();\n",
       "        }}\n",
       "}});\n",
       "\n",
       "// Listen for the removal of the full notebook cells\n",
       "var notebookContainer = gd.closest('#notebook-container');\n",
       "if (notebookContainer) {{\n",
       "    x.observe(notebookContainer, {childList: true});\n",
       "}}\n",
       "\n",
       "// Listen for the clearing of the current output cell\n",
       "var outputEl = gd.closest('.output');\n",
       "if (outputEl) {{\n",
       "    x.observe(outputEl, {childList: true});\n",
       "}}\n",
       "\n",
       "                        })                };                });            </script>        </div>"
      ]
     },
     "metadata": {},
     "output_type": "display_data"
    },
    {
     "data": {
      "text/plain": [
       "'Linechart.html'"
      ]
     },
     "execution_count": 227,
     "metadata": {},
     "output_type": "execute_result"
    }
   ],
   "source": [
    "\n",
    "# create the plot using Plotly:\n",
    "\n",
    "shipman_trace = go.Scatter(x=shipman_times[\"Hour\"], y=shipman_times[\"Shipman\"], mode=\"lines+markers\", name=\"Shipman\")\n",
    "comp_trace = go.Scatter(x=shipman_times[\"Hour\"], y=shipman_times[\"Comparison\"], mode=\"lines\", name=\"Comparison GPs\", line=dict(dash=\"dash\"))\n",
    "\n",
    "layout = go.Layout(title=\"Deaths by Hour of Day\",\n",
    "                   xaxis=dict(title=\"Hour of Day\"),\n",
    "                   yaxis=dict(title=\"% of Deaths\", range=[0, 16]))\n",
    "\n",
    "fig = go.Figure(data=[shipman_trace, comp_trace], layout=layout)\n",
    "\n",
    "# update the legend font size and color\n",
    "fig.update_layout(legend=dict(font=dict(size=16), orientation=\"h\", yanchor=\"bottom\", y=1.02, xanchor=\"right\", x=1))\n",
    "\n",
    "# add annotations\n",
    "fig.add_annotation(x=12, y=14, text=\"Shipman\", font=dict(size=14, color=\"blue\"), showarrow=False)\n",
    "fig.add_annotation(x=4, y=7, text=\"Comparison GPs\", font=dict(size=14, color=\"red\"), showarrow=False)\n",
    "\n",
    "fig.show()\n",
    "pyo.plot(fig, filename='Linechart.html')"
   ]
  },
  {
   "cell_type": "markdown",
   "id": "8c6d864e",
   "metadata": {},
   "source": [
    "Most of the patients of Harold dies in the afternoon."
   ]
  },
  {
   "cell_type": "markdown",
   "id": "b35ca713",
   "metadata": {},
   "source": [
    "#### Boxplots:"
   ]
  },
  {
   "cell_type": "code",
   "execution_count": 229,
   "id": "8145b237",
   "metadata": {},
   "outputs": [
    {
     "data": {
      "application/vnd.plotly.v1+json": {
       "config": {
        "plotlyServerURL": "https://plot.ly"
       },
       "data": [
        {
         "name": "Comparion GPs",
         "type": "box",
         "y": [
          1.1,
          3,
          3.1,
          3.8,
          4,
          4.3,
          4.2,
          4.1,
          3.4,
          5.6,
          5.5,
          5.8,
          4,
          3.8,
          2,
          3.4,
          6.6,
          5.2,
          3.3,
          5,
          4.1,
          3.8,
          2.9,
          4.1
         ]
        },
        {
         "name": "Harold Shipman",
         "type": "box",
         "y": [
          2.6,
          1,
          2.6,
          3,
          0.3,
          1.2,
          2.9,
          1.8,
          3.6,
          2.6,
          4.6,
          5.8,
          2,
          9,
          14.1,
          13,
          9,
          5.8,
          3.8,
          2.9,
          3.6,
          0.8,
          3.6,
          2
         ]
        }
       ],
       "layout": {
        "template": {
         "data": {
          "bar": [
           {
            "error_x": {
             "color": "#2a3f5f"
            },
            "error_y": {
             "color": "#2a3f5f"
            },
            "marker": {
             "line": {
              "color": "#E5ECF6",
              "width": 0.5
             },
             "pattern": {
              "fillmode": "overlay",
              "size": 10,
              "solidity": 0.2
             }
            },
            "type": "bar"
           }
          ],
          "barpolar": [
           {
            "marker": {
             "line": {
              "color": "#E5ECF6",
              "width": 0.5
             },
             "pattern": {
              "fillmode": "overlay",
              "size": 10,
              "solidity": 0.2
             }
            },
            "type": "barpolar"
           }
          ],
          "carpet": [
           {
            "aaxis": {
             "endlinecolor": "#2a3f5f",
             "gridcolor": "white",
             "linecolor": "white",
             "minorgridcolor": "white",
             "startlinecolor": "#2a3f5f"
            },
            "baxis": {
             "endlinecolor": "#2a3f5f",
             "gridcolor": "white",
             "linecolor": "white",
             "minorgridcolor": "white",
             "startlinecolor": "#2a3f5f"
            },
            "type": "carpet"
           }
          ],
          "choropleth": [
           {
            "colorbar": {
             "outlinewidth": 0,
             "ticks": ""
            },
            "type": "choropleth"
           }
          ],
          "contour": [
           {
            "colorbar": {
             "outlinewidth": 0,
             "ticks": ""
            },
            "colorscale": [
             [
              0,
              "#0d0887"
             ],
             [
              0.1111111111111111,
              "#46039f"
             ],
             [
              0.2222222222222222,
              "#7201a8"
             ],
             [
              0.3333333333333333,
              "#9c179e"
             ],
             [
              0.4444444444444444,
              "#bd3786"
             ],
             [
              0.5555555555555556,
              "#d8576b"
             ],
             [
              0.6666666666666666,
              "#ed7953"
             ],
             [
              0.7777777777777778,
              "#fb9f3a"
             ],
             [
              0.8888888888888888,
              "#fdca26"
             ],
             [
              1,
              "#f0f921"
             ]
            ],
            "type": "contour"
           }
          ],
          "contourcarpet": [
           {
            "colorbar": {
             "outlinewidth": 0,
             "ticks": ""
            },
            "type": "contourcarpet"
           }
          ],
          "heatmap": [
           {
            "colorbar": {
             "outlinewidth": 0,
             "ticks": ""
            },
            "colorscale": [
             [
              0,
              "#0d0887"
             ],
             [
              0.1111111111111111,
              "#46039f"
             ],
             [
              0.2222222222222222,
              "#7201a8"
             ],
             [
              0.3333333333333333,
              "#9c179e"
             ],
             [
              0.4444444444444444,
              "#bd3786"
             ],
             [
              0.5555555555555556,
              "#d8576b"
             ],
             [
              0.6666666666666666,
              "#ed7953"
             ],
             [
              0.7777777777777778,
              "#fb9f3a"
             ],
             [
              0.8888888888888888,
              "#fdca26"
             ],
             [
              1,
              "#f0f921"
             ]
            ],
            "type": "heatmap"
           }
          ],
          "heatmapgl": [
           {
            "colorbar": {
             "outlinewidth": 0,
             "ticks": ""
            },
            "colorscale": [
             [
              0,
              "#0d0887"
             ],
             [
              0.1111111111111111,
              "#46039f"
             ],
             [
              0.2222222222222222,
              "#7201a8"
             ],
             [
              0.3333333333333333,
              "#9c179e"
             ],
             [
              0.4444444444444444,
              "#bd3786"
             ],
             [
              0.5555555555555556,
              "#d8576b"
             ],
             [
              0.6666666666666666,
              "#ed7953"
             ],
             [
              0.7777777777777778,
              "#fb9f3a"
             ],
             [
              0.8888888888888888,
              "#fdca26"
             ],
             [
              1,
              "#f0f921"
             ]
            ],
            "type": "heatmapgl"
           }
          ],
          "histogram": [
           {
            "marker": {
             "pattern": {
              "fillmode": "overlay",
              "size": 10,
              "solidity": 0.2
             }
            },
            "type": "histogram"
           }
          ],
          "histogram2d": [
           {
            "colorbar": {
             "outlinewidth": 0,
             "ticks": ""
            },
            "colorscale": [
             [
              0,
              "#0d0887"
             ],
             [
              0.1111111111111111,
              "#46039f"
             ],
             [
              0.2222222222222222,
              "#7201a8"
             ],
             [
              0.3333333333333333,
              "#9c179e"
             ],
             [
              0.4444444444444444,
              "#bd3786"
             ],
             [
              0.5555555555555556,
              "#d8576b"
             ],
             [
              0.6666666666666666,
              "#ed7953"
             ],
             [
              0.7777777777777778,
              "#fb9f3a"
             ],
             [
              0.8888888888888888,
              "#fdca26"
             ],
             [
              1,
              "#f0f921"
             ]
            ],
            "type": "histogram2d"
           }
          ],
          "histogram2dcontour": [
           {
            "colorbar": {
             "outlinewidth": 0,
             "ticks": ""
            },
            "colorscale": [
             [
              0,
              "#0d0887"
             ],
             [
              0.1111111111111111,
              "#46039f"
             ],
             [
              0.2222222222222222,
              "#7201a8"
             ],
             [
              0.3333333333333333,
              "#9c179e"
             ],
             [
              0.4444444444444444,
              "#bd3786"
             ],
             [
              0.5555555555555556,
              "#d8576b"
             ],
             [
              0.6666666666666666,
              "#ed7953"
             ],
             [
              0.7777777777777778,
              "#fb9f3a"
             ],
             [
              0.8888888888888888,
              "#fdca26"
             ],
             [
              1,
              "#f0f921"
             ]
            ],
            "type": "histogram2dcontour"
           }
          ],
          "mesh3d": [
           {
            "colorbar": {
             "outlinewidth": 0,
             "ticks": ""
            },
            "type": "mesh3d"
           }
          ],
          "parcoords": [
           {
            "line": {
             "colorbar": {
              "outlinewidth": 0,
              "ticks": ""
             }
            },
            "type": "parcoords"
           }
          ],
          "pie": [
           {
            "automargin": true,
            "type": "pie"
           }
          ],
          "scatter": [
           {
            "fillpattern": {
             "fillmode": "overlay",
             "size": 10,
             "solidity": 0.2
            },
            "type": "scatter"
           }
          ],
          "scatter3d": [
           {
            "line": {
             "colorbar": {
              "outlinewidth": 0,
              "ticks": ""
             }
            },
            "marker": {
             "colorbar": {
              "outlinewidth": 0,
              "ticks": ""
             }
            },
            "type": "scatter3d"
           }
          ],
          "scattercarpet": [
           {
            "marker": {
             "colorbar": {
              "outlinewidth": 0,
              "ticks": ""
             }
            },
            "type": "scattercarpet"
           }
          ],
          "scattergeo": [
           {
            "marker": {
             "colorbar": {
              "outlinewidth": 0,
              "ticks": ""
             }
            },
            "type": "scattergeo"
           }
          ],
          "scattergl": [
           {
            "marker": {
             "colorbar": {
              "outlinewidth": 0,
              "ticks": ""
             }
            },
            "type": "scattergl"
           }
          ],
          "scattermapbox": [
           {
            "marker": {
             "colorbar": {
              "outlinewidth": 0,
              "ticks": ""
             }
            },
            "type": "scattermapbox"
           }
          ],
          "scatterpolar": [
           {
            "marker": {
             "colorbar": {
              "outlinewidth": 0,
              "ticks": ""
             }
            },
            "type": "scatterpolar"
           }
          ],
          "scatterpolargl": [
           {
            "marker": {
             "colorbar": {
              "outlinewidth": 0,
              "ticks": ""
             }
            },
            "type": "scatterpolargl"
           }
          ],
          "scatterternary": [
           {
            "marker": {
             "colorbar": {
              "outlinewidth": 0,
              "ticks": ""
             }
            },
            "type": "scatterternary"
           }
          ],
          "surface": [
           {
            "colorbar": {
             "outlinewidth": 0,
             "ticks": ""
            },
            "colorscale": [
             [
              0,
              "#0d0887"
             ],
             [
              0.1111111111111111,
              "#46039f"
             ],
             [
              0.2222222222222222,
              "#7201a8"
             ],
             [
              0.3333333333333333,
              "#9c179e"
             ],
             [
              0.4444444444444444,
              "#bd3786"
             ],
             [
              0.5555555555555556,
              "#d8576b"
             ],
             [
              0.6666666666666666,
              "#ed7953"
             ],
             [
              0.7777777777777778,
              "#fb9f3a"
             ],
             [
              0.8888888888888888,
              "#fdca26"
             ],
             [
              1,
              "#f0f921"
             ]
            ],
            "type": "surface"
           }
          ],
          "table": [
           {
            "cells": {
             "fill": {
              "color": "#EBF0F8"
             },
             "line": {
              "color": "white"
             }
            },
            "header": {
             "fill": {
              "color": "#C8D4E3"
             },
             "line": {
              "color": "white"
             }
            },
            "type": "table"
           }
          ]
         },
         "layout": {
          "annotationdefaults": {
           "arrowcolor": "#2a3f5f",
           "arrowhead": 0,
           "arrowwidth": 1
          },
          "autotypenumbers": "strict",
          "coloraxis": {
           "colorbar": {
            "outlinewidth": 0,
            "ticks": ""
           }
          },
          "colorscale": {
           "diverging": [
            [
             0,
             "#8e0152"
            ],
            [
             0.1,
             "#c51b7d"
            ],
            [
             0.2,
             "#de77ae"
            ],
            [
             0.3,
             "#f1b6da"
            ],
            [
             0.4,
             "#fde0ef"
            ],
            [
             0.5,
             "#f7f7f7"
            ],
            [
             0.6,
             "#e6f5d0"
            ],
            [
             0.7,
             "#b8e186"
            ],
            [
             0.8,
             "#7fbc41"
            ],
            [
             0.9,
             "#4d9221"
            ],
            [
             1,
             "#276419"
            ]
           ],
           "sequential": [
            [
             0,
             "#0d0887"
            ],
            [
             0.1111111111111111,
             "#46039f"
            ],
            [
             0.2222222222222222,
             "#7201a8"
            ],
            [
             0.3333333333333333,
             "#9c179e"
            ],
            [
             0.4444444444444444,
             "#bd3786"
            ],
            [
             0.5555555555555556,
             "#d8576b"
            ],
            [
             0.6666666666666666,
             "#ed7953"
            ],
            [
             0.7777777777777778,
             "#fb9f3a"
            ],
            [
             0.8888888888888888,
             "#fdca26"
            ],
            [
             1,
             "#f0f921"
            ]
           ],
           "sequentialminus": [
            [
             0,
             "#0d0887"
            ],
            [
             0.1111111111111111,
             "#46039f"
            ],
            [
             0.2222222222222222,
             "#7201a8"
            ],
            [
             0.3333333333333333,
             "#9c179e"
            ],
            [
             0.4444444444444444,
             "#bd3786"
            ],
            [
             0.5555555555555556,
             "#d8576b"
            ],
            [
             0.6666666666666666,
             "#ed7953"
            ],
            [
             0.7777777777777778,
             "#fb9f3a"
            ],
            [
             0.8888888888888888,
             "#fdca26"
            ],
            [
             1,
             "#f0f921"
            ]
           ]
          },
          "colorway": [
           "#636efa",
           "#EF553B",
           "#00cc96",
           "#ab63fa",
           "#FFA15A",
           "#19d3f3",
           "#FF6692",
           "#B6E880",
           "#FF97FF",
           "#FECB52"
          ],
          "font": {
           "color": "#2a3f5f"
          },
          "geo": {
           "bgcolor": "white",
           "lakecolor": "white",
           "landcolor": "#E5ECF6",
           "showlakes": true,
           "showland": true,
           "subunitcolor": "white"
          },
          "hoverlabel": {
           "align": "left"
          },
          "hovermode": "closest",
          "mapbox": {
           "style": "light"
          },
          "paper_bgcolor": "white",
          "plot_bgcolor": "#E5ECF6",
          "polar": {
           "angularaxis": {
            "gridcolor": "white",
            "linecolor": "white",
            "ticks": ""
           },
           "bgcolor": "#E5ECF6",
           "radialaxis": {
            "gridcolor": "white",
            "linecolor": "white",
            "ticks": ""
           }
          },
          "scene": {
           "xaxis": {
            "backgroundcolor": "#E5ECF6",
            "gridcolor": "white",
            "gridwidth": 2,
            "linecolor": "white",
            "showbackground": true,
            "ticks": "",
            "zerolinecolor": "white"
           },
           "yaxis": {
            "backgroundcolor": "#E5ECF6",
            "gridcolor": "white",
            "gridwidth": 2,
            "linecolor": "white",
            "showbackground": true,
            "ticks": "",
            "zerolinecolor": "white"
           },
           "zaxis": {
            "backgroundcolor": "#E5ECF6",
            "gridcolor": "white",
            "gridwidth": 2,
            "linecolor": "white",
            "showbackground": true,
            "ticks": "",
            "zerolinecolor": "white"
           }
          },
          "shapedefaults": {
           "line": {
            "color": "#2a3f5f"
           }
          },
          "ternary": {
           "aaxis": {
            "gridcolor": "white",
            "linecolor": "white",
            "ticks": ""
           },
           "baxis": {
            "gridcolor": "white",
            "linecolor": "white",
            "ticks": ""
           },
           "bgcolor": "#E5ECF6",
           "caxis": {
            "gridcolor": "white",
            "linecolor": "white",
            "ticks": ""
           }
          },
          "title": {
           "x": 0.05
          },
          "xaxis": {
           "automargin": true,
           "gridcolor": "white",
           "linecolor": "white",
           "ticks": "",
           "title": {
            "standoff": 15
           },
           "zerolinecolor": "white",
           "zerolinewidth": 2
          },
          "yaxis": {
           "automargin": true,
           "gridcolor": "white",
           "linecolor": "white",
           "ticks": "",
           "title": {
            "standoff": 15
           },
           "zerolinecolor": "white",
           "zerolinewidth": 2
          }
         }
        },
        "title": {
         "text": "Comparison of Harold and other practitioner<br>    patient's death time"
        }
       }
      },
      "text/html": [
       "<div>                            <div id=\"639c7aed-ac85-4672-9edc-9751e641f83f\" class=\"plotly-graph-div\" style=\"height:525px; width:100%;\"></div>            <script type=\"text/javascript\">                require([\"plotly\"], function(Plotly) {                    window.PLOTLYENV=window.PLOTLYENV || {};                                    if (document.getElementById(\"639c7aed-ac85-4672-9edc-9751e641f83f\")) {                    Plotly.newPlot(                        \"639c7aed-ac85-4672-9edc-9751e641f83f\",                        [{\"name\":\"Comparion GPs\",\"y\":[1.1,3.0,3.1,3.8,4.0,4.3,4.2,4.1,3.4,5.6,5.5,5.8,4.0,3.8,2.0,3.4,6.6,5.2,3.3,5.0,4.1,3.8,2.9,4.1],\"type\":\"box\"},{\"name\":\"Harold Shipman\",\"y\":[2.6,1.0,2.6,3.0,0.3,1.2,2.9,1.8,3.6,2.6,4.6,5.8,2.0,9.0,14.1,13.0,9.0,5.8,3.8,2.9,3.6,0.8,3.6,2.0],\"type\":\"box\"}],                        {\"title\":{\"text\":\"Comparison of Harold and other practitioner<br>    patient's death time\"},\"template\":{\"data\":{\"histogram2dcontour\":[{\"type\":\"histogram2dcontour\",\"colorbar\":{\"outlinewidth\":0,\"ticks\":\"\"},\"colorscale\":[[0.0,\"#0d0887\"],[0.1111111111111111,\"#46039f\"],[0.2222222222222222,\"#7201a8\"],[0.3333333333333333,\"#9c179e\"],[0.4444444444444444,\"#bd3786\"],[0.5555555555555556,\"#d8576b\"],[0.6666666666666666,\"#ed7953\"],[0.7777777777777778,\"#fb9f3a\"],[0.8888888888888888,\"#fdca26\"],[1.0,\"#f0f921\"]]}],\"choropleth\":[{\"type\":\"choropleth\",\"colorbar\":{\"outlinewidth\":0,\"ticks\":\"\"}}],\"histogram2d\":[{\"type\":\"histogram2d\",\"colorbar\":{\"outlinewidth\":0,\"ticks\":\"\"},\"colorscale\":[[0.0,\"#0d0887\"],[0.1111111111111111,\"#46039f\"],[0.2222222222222222,\"#7201a8\"],[0.3333333333333333,\"#9c179e\"],[0.4444444444444444,\"#bd3786\"],[0.5555555555555556,\"#d8576b\"],[0.6666666666666666,\"#ed7953\"],[0.7777777777777778,\"#fb9f3a\"],[0.8888888888888888,\"#fdca26\"],[1.0,\"#f0f921\"]]}],\"heatmap\":[{\"type\":\"heatmap\",\"colorbar\":{\"outlinewidth\":0,\"ticks\":\"\"},\"colorscale\":[[0.0,\"#0d0887\"],[0.1111111111111111,\"#46039f\"],[0.2222222222222222,\"#7201a8\"],[0.3333333333333333,\"#9c179e\"],[0.4444444444444444,\"#bd3786\"],[0.5555555555555556,\"#d8576b\"],[0.6666666666666666,\"#ed7953\"],[0.7777777777777778,\"#fb9f3a\"],[0.8888888888888888,\"#fdca26\"],[1.0,\"#f0f921\"]]}],\"heatmapgl\":[{\"type\":\"heatmapgl\",\"colorbar\":{\"outlinewidth\":0,\"ticks\":\"\"},\"colorscale\":[[0.0,\"#0d0887\"],[0.1111111111111111,\"#46039f\"],[0.2222222222222222,\"#7201a8\"],[0.3333333333333333,\"#9c179e\"],[0.4444444444444444,\"#bd3786\"],[0.5555555555555556,\"#d8576b\"],[0.6666666666666666,\"#ed7953\"],[0.7777777777777778,\"#fb9f3a\"],[0.8888888888888888,\"#fdca26\"],[1.0,\"#f0f921\"]]}],\"contourcarpet\":[{\"type\":\"contourcarpet\",\"colorbar\":{\"outlinewidth\":0,\"ticks\":\"\"}}],\"contour\":[{\"type\":\"contour\",\"colorbar\":{\"outlinewidth\":0,\"ticks\":\"\"},\"colorscale\":[[0.0,\"#0d0887\"],[0.1111111111111111,\"#46039f\"],[0.2222222222222222,\"#7201a8\"],[0.3333333333333333,\"#9c179e\"],[0.4444444444444444,\"#bd3786\"],[0.5555555555555556,\"#d8576b\"],[0.6666666666666666,\"#ed7953\"],[0.7777777777777778,\"#fb9f3a\"],[0.8888888888888888,\"#fdca26\"],[1.0,\"#f0f921\"]]}],\"surface\":[{\"type\":\"surface\",\"colorbar\":{\"outlinewidth\":0,\"ticks\":\"\"},\"colorscale\":[[0.0,\"#0d0887\"],[0.1111111111111111,\"#46039f\"],[0.2222222222222222,\"#7201a8\"],[0.3333333333333333,\"#9c179e\"],[0.4444444444444444,\"#bd3786\"],[0.5555555555555556,\"#d8576b\"],[0.6666666666666666,\"#ed7953\"],[0.7777777777777778,\"#fb9f3a\"],[0.8888888888888888,\"#fdca26\"],[1.0,\"#f0f921\"]]}],\"mesh3d\":[{\"type\":\"mesh3d\",\"colorbar\":{\"outlinewidth\":0,\"ticks\":\"\"}}],\"scatter\":[{\"fillpattern\":{\"fillmode\":\"overlay\",\"size\":10,\"solidity\":0.2},\"type\":\"scatter\"}],\"parcoords\":[{\"type\":\"parcoords\",\"line\":{\"colorbar\":{\"outlinewidth\":0,\"ticks\":\"\"}}}],\"scatterpolargl\":[{\"type\":\"scatterpolargl\",\"marker\":{\"colorbar\":{\"outlinewidth\":0,\"ticks\":\"\"}}}],\"bar\":[{\"error_x\":{\"color\":\"#2a3f5f\"},\"error_y\":{\"color\":\"#2a3f5f\"},\"marker\":{\"line\":{\"color\":\"#E5ECF6\",\"width\":0.5},\"pattern\":{\"fillmode\":\"overlay\",\"size\":10,\"solidity\":0.2}},\"type\":\"bar\"}],\"scattergeo\":[{\"type\":\"scattergeo\",\"marker\":{\"colorbar\":{\"outlinewidth\":0,\"ticks\":\"\"}}}],\"scatterpolar\":[{\"type\":\"scatterpolar\",\"marker\":{\"colorbar\":{\"outlinewidth\":0,\"ticks\":\"\"}}}],\"histogram\":[{\"marker\":{\"pattern\":{\"fillmode\":\"overlay\",\"size\":10,\"solidity\":0.2}},\"type\":\"histogram\"}],\"scattergl\":[{\"type\":\"scattergl\",\"marker\":{\"colorbar\":{\"outlinewidth\":0,\"ticks\":\"\"}}}],\"scatter3d\":[{\"type\":\"scatter3d\",\"line\":{\"colorbar\":{\"outlinewidth\":0,\"ticks\":\"\"}},\"marker\":{\"colorbar\":{\"outlinewidth\":0,\"ticks\":\"\"}}}],\"scattermapbox\":[{\"type\":\"scattermapbox\",\"marker\":{\"colorbar\":{\"outlinewidth\":0,\"ticks\":\"\"}}}],\"scatterternary\":[{\"type\":\"scatterternary\",\"marker\":{\"colorbar\":{\"outlinewidth\":0,\"ticks\":\"\"}}}],\"scattercarpet\":[{\"type\":\"scattercarpet\",\"marker\":{\"colorbar\":{\"outlinewidth\":0,\"ticks\":\"\"}}}],\"carpet\":[{\"aaxis\":{\"endlinecolor\":\"#2a3f5f\",\"gridcolor\":\"white\",\"linecolor\":\"white\",\"minorgridcolor\":\"white\",\"startlinecolor\":\"#2a3f5f\"},\"baxis\":{\"endlinecolor\":\"#2a3f5f\",\"gridcolor\":\"white\",\"linecolor\":\"white\",\"minorgridcolor\":\"white\",\"startlinecolor\":\"#2a3f5f\"},\"type\":\"carpet\"}],\"table\":[{\"cells\":{\"fill\":{\"color\":\"#EBF0F8\"},\"line\":{\"color\":\"white\"}},\"header\":{\"fill\":{\"color\":\"#C8D4E3\"},\"line\":{\"color\":\"white\"}},\"type\":\"table\"}],\"barpolar\":[{\"marker\":{\"line\":{\"color\":\"#E5ECF6\",\"width\":0.5},\"pattern\":{\"fillmode\":\"overlay\",\"size\":10,\"solidity\":0.2}},\"type\":\"barpolar\"}],\"pie\":[{\"automargin\":true,\"type\":\"pie\"}]},\"layout\":{\"autotypenumbers\":\"strict\",\"colorway\":[\"#636efa\",\"#EF553B\",\"#00cc96\",\"#ab63fa\",\"#FFA15A\",\"#19d3f3\",\"#FF6692\",\"#B6E880\",\"#FF97FF\",\"#FECB52\"],\"font\":{\"color\":\"#2a3f5f\"},\"hovermode\":\"closest\",\"hoverlabel\":{\"align\":\"left\"},\"paper_bgcolor\":\"white\",\"plot_bgcolor\":\"#E5ECF6\",\"polar\":{\"bgcolor\":\"#E5ECF6\",\"angularaxis\":{\"gridcolor\":\"white\",\"linecolor\":\"white\",\"ticks\":\"\"},\"radialaxis\":{\"gridcolor\":\"white\",\"linecolor\":\"white\",\"ticks\":\"\"}},\"ternary\":{\"bgcolor\":\"#E5ECF6\",\"aaxis\":{\"gridcolor\":\"white\",\"linecolor\":\"white\",\"ticks\":\"\"},\"baxis\":{\"gridcolor\":\"white\",\"linecolor\":\"white\",\"ticks\":\"\"},\"caxis\":{\"gridcolor\":\"white\",\"linecolor\":\"white\",\"ticks\":\"\"}},\"coloraxis\":{\"colorbar\":{\"outlinewidth\":0,\"ticks\":\"\"}},\"colorscale\":{\"sequential\":[[0.0,\"#0d0887\"],[0.1111111111111111,\"#46039f\"],[0.2222222222222222,\"#7201a8\"],[0.3333333333333333,\"#9c179e\"],[0.4444444444444444,\"#bd3786\"],[0.5555555555555556,\"#d8576b\"],[0.6666666666666666,\"#ed7953\"],[0.7777777777777778,\"#fb9f3a\"],[0.8888888888888888,\"#fdca26\"],[1.0,\"#f0f921\"]],\"sequentialminus\":[[0.0,\"#0d0887\"],[0.1111111111111111,\"#46039f\"],[0.2222222222222222,\"#7201a8\"],[0.3333333333333333,\"#9c179e\"],[0.4444444444444444,\"#bd3786\"],[0.5555555555555556,\"#d8576b\"],[0.6666666666666666,\"#ed7953\"],[0.7777777777777778,\"#fb9f3a\"],[0.8888888888888888,\"#fdca26\"],[1.0,\"#f0f921\"]],\"diverging\":[[0,\"#8e0152\"],[0.1,\"#c51b7d\"],[0.2,\"#de77ae\"],[0.3,\"#f1b6da\"],[0.4,\"#fde0ef\"],[0.5,\"#f7f7f7\"],[0.6,\"#e6f5d0\"],[0.7,\"#b8e186\"],[0.8,\"#7fbc41\"],[0.9,\"#4d9221\"],[1,\"#276419\"]]},\"xaxis\":{\"gridcolor\":\"white\",\"linecolor\":\"white\",\"ticks\":\"\",\"title\":{\"standoff\":15},\"zerolinecolor\":\"white\",\"automargin\":true,\"zerolinewidth\":2},\"yaxis\":{\"gridcolor\":\"white\",\"linecolor\":\"white\",\"ticks\":\"\",\"title\":{\"standoff\":15},\"zerolinecolor\":\"white\",\"automargin\":true,\"zerolinewidth\":2},\"scene\":{\"xaxis\":{\"backgroundcolor\":\"#E5ECF6\",\"gridcolor\":\"white\",\"linecolor\":\"white\",\"showbackground\":true,\"ticks\":\"\",\"zerolinecolor\":\"white\",\"gridwidth\":2},\"yaxis\":{\"backgroundcolor\":\"#E5ECF6\",\"gridcolor\":\"white\",\"linecolor\":\"white\",\"showbackground\":true,\"ticks\":\"\",\"zerolinecolor\":\"white\",\"gridwidth\":2},\"zaxis\":{\"backgroundcolor\":\"#E5ECF6\",\"gridcolor\":\"white\",\"linecolor\":\"white\",\"showbackground\":true,\"ticks\":\"\",\"zerolinecolor\":\"white\",\"gridwidth\":2}},\"shapedefaults\":{\"line\":{\"color\":\"#2a3f5f\"}},\"annotationdefaults\":{\"arrowcolor\":\"#2a3f5f\",\"arrowhead\":0,\"arrowwidth\":1},\"geo\":{\"bgcolor\":\"white\",\"landcolor\":\"#E5ECF6\",\"subunitcolor\":\"white\",\"showland\":true,\"showlakes\":true,\"lakecolor\":\"white\"},\"title\":{\"x\":0.05},\"mapbox\":{\"style\":\"light\"}}}},                        {\"responsive\": true}                    ).then(function(){\n",
       "                            \n",
       "var gd = document.getElementById('639c7aed-ac85-4672-9edc-9751e641f83f');\n",
       "var x = new MutationObserver(function (mutations, observer) {{\n",
       "        var display = window.getComputedStyle(gd).display;\n",
       "        if (!display || display === 'none') {{\n",
       "            console.log([gd, 'removed!']);\n",
       "            Plotly.purge(gd);\n",
       "            observer.disconnect();\n",
       "        }}\n",
       "}});\n",
       "\n",
       "// Listen for the removal of the full notebook cells\n",
       "var notebookContainer = gd.closest('#notebook-container');\n",
       "if (notebookContainer) {{\n",
       "    x.observe(notebookContainer, {childList: true});\n",
       "}}\n",
       "\n",
       "// Listen for the clearing of the current output cell\n",
       "var outputEl = gd.closest('.output');\n",
       "if (outputEl) {{\n",
       "    x.observe(outputEl, {childList: true});\n",
       "}}\n",
       "\n",
       "                        })                };                });            </script>        </div>"
      ]
     },
     "metadata": {},
     "output_type": "display_data"
    },
    {
     "data": {
      "text/plain": [
       "'BoxPlot.html'"
      ]
     },
     "execution_count": 229,
     "metadata": {},
     "output_type": "execute_result"
    }
   ],
   "source": [
    "# Comparing the distribution of the data:\n",
    "data = [\n",
    "    go.Box(\n",
    "        y=shipmantimes[\"Comparison\"],\n",
    "        name='Comparion GPs'\n",
    "    ),\n",
    "    go.Box(\n",
    "        y=shipmantimes[\"Shipman\"],\n",
    "        name='Harold Shipman'\n",
    "    )\n",
    "]\n",
    "layout = go.Layout(\n",
    "    title = \"Comparison of Harold and other practitioner<br>\\\n",
    "    patient's death time\"\n",
    ")\n",
    "fig = go.Figure(data=data, layout=layout)\n",
    "fig.show()\n",
    "pyo.plot(fig, filename='BoxPlot.html')"
   ]
  },
  {
   "cell_type": "markdown",
   "id": "f872d6dd",
   "metadata": {},
   "source": [
    "Two outliers in case of Harold Shipman for 14.1 and 13 hours"
   ]
  },
  {
   "cell_type": "markdown",
   "id": "194168ee",
   "metadata": {},
   "source": [
    " _ _ _ _ _ _ _  _"
   ]
  }
 ],
 "metadata": {
  "kernelspec": {
   "display_name": "Python 3",
   "language": "python",
   "name": "python3"
  },
  "language_info": {
   "codemirror_mode": {
    "name": "ipython",
    "version": 3
   },
   "file_extension": ".py",
   "mimetype": "text/x-python",
   "name": "python",
   "nbconvert_exporter": "python",
   "pygments_lexer": "ipython3",
   "version": "3.6.13"
  }
 },
 "nbformat": 4,
 "nbformat_minor": 5
}
